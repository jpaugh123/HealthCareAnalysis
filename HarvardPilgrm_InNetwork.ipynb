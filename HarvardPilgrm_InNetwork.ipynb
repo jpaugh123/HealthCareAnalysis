{
  "cells": [
    {
      "cell_type": "code",
      "execution_count": null,
      "metadata": {
        "id": "tMtLdp0LvZTS"
      },
      "outputs": [],
      "source": [
        "import json\n",
        "import numpy as np\n",
        "import pandas as pd"
      ]
    },
    {
      "cell_type": "code",
      "execution_count": null,
      "metadata": {
        "id": "5S9aFAHhvFsH"
      },
      "outputs": [],
      "source": [
        "from google.colab import drive"
      ]
    },
    {
      "cell_type": "code",
      "execution_count": null,
      "metadata": {
        "colab": {
          "base_uri": "https://localhost:8080/"
        },
        "id": "mNp4HWXwvbtH",
        "outputId": "8fb89988-d992-48ba-a882-af9644900769"
      },
      "outputs": [
        {
          "output_type": "stream",
          "name": "stdout",
          "text": [
            "Mounted at /content/gdrive\n"
          ]
        }
      ],
      "source": [
        "drive.mount('/content/gdrive')"
      ]
    },
    {
      "cell_type": "markdown",
      "metadata": {
        "id": "eQzovwg957-T"
      },
      "source": [
        "# In network rates file\n",
        "/content/gdrive/MyDrive/HarvPil/2023-02-01_A077-FS_in-network-rates.json\n",
        "\n",
        "https://github.com/CMSgov/price-transparency-guide/tree/master/schemas/in-network-rates"
      ]
    },
    {
      "cell_type": "code",
      "execution_count": null,
      "metadata": {
        "id": "Dr8xzwbj6Ffb"
      },
      "outputs": [],
      "source": [
        "f_in_network = open(\"/content/gdrive/MyDrive/HarvPil/2023-02-01_A077-FS_in-network-rates.json\", \"r\")"
      ]
    },
    {
      "cell_type": "code",
      "execution_count": null,
      "metadata": {
        "id": "NSzWuh1K6Dit"
      },
      "outputs": [],
      "source": [
        "json_in_network = json.loads(f_in_network.read())"
      ]
    },
    {
      "cell_type": "markdown",
      "metadata": {
        "id": "d5lg6lJM11HY"
      },
      "source": [
        "# in network file - parse fully\n",
        "\n",
        "\n",
        "\n",
        "https://github.com/CMSgov/price-transparency-guide/tree/master/schemas/in-network-rates\n",
        "\n",
        "To view JSON data:\n",
        "https://jsonviewer.stack.hu/"
      ]
    },
    {
      "cell_type": "markdown",
      "source": [
        "### create a dictionary of provider references for usage"
      ],
      "metadata": {
        "id": "MA7UjX1dY6gM"
      }
    },
    {
      "cell_type": "code",
      "source": [
        "dict_in_network_providers  = dict()\n",
        "for i in range (0, len(json_in_network[\"provider_references\"])):\n",
        "  provider_reference_item = json_in_network[\"provider_references\"][i]\n",
        "  dict_in_network_providers[provider_reference_item[\"provider_group_id\"]] = provider_reference_item[\"location\"]"
      ],
      "metadata": {
        "id": "gIxe3SmaY53o"
      },
      "execution_count": null,
      "outputs": []
    },
    {
      "cell_type": "code",
      "source": [
        "len(json_in_network[\"provider_references\"])"
      ],
      "metadata": {
        "colab": {
          "base_uri": "https://localhost:8080/"
        },
        "id": "9otRsjS5aoiW",
        "outputId": "6d352846-6ecd-452b-ecd5-195577d614f6"
      },
      "execution_count": null,
      "outputs": [
        {
          "output_type": "execute_result",
          "data": {
            "text/plain": [
              "588"
            ]
          },
          "metadata": {},
          "execution_count": 7
        }
      ]
    },
    {
      "cell_type": "code",
      "source": [
        "### create a dataset out of the file"
      ],
      "metadata": {
        "id": "XDECEyTIdHZo"
      },
      "execution_count": null,
      "outputs": []
    },
    {
      "cell_type": "code",
      "source": [
        "list_reporting_entity_name = []\n",
        "list_reporting_entity_type = []\n",
        "list_last_updated_on = []\n",
        "list_version = []\n",
        "list_negotiation_arrangement = []\n",
        "list_name = []\n",
        "list_billing_code_type = []\n",
        "list_billing_code_type_version = []\n",
        "list_billing_code = []\n",
        "list_description = []\n",
        "list_negotiated_type = []\n",
        "list_negotiated_rate = []\n",
        "list_expiration_date = []\n",
        "list_billing_class = []\n",
        "list_additional_information = []\n",
        "list_provider_group_id = []\n",
        "\n",
        "count = 0\n",
        "dict_in_network  = dict()\n",
        "dict_in_network[\"reporting_entity_name\"] = json_in_network[\"reporting_entity_name\"]\n",
        "dict_in_network[\"reporting_entity_type\"] = json_in_network[\"reporting_entity_type\"]\n",
        "dict_in_network[\"last_updated_on\"] = json_in_network[\"last_updated_on\"]\n",
        "dict_in_network[\"version\"] = json_in_network[\"version\"]\n",
        "\n",
        "for j in range (0, len(json_in_network[\"in_network\"])):\n",
        "  in_network_item = json_in_network[\"in_network\"][j]\n",
        "  dict_in_network[\"negotiation_arrangement\"] = in_network_item[\"negotiation_arrangement\"]\n",
        "  dict_in_network[\"name\"] = in_network_item[\"name\"]\n",
        "  dict_in_network[\"billing_code_type\"] = in_network_item[\"billing_code_type\"]\n",
        "  dict_in_network[\"billing_code_type_version\"] = in_network_item[\"billing_code_type_version\"]\n",
        "  dict_in_network[\"billing_code\"] = in_network_item[\"billing_code\"]\n",
        "  dict_in_network[\"description\"] = in_network_item[\"description\"]\n",
        "  for c_nr in range(0, len(in_network_item[\"negotiated_rates\"])):\n",
        "    negotiated_rate_item = in_network_item[\"negotiated_rates\"][c_nr]\n",
        "\n",
        "    for c_np in range(0, len(negotiated_rate_item[\"negotiated_prices\"])):\n",
        "      negotiated_prices_item = negotiated_rate_item[\"negotiated_prices\"][c_np]\n",
        "      dict_in_network[\"negotiated_type\"] = negotiated_prices_item[\"negotiated_type\"]\n",
        "      dict_in_network[\"negotiated_rate\"] = negotiated_prices_item[\"negotiated_rate\"]\n",
        "      dict_in_network[\"expiration_date\"] = negotiated_prices_item[\"expiration_date\"]\n",
        "      if (\"service_code\" in dict_in_network):\n",
        "        dict_in_network[\"service_code\"] = negotiated_prices_item[\"service_code\"]\n",
        "      else :\n",
        "        dict_in_network[\"service_code\"] = \"\"\n",
        "      dict_in_network[\"billing_class\"] = negotiated_prices_item[\"billing_class\"]\n",
        "      if \"additional_information\" in negotiated_prices_item:\n",
        "        dict_in_network[\"additional_information\"] = negotiated_prices_item[\"additional_information\"]\n",
        "      else :\n",
        "        dict_in_network[\"additional_information\"] = \"\"\n",
        "      if (\"provider_references\" in negotiated_rate_item):\n",
        "        for c_pr in range(0, len(negotiated_rate_item[\"provider_references\"])):\n",
        "          dict_in_network[\"provider_group_id\"] = negotiated_rate_item[\"provider_references\"][c_pr]\n",
        "          #print(dict_in_network)\n",
        "          count = count + 1\n",
        "\n",
        "          # add the row\n",
        "          list_reporting_entity_name.append(dict_in_network[\"reporting_entity_name\"])\n",
        "          list_reporting_entity_type.append(dict_in_network[\"reporting_entity_type\"])\n",
        "          list_last_updated_on.append(dict_in_network[\"last_updated_on\"])\n",
        "          list_version.append(dict_in_network[\"version\"])\n",
        "          list_negotiation_arrangement.append(dict_in_network[\"negotiation_arrangement\"])\n",
        "          list_name.append(dict_in_network[\"name\"])\n",
        "          list_billing_code_type.append(dict_in_network[\"billing_code_type\"])\n",
        "          list_billing_code_type_version.append(dict_in_network[\"billing_code_type_version\"])\n",
        "          list_billing_code.append(dict_in_network[\"billing_code\"])\n",
        "          list_description.append(dict_in_network[\"description\"])\n",
        "          list_negotiated_type.append(dict_in_network[\"negotiated_type\"])\n",
        "          list_negotiated_rate.append(dict_in_network[\"negotiated_rate\"])\n",
        "          list_expiration_date.append(dict_in_network[\"expiration_date\"])\n",
        "          list_billing_class.append(dict_in_network[\"billing_class\"])\n",
        "          list_additional_information.append(dict_in_network[\"additional_information\"])\n",
        "          list_provider_group_id.append(dict_in_network[\"provider_group_id\"])\n",
        "\n",
        "print(count)"
      ],
      "metadata": {
        "colab": {
          "base_uri": "https://localhost:8080/"
        },
        "id": "-eX5360PdPct",
        "outputId": "08398212-ecae-4e98-d888-0e55665eb1b7"
      },
      "execution_count": null,
      "outputs": [
        {
          "output_type": "stream",
          "name": "stdout",
          "text": [
            "10226340\n"
          ]
        }
      ]
    },
    {
      "cell_type": "code",
      "source": [
        "del json_in_network"
      ],
      "metadata": {
        "id": "l8nra1ETrR-J"
      },
      "execution_count": null,
      "outputs": []
    },
    {
      "cell_type": "code",
      "source": [
        "import gc\n",
        "\n",
        "gc.collect()"
      ],
      "metadata": {
        "colab": {
          "base_uri": "https://localhost:8080/"
        },
        "id": "xvvS8jO8rZym",
        "outputId": "1042487b-4f6f-4623-acb6-27efc52aad30"
      },
      "execution_count": null,
      "outputs": [
        {
          "output_type": "execute_result",
          "data": {
            "text/plain": [
              "0"
            ]
          },
          "metadata": {},
          "execution_count": 10
        }
      ]
    },
    {
      "cell_type": "markdown",
      "source": [
        "### create a dataframe using the lists of data"
      ],
      "metadata": {
        "id": "qKF1mJm0ljRD"
      }
    },
    {
      "cell_type": "code",
      "source": [
        "df = pd.DataFrame(list(zip(list_reporting_entity_name, list_reporting_entity_type,list_last_updated_on, list_version, list_negotiation_arrangement, list_name, list_billing_code_type, list_billing_code_type_version, list_billing_code, list_description, list_negotiated_type, list_negotiated_rate, list_expiration_date, list_billing_class, list_additional_information, list_provider_group_id)),\n",
        "                           columns = [\"ReportingEntityName\", \"ReportingEntityType\",\"LastUpdated\",\"Version\",\"Negotiation_Arrangement\",\"Name\",\"BillingCodeType\",\"BillingCodeTypeVersion\",\"BillingCode\",\"Description\",\"NegotiatedType\",\"NegotiatedRate\",\"ExpirationDate\",\"BillingClass\",\"AdditionalInformation\",\"ProviderGroupId\" ])"
      ],
      "metadata": {
        "id": "N6LYCsyDlfK1"
      },
      "execution_count": null,
      "outputs": []
    },
    {
      "cell_type": "markdown",
      "source": [
        "10979215402 is 1.09 GB of data"
      ],
      "metadata": {
        "id": "F23gblIfr7v4"
      }
    },
    {
      "cell_type": "code",
      "source": [
        "import sys\n",
        "sys.getsizeof(df)"
      ],
      "metadata": {
        "colab": {
          "base_uri": "https://localhost:8080/"
        },
        "id": "lKi0mFYFrpT9",
        "outputId": "4563126f-2712-4f27-9226-fb90f32e28f3"
      },
      "execution_count": null,
      "outputs": [
        {
          "output_type": "execute_result",
          "data": {
            "text/plain": [
              "10979215402"
            ]
          },
          "metadata": {},
          "execution_count": 12
        }
      ]
    },
    {
      "cell_type": "code",
      "source": [
        "df.head()"
      ],
      "metadata": {
        "colab": {
          "base_uri": "https://localhost:8080/",
          "height": 617
        },
        "id": "a5KVBexbsB90",
        "outputId": "5391251c-b200-4057-f93a-c848d48df384"
      },
      "execution_count": null,
      "outputs": [
        {
          "output_type": "execute_result",
          "data": {
            "text/plain": [
              "                ReportingEntityName        ReportingEntityType LastUpdated  \\\n",
              "0  Harvard Pilgrim Health Care Inc.  THIRD PARTY ADMINISTRATOR  2023-02-03   \n",
              "1  Harvard Pilgrim Health Care Inc.  THIRD PARTY ADMINISTRATOR  2023-02-03   \n",
              "2  Harvard Pilgrim Health Care Inc.  THIRD PARTY ADMINISTRATOR  2023-02-03   \n",
              "3  Harvard Pilgrim Health Care Inc.  THIRD PARTY ADMINISTRATOR  2023-02-03   \n",
              "4  Harvard Pilgrim Health Care Inc.  THIRD PARTY ADMINISTRATOR  2023-02-03   \n",
              "\n",
              "  Version Negotiation_Arrangement                          Name  \\\n",
              "0   1.3.1                     ffs  ADM SARSCOV2 30MCG/0.3ML 1ST   \n",
              "1   1.3.1                     ffs  ADM SARSCOV2 30MCG/0.3ML 1ST   \n",
              "2   1.3.1                     ffs  ADM SARSCOV2 30MCG/0.3ML 1ST   \n",
              "3   1.3.1                     ffs  ADM SARSCOV2 30MCG/0.3ML 1ST   \n",
              "4   1.3.1                     ffs  ADM SARSCOV2 30MCG/0.3ML 1ST   \n",
              "\n",
              "  BillingCodeType BillingCodeTypeVersion BillingCode  \\\n",
              "0             CPT                   2023       0001A   \n",
              "1             CPT                   2023       0001A   \n",
              "2             CPT                   2023       0001A   \n",
              "3             CPT                   2023       0001A   \n",
              "4             CPT                   2023       0001A   \n",
              "\n",
              "                                         Description NegotiatedType  \\\n",
              "0  IMMUNIZATION ADMINISTRATION BY INTRAMUSCULAR I...   fee schedule   \n",
              "1  IMMUNIZATION ADMINISTRATION BY INTRAMUSCULAR I...   fee schedule   \n",
              "2  IMMUNIZATION ADMINISTRATION BY INTRAMUSCULAR I...   fee schedule   \n",
              "3  IMMUNIZATION ADMINISTRATION BY INTRAMUSCULAR I...   fee schedule   \n",
              "4  IMMUNIZATION ADMINISTRATION BY INTRAMUSCULAR I...   fee schedule   \n",
              "\n",
              "   NegotiatedRate ExpirationDate  BillingClass AdditionalInformation  \\\n",
              "0           32.62     9999-12-31  professional                         \n",
              "1           32.62     9999-12-31  professional                         \n",
              "2           32.62     9999-12-31  professional                         \n",
              "3           32.62     9999-12-31  professional                         \n",
              "4           32.62     9999-12-31  professional                         \n",
              "\n",
              "   ProviderGroupId  \n",
              "0             8993  \n",
              "1             8937  \n",
              "2             8940  \n",
              "3             8752  \n",
              "4             8890  "
            ],
            "text/html": [
              "\n",
              "  <div id=\"df-77599a07-d952-47c0-95db-2312ca331b95\">\n",
              "    <div class=\"colab-df-container\">\n",
              "      <div>\n",
              "<style scoped>\n",
              "    .dataframe tbody tr th:only-of-type {\n",
              "        vertical-align: middle;\n",
              "    }\n",
              "\n",
              "    .dataframe tbody tr th {\n",
              "        vertical-align: top;\n",
              "    }\n",
              "\n",
              "    .dataframe thead th {\n",
              "        text-align: right;\n",
              "    }\n",
              "</style>\n",
              "<table border=\"1\" class=\"dataframe\">\n",
              "  <thead>\n",
              "    <tr style=\"text-align: right;\">\n",
              "      <th></th>\n",
              "      <th>ReportingEntityName</th>\n",
              "      <th>ReportingEntityType</th>\n",
              "      <th>LastUpdated</th>\n",
              "      <th>Version</th>\n",
              "      <th>Negotiation_Arrangement</th>\n",
              "      <th>Name</th>\n",
              "      <th>BillingCodeType</th>\n",
              "      <th>BillingCodeTypeVersion</th>\n",
              "      <th>BillingCode</th>\n",
              "      <th>Description</th>\n",
              "      <th>NegotiatedType</th>\n",
              "      <th>NegotiatedRate</th>\n",
              "      <th>ExpirationDate</th>\n",
              "      <th>BillingClass</th>\n",
              "      <th>AdditionalInformation</th>\n",
              "      <th>ProviderGroupId</th>\n",
              "    </tr>\n",
              "  </thead>\n",
              "  <tbody>\n",
              "    <tr>\n",
              "      <th>0</th>\n",
              "      <td>Harvard Pilgrim Health Care Inc.</td>\n",
              "      <td>THIRD PARTY ADMINISTRATOR</td>\n",
              "      <td>2023-02-03</td>\n",
              "      <td>1.3.1</td>\n",
              "      <td>ffs</td>\n",
              "      <td>ADM SARSCOV2 30MCG/0.3ML 1ST</td>\n",
              "      <td>CPT</td>\n",
              "      <td>2023</td>\n",
              "      <td>0001A</td>\n",
              "      <td>IMMUNIZATION ADMINISTRATION BY INTRAMUSCULAR I...</td>\n",
              "      <td>fee schedule</td>\n",
              "      <td>32.62</td>\n",
              "      <td>9999-12-31</td>\n",
              "      <td>professional</td>\n",
              "      <td></td>\n",
              "      <td>8993</td>\n",
              "    </tr>\n",
              "    <tr>\n",
              "      <th>1</th>\n",
              "      <td>Harvard Pilgrim Health Care Inc.</td>\n",
              "      <td>THIRD PARTY ADMINISTRATOR</td>\n",
              "      <td>2023-02-03</td>\n",
              "      <td>1.3.1</td>\n",
              "      <td>ffs</td>\n",
              "      <td>ADM SARSCOV2 30MCG/0.3ML 1ST</td>\n",
              "      <td>CPT</td>\n",
              "      <td>2023</td>\n",
              "      <td>0001A</td>\n",
              "      <td>IMMUNIZATION ADMINISTRATION BY INTRAMUSCULAR I...</td>\n",
              "      <td>fee schedule</td>\n",
              "      <td>32.62</td>\n",
              "      <td>9999-12-31</td>\n",
              "      <td>professional</td>\n",
              "      <td></td>\n",
              "      <td>8937</td>\n",
              "    </tr>\n",
              "    <tr>\n",
              "      <th>2</th>\n",
              "      <td>Harvard Pilgrim Health Care Inc.</td>\n",
              "      <td>THIRD PARTY ADMINISTRATOR</td>\n",
              "      <td>2023-02-03</td>\n",
              "      <td>1.3.1</td>\n",
              "      <td>ffs</td>\n",
              "      <td>ADM SARSCOV2 30MCG/0.3ML 1ST</td>\n",
              "      <td>CPT</td>\n",
              "      <td>2023</td>\n",
              "      <td>0001A</td>\n",
              "      <td>IMMUNIZATION ADMINISTRATION BY INTRAMUSCULAR I...</td>\n",
              "      <td>fee schedule</td>\n",
              "      <td>32.62</td>\n",
              "      <td>9999-12-31</td>\n",
              "      <td>professional</td>\n",
              "      <td></td>\n",
              "      <td>8940</td>\n",
              "    </tr>\n",
              "    <tr>\n",
              "      <th>3</th>\n",
              "      <td>Harvard Pilgrim Health Care Inc.</td>\n",
              "      <td>THIRD PARTY ADMINISTRATOR</td>\n",
              "      <td>2023-02-03</td>\n",
              "      <td>1.3.1</td>\n",
              "      <td>ffs</td>\n",
              "      <td>ADM SARSCOV2 30MCG/0.3ML 1ST</td>\n",
              "      <td>CPT</td>\n",
              "      <td>2023</td>\n",
              "      <td>0001A</td>\n",
              "      <td>IMMUNIZATION ADMINISTRATION BY INTRAMUSCULAR I...</td>\n",
              "      <td>fee schedule</td>\n",
              "      <td>32.62</td>\n",
              "      <td>9999-12-31</td>\n",
              "      <td>professional</td>\n",
              "      <td></td>\n",
              "      <td>8752</td>\n",
              "    </tr>\n",
              "    <tr>\n",
              "      <th>4</th>\n",
              "      <td>Harvard Pilgrim Health Care Inc.</td>\n",
              "      <td>THIRD PARTY ADMINISTRATOR</td>\n",
              "      <td>2023-02-03</td>\n",
              "      <td>1.3.1</td>\n",
              "      <td>ffs</td>\n",
              "      <td>ADM SARSCOV2 30MCG/0.3ML 1ST</td>\n",
              "      <td>CPT</td>\n",
              "      <td>2023</td>\n",
              "      <td>0001A</td>\n",
              "      <td>IMMUNIZATION ADMINISTRATION BY INTRAMUSCULAR I...</td>\n",
              "      <td>fee schedule</td>\n",
              "      <td>32.62</td>\n",
              "      <td>9999-12-31</td>\n",
              "      <td>professional</td>\n",
              "      <td></td>\n",
              "      <td>8890</td>\n",
              "    </tr>\n",
              "  </tbody>\n",
              "</table>\n",
              "</div>\n",
              "      <button class=\"colab-df-convert\" onclick=\"convertToInteractive('df-77599a07-d952-47c0-95db-2312ca331b95')\"\n",
              "              title=\"Convert this dataframe to an interactive table.\"\n",
              "              style=\"display:none;\">\n",
              "        \n",
              "  <svg xmlns=\"http://www.w3.org/2000/svg\" height=\"24px\"viewBox=\"0 0 24 24\"\n",
              "       width=\"24px\">\n",
              "    <path d=\"M0 0h24v24H0V0z\" fill=\"none\"/>\n",
              "    <path d=\"M18.56 5.44l.94 2.06.94-2.06 2.06-.94-2.06-.94-.94-2.06-.94 2.06-2.06.94zm-11 1L8.5 8.5l.94-2.06 2.06-.94-2.06-.94L8.5 2.5l-.94 2.06-2.06.94zm10 10l.94 2.06.94-2.06 2.06-.94-2.06-.94-.94-2.06-.94 2.06-2.06.94z\"/><path d=\"M17.41 7.96l-1.37-1.37c-.4-.4-.92-.59-1.43-.59-.52 0-1.04.2-1.43.59L10.3 9.45l-7.72 7.72c-.78.78-.78 2.05 0 2.83L4 21.41c.39.39.9.59 1.41.59.51 0 1.02-.2 1.41-.59l7.78-7.78 2.81-2.81c.8-.78.8-2.07 0-2.86zM5.41 20L4 18.59l7.72-7.72 1.47 1.35L5.41 20z\"/>\n",
              "  </svg>\n",
              "      </button>\n",
              "      \n",
              "  <style>\n",
              "    .colab-df-container {\n",
              "      display:flex;\n",
              "      flex-wrap:wrap;\n",
              "      gap: 12px;\n",
              "    }\n",
              "\n",
              "    .colab-df-convert {\n",
              "      background-color: #E8F0FE;\n",
              "      border: none;\n",
              "      border-radius: 50%;\n",
              "      cursor: pointer;\n",
              "      display: none;\n",
              "      fill: #1967D2;\n",
              "      height: 32px;\n",
              "      padding: 0 0 0 0;\n",
              "      width: 32px;\n",
              "    }\n",
              "\n",
              "    .colab-df-convert:hover {\n",
              "      background-color: #E2EBFA;\n",
              "      box-shadow: 0px 1px 2px rgba(60, 64, 67, 0.3), 0px 1px 3px 1px rgba(60, 64, 67, 0.15);\n",
              "      fill: #174EA6;\n",
              "    }\n",
              "\n",
              "    [theme=dark] .colab-df-convert {\n",
              "      background-color: #3B4455;\n",
              "      fill: #D2E3FC;\n",
              "    }\n",
              "\n",
              "    [theme=dark] .colab-df-convert:hover {\n",
              "      background-color: #434B5C;\n",
              "      box-shadow: 0px 1px 3px 1px rgba(0, 0, 0, 0.15);\n",
              "      filter: drop-shadow(0px 1px 2px rgba(0, 0, 0, 0.3));\n",
              "      fill: #FFFFFF;\n",
              "    }\n",
              "  </style>\n",
              "\n",
              "      <script>\n",
              "        const buttonEl =\n",
              "          document.querySelector('#df-77599a07-d952-47c0-95db-2312ca331b95 button.colab-df-convert');\n",
              "        buttonEl.style.display =\n",
              "          google.colab.kernel.accessAllowed ? 'block' : 'none';\n",
              "\n",
              "        async function convertToInteractive(key) {\n",
              "          const element = document.querySelector('#df-77599a07-d952-47c0-95db-2312ca331b95');\n",
              "          const dataTable =\n",
              "            await google.colab.kernel.invokeFunction('convertToInteractive',\n",
              "                                                     [key], {});\n",
              "          if (!dataTable) return;\n",
              "\n",
              "          const docLinkHtml = 'Like what you see? Visit the ' +\n",
              "            '<a target=\"_blank\" href=https://colab.research.google.com/notebooks/data_table.ipynb>data table notebook</a>'\n",
              "            + ' to learn more about interactive tables.';\n",
              "          element.innerHTML = '';\n",
              "          dataTable['output_type'] = 'display_data';\n",
              "          await google.colab.output.renderOutput(dataTable, element);\n",
              "          const docLink = document.createElement('div');\n",
              "          docLink.innerHTML = docLinkHtml;\n",
              "          element.appendChild(docLink);\n",
              "        }\n",
              "      </script>\n",
              "    </div>\n",
              "  </div>\n",
              "  "
            ]
          },
          "metadata": {},
          "execution_count": 13
        }
      ]
    },
    {
      "cell_type": "markdown",
      "source": [],
      "metadata": {
        "id": "eZCAjWKQoFOk"
      }
    },
    {
      "cell_type": "markdown",
      "source": [
        "13,788 treatments"
      ],
      "metadata": {
        "id": "qzDBdigE2B5s"
      }
    },
    {
      "cell_type": "code",
      "source": [
        "df.BillingCode.value_counts()"
      ],
      "metadata": {
        "colab": {
          "base_uri": "https://localhost:8080/"
        },
        "id": "7rE9wUB32GRh",
        "outputId": "f1628827-c114-4924-b23d-a4dfc0cc0e8f"
      },
      "execution_count": null,
      "outputs": [
        {
          "output_type": "execute_result",
          "data": {
            "text/plain": [
              "77301    1757\n",
              "77778    1757\n",
              "77763    1757\n",
              "93620    1750\n",
              "95965    1750\n",
              "         ... \n",
              "B4104       1\n",
              "B4103       1\n",
              "B4102       1\n",
              "B4035       1\n",
              "B4153       1\n",
              "Name: BillingCode, Length: 13788, dtype: int64"
            ]
          },
          "metadata": {},
          "execution_count": 14
        }
      ]
    },
    {
      "cell_type": "markdown",
      "source": [
        "11,851 names"
      ],
      "metadata": {
        "id": "mBg_4deI2OXj"
      }
    },
    {
      "cell_type": "code",
      "source": [
        "df.Name.value_counts()"
      ],
      "metadata": {
        "colab": {
          "base_uri": "https://localhost:8080/"
        },
        "id": "lY4UuEW3sLRv",
        "outputId": "2910ab40-9002-470e-c021-8a4e52079759"
      },
      "execution_count": null,
      "outputs": [
        {
          "output_type": "execute_result",
          "data": {
            "text/plain": [
              "DESTRUCTION OF SKIN LESIONS            24333\n",
              "TREAT HUMERUS FRACTURE                 20880\n",
              "CYSTOSCOPY AND TREATMENT               17983\n",
              "REPAIR EYELID DEFECT                   15070\n",
              "REPAIR BLOOD VESSEL LESION             14525\n",
              "                                       ...  \n",
              "EF SPEC METABOLIC NONINHERIT               1\n",
              "ENTRAL F NUTRITN INCMPL/MOD NUTRNTS        1\n",
              "EF SPECIAL METABOLIC INHERIT               1\n",
              "EF PED COMPLETE INTACT NUT                 1\n",
              "EF HYDROLYZED/AMINO ACIDS                  1\n",
              "Name: Name, Length: 11851, dtype: int64"
            ]
          },
          "metadata": {},
          "execution_count": 15
        }
      ]
    },
    {
      "cell_type": "code",
      "source": [
        "df.ProviderGroupId.value_counts()"
      ],
      "metadata": {
        "colab": {
          "base_uri": "https://localhost:8080/"
        },
        "id": "dU9661Mv1zQm",
        "outputId": "4c8d5c6b-9fb7-435e-c6d6-179176c7418f"
      },
      "execution_count": null,
      "outputs": [
        {
          "output_type": "execute_result",
          "data": {
            "text/plain": [
              "8703    17703\n",
              "8919    17674\n",
              "9076    17674\n",
              "8915    17674\n",
              "8806    17672\n",
              "        ...  \n",
              "8778      165\n",
              "8963       47\n",
              "6400        6\n",
              "8813        2\n",
              "8815        2\n",
              "Name: ProviderGroupId, Length: 588, dtype: int64"
            ]
          },
          "metadata": {},
          "execution_count": 16
        }
      ]
    },
    {
      "cell_type": "markdown",
      "source": [
        "### build a model to predict the price based on the billing code, provider_group_id, anything else?"
      ],
      "metadata": {
        "id": "LwPURGLt3Qhx"
      }
    },
    {
      "cell_type": "code",
      "source": [
        "X = df[df['NegotiatedType'] == 'fee schedule']"
      ],
      "metadata": {
        "id": "FrjPA1113tP_"
      },
      "execution_count": null,
      "outputs": []
    },
    {
      "cell_type": "code",
      "source": [
        "X = X[X['Negotiation_Arrangement'] == 'ffs']"
      ],
      "metadata": {
        "id": "TARr18i94i46"
      },
      "execution_count": null,
      "outputs": []
    },
    {
      "cell_type": "code",
      "source": [
        "X = X[X['BillingClass'] == 'professional']"
      ],
      "metadata": {
        "id": "HxjNMhjW4-Ml"
      },
      "execution_count": null,
      "outputs": []
    },
    {
      "cell_type": "code",
      "source": [
        "len(df)"
      ],
      "metadata": {
        "colab": {
          "base_uri": "https://localhost:8080/"
        },
        "id": "NvO04MAp5FtQ",
        "outputId": "df447dab-6623-46ac-bbe1-11caf514e34b"
      },
      "execution_count": null,
      "outputs": [
        {
          "output_type": "execute_result",
          "data": {
            "text/plain": [
              "10226340"
            ]
          },
          "metadata": {},
          "execution_count": 20
        }
      ]
    },
    {
      "cell_type": "code",
      "source": [
        "len(X)"
      ],
      "metadata": {
        "colab": {
          "base_uri": "https://localhost:8080/"
        },
        "id": "B7iJTf365CaF",
        "outputId": "afdac511-1edc-4b99-9b54-c34d6b2509e9"
      },
      "execution_count": null,
      "outputs": [
        {
          "output_type": "execute_result",
          "data": {
            "text/plain": [
              "10226340"
            ]
          },
          "metadata": {},
          "execution_count": 21
        }
      ]
    },
    {
      "cell_type": "code",
      "source": [
        "df.Name.unique()"
      ],
      "metadata": {
        "colab": {
          "base_uri": "https://localhost:8080/"
        },
        "id": "3JftIUp6reTJ",
        "outputId": "5fb3c759-bda9-4f9d-d78e-6cabfdfbadb5"
      },
      "execution_count": null,
      "outputs": [
        {
          "output_type": "execute_result",
          "data": {
            "text/plain": [
              "array(['ADM SARSCOV2 30MCG/0.3ML 1ST', 'RBC DNA HEA 35 AG 11 BLD GRP',\n",
              "       'ADM SARSCOV2 30MCG/0.3ML 2ND', ...,\n",
              "       'LENS, 1.54-1.65 P/1.60-1.79G', 'LENS, >= 1.66 P/>=1.80 G',\n",
              "       'LENS POLYCARB OR EQUAL'], dtype=object)"
            ]
          },
          "metadata": {},
          "execution_count": 22
        }
      ]
    },
    {
      "cell_type": "code",
      "source": [
        "res = [i for i in df.Name.unique() if \"IMMUNIZATION\" in i]\n",
        "res"
      ],
      "metadata": {
        "colab": {
          "base_uri": "https://localhost:8080/"
        },
        "id": "kVm5_wqutBCm",
        "outputId": "844fdaa3-3565-4688-cafa-d9b7032f9743"
      },
      "execution_count": null,
      "outputs": [
        {
          "output_type": "execute_result",
          "data": {
            "text/plain": [
              "['IMMUNIZATION ADMIN', 'IMMUNIZATION ADMIN EACH ADD']"
            ]
          },
          "metadata": {},
          "execution_count": 23
        }
      ]
    },
    {
      "cell_type": "code",
      "source": [
        "res = [i for i in df.Name.unique() if \"SURGICAL\" in i]\n",
        "res"
      ],
      "metadata": {
        "id": "de6cGJRk4erQ",
        "colab": {
          "base_uri": "https://localhost:8080/"
        },
        "outputId": "ae9aec9e-c293-4866-8af7-e93d49deabee"
      },
      "execution_count": null,
      "outputs": [
        {
          "output_type": "execute_result",
          "data": {
            "text/plain": [
              "['SURGICAL OPENING OF THROAT',\n",
              " 'SURGICAL OPENING ESOPHAGUS',\n",
              " 'SURGICAL OPENING OF STOMACH',\n",
              " 'SURGICAL REPAIR OF STOMACH',\n",
              " 'SURGICAL REVISION INTESTINE',\n",
              " 'SURGICAL EXPOSURE PROSTATE',\n",
              " 'X-RAY EXAM SURGICAL SPECIMEN',\n",
              " 'SURGICAL PATH GROSS',\n",
              " 'SURGICAL DRESS HOLDER REUSE',\n",
              " 'ABOVE KNEE SURGICAL STOCKING',\n",
              " 'BELOW KNEE SURGICAL STOCKING',\n",
              " 'SURGICAL STOCKING FULL-LENGTH EACH',\n",
              " 'SURGICAL MASK',\n",
              " 'SURGICAL PROCEDURE FOR ISOLATION OF TOOTH WITH RUBBER DAM',\n",
              " 'SURGICAL OBTURATOR',\n",
              " 'POSTSURGICAL OBTURATOR',\n",
              " 'SURGICAL STENT',\n",
              " 'SURGICAL SPLINT',\n",
              " 'RADIO/SURGICAL IMPLANT INDEX',\n",
              " 'SURGICAL REMOVAL OF ERUPTED TOOTH REQUIRING  REMOVAL OF BONE AND/OR SECTIONING  OF TOOTH,AND INCLUDING ELEVATION OF MUCOPERIOSTEAL FLAP IF INDICATED',\n",
              " 'LOCAL ANESTHESIA N0T IN CONJUNCTION WITH OPERATIVE OR SURGICAL PROCEDURES',\n",
              " 'SURGICAL BOOT EACH INFANT',\n",
              " 'SURGICAL BOOT EACH CHILD',\n",
              " 'SURGICAL BOOT EACH JUNIOR',\n",
              " 'AMBULATORY SURGICAL BOOT EAC']"
            ]
          },
          "metadata": {},
          "execution_count": 24
        }
      ]
    },
    {
      "cell_type": "markdown",
      "source": [
        "http://familycarepa.com/primary-care-price-listing/\n",
        "\n",
        "Listing of priamry care codes"
      ],
      "metadata": {
        "id": "Pz8IyUfAyOnY"
      }
    },
    {
      "cell_type": "code",
      "source": [
        "XPrimary = df[df['BillingCode'].isin(['99202', '99203','99204','99205','99212','99213','99214','99215','99391','99392','99393','99394','99395','99396' ])]"
      ],
      "metadata": {
        "id": "7Qpr0eguvYaT"
      },
      "execution_count": null,
      "outputs": []
    },
    {
      "cell_type": "code",
      "source": [
        "len(XPrimary)"
      ],
      "metadata": {
        "colab": {
          "base_uri": "https://localhost:8080/"
        },
        "id": "HZvXQEyJuyFO",
        "outputId": "8b440a66-2293-4c05-cd7f-6c2a970db99c"
      },
      "execution_count": null,
      "outputs": [
        {
          "output_type": "execute_result",
          "data": {
            "text/plain": [
              "16238"
            ]
          },
          "metadata": {},
          "execution_count": 26
        }
      ]
    },
    {
      "cell_type": "code",
      "source": [
        "XPrimary.ProviderGroupId.unique()"
      ],
      "metadata": {
        "colab": {
          "base_uri": "https://localhost:8080/"
        },
        "id": "6K6s5myOxhyx",
        "outputId": "f31033cf-6e06-4f20-a0d0-c12e0c3f96f7"
      },
      "execution_count": null,
      "outputs": [
        {
          "output_type": "execute_result",
          "data": {
            "text/plain": [
              "array([6397, 8579, 8677, 8413, 8483, 9163, 6346, 6393, 9113, 8870, 6340,\n",
              "       8832, 8482, 8522, 9115, 6403, 9086, 8877, 8622, 8871, 8436, 6333,\n",
              "       8541, 6314, 8981, 8819, 8437, 8954, 8794, 9112, 6427, 6315, 8699,\n",
              "       8860, 9138, 9137, 8878, 8736, 6435, 8748, 8684, 8534, 6431, 6327,\n",
              "       8916, 8448, 8998, 6334, 6335, 8474, 8872, 8722, 9095, 8769, 8745,\n",
              "       6425, 8463, 8937, 8750, 8473, 8710, 8650, 6356, 6353, 8716, 8709,\n",
              "       9105, 8797, 8708, 6313, 8717, 8785, 8428, 8793, 8651, 8441, 9156,\n",
              "       9100, 9089, 9030, 8949, 8789, 9084, 8659, 6396, 6395, 8754, 8654,\n",
              "       8880, 8982, 6433, 9136, 8935, 8818, 8532, 8879, 8955, 8849, 8933,\n",
              "       8450, 8401, 8576, 8890, 8753, 8993, 8994, 6428, 6316, 8838, 9139,\n",
              "       8557, 8533, 8897, 8744, 8721, 6377, 8735, 8451, 8655, 6436, 6350,\n",
              "       8480, 8575, 8827, 8432, 9010, 8695, 8661, 8800, 9008, 8685, 8875,\n",
              "       9087, 8720, 8449, 6432, 6328, 6308, 8917, 9067, 9020, 9022, 9106,\n",
              "       8938, 8749, 8704, 8839, 8563, 8462, 8682, 8836, 8475, 6336, 8560,\n",
              "       6337, 8653, 8561, 6391, 8723, 8731, 9023, 8511, 6421, 9109, 6317,\n",
              "       9064, 9047, 8741, 9034, 6357, 8743, 8481, 8739, 9091, 8491, 8656,\n",
              "       9044, 8404, 6415, 8729, 6354, 9144, 9093, 9070, 8718, 9164, 8516,\n",
              "       8415, 8414, 6360, 8536, 8775, 8493, 8991, 9165, 9127, 8913, 8787,\n",
              "       8962, 8795, 6384, 9094, 6389, 6345, 8658, 8806, 8657, 8652, 9088,\n",
              "       8455, 9033, 8788, 9031, 8950, 9085, 8891, 6409, 9099, 6423, 9006,\n",
              "       8742, 9068, 6387, 6434, 8876, 6404, 8936, 8530, 8504, 9057, 8940,\n",
              "       8559, 8884, 8840, 8531, 8509, 9135, 9151, 6307, 8934, 8752, 8858,\n",
              "       8538, 6329, 6362, 8552, 8885, 9000, 6429, 8760, 6374, 8995, 8837,\n",
              "       8660, 8468, 6344, 8558, 6325, 8535, 8796, 8964, 6361, 8873, 6376,\n",
              "       8689, 6358, 9003, 6341, 6430, 8408, 6351, 8433, 8403, 8763, 6338,\n",
              "       8543, 9133, 8696, 6416, 8707, 8679, 8801, 8572, 6414, 6401, 8719,\n",
              "       8478, 8515, 9155, 9021, 9386, 9066, 8939, 8751, 8513, 8514, 8683,\n",
              "       6310, 6392, 8730, 8546, 8705, 8477, 8966, 6309, 9098, 8732, 8671,\n",
              "       9024, 8711, 8512, 6422, 9065, 8573, 6398, 8759, 9026, 9029, 6326,\n",
              "       8786, 8783, 9035, 8926, 9058, 8941, 8983, 9063, 8562, 8456, 9009,\n",
              "       6368, 8892, 8405, 8814, 6410, 8568, 6424, 8469, 8406, 6388, 6379,\n",
              "       9025, 6385, 6321, 8961, 6382, 8464, 8805, 9121, 8510, 6372, 8790,\n",
              "       8951, 9152, 8842, 6330, 6363, 6375, 8407, 9140, 6426, 9107, 9114,\n",
              "       8911, 8662, 6343, 8791, 8666, 8713, 6342, 9120, 6339, 6364, 8409,\n",
              "       8544, 9134, 6407, 6406, 6394, 9049, 8703, 6347, 9027, 6352, 8647,\n",
              "       9128, 6402, 8479, 8771, 8461, 8912, 8547, 8706, 8574, 6319, 8550,\n",
              "       8507, 8672, 8446, 8893, 6399, 8782, 6419, 6411, 8942, 6405, 8984,\n",
              "       9062, 8670, 6311, 8952, 9148, 6369, 8824, 9004, 8470, 8459, 9041,\n",
              "       9102, 8526, 9435, 9007, 8773, 6380, 6378, 6386, 6383, 8465, 9122,\n",
              "       6373, 6322, 8907, 9069, 8521, 9116, 9108, 8496, 8667, 8809, 8792,\n",
              "       8584, 8529, 8410, 8889, 8714, 6306, 6365, 6408, 9048, 6390, 8834,\n",
              "       8669, 8908, 8899, 6348, 8476, 9028, 8648, 6355, 8700, 8701, 8909,\n",
              "       6418, 8524, 9145, 6366, 8772, 8542, 8545, 8539, 8764, 8551, 8502,\n",
              "       8508, 8447, 8894, 8453, 6413, 6412, 9039, 8830, 9005, 9012, 9042,\n",
              "       8457, 9037, 9433, 8527, 6381, 8910, 8569, 9043, 8528, 9104, 6323,\n",
              "       8523, 9090, 9143, 9117, 9110, 8668, 6318, 8810, 8715, 8712, 8896,\n",
              "       8869, 9002, 8888, 8999, 6349, 8988, 8987, 9052, 8957, 8702, 8958,\n",
              "       6367, 9082, 8411, 9157, 8540, 8765, 8525, 8454, 8495, 8499, 9040,\n",
              "       8931, 9016, 6359, 8990, 8946, 8737, 8919, 6324, 8959, 8816, 6371,\n",
              "       9073, 6437, 8588, 8589, 9076, 8429, 9078, 9074, 8498, 8500, 8497,\n",
              "       8784, 9335, 9425, 6312, 8427, 9256, 6417, 8992, 8426, 6420, 8915,\n",
              "       8556, 8929, 8817, 8585, 9266, 9265, 8586, 6370, 8621, 8590, 6331,\n",
              "       8928, 6320, 8799, 8587, 9267, 8680, 8779, 6332, 8776, 8517, 8778,\n",
              "       8519])"
            ]
          },
          "metadata": {},
          "execution_count": 27
        }
      ]
    },
    {
      "cell_type": "code",
      "source": [
        "len(XPrimary.ProviderGroupId.unique())"
      ],
      "metadata": {
        "colab": {
          "base_uri": "https://localhost:8080/"
        },
        "id": "c1EhsFiayEGN",
        "outputId": "aa830d77-483e-4dc5-ac64-1a82e325cb6f"
      },
      "execution_count": null,
      "outputs": [
        {
          "output_type": "execute_result",
          "data": {
            "text/plain": [
              "584"
            ]
          },
          "metadata": {},
          "execution_count": 28
        }
      ]
    },
    {
      "cell_type": "code",
      "source": [
        "len(XPrimary)"
      ],
      "metadata": {
        "colab": {
          "base_uri": "https://localhost:8080/"
        },
        "id": "zVWGIjllzOmB",
        "outputId": "83bc3302-1c6a-41e6-ec46-25806798d5d6"
      },
      "execution_count": null,
      "outputs": [
        {
          "output_type": "execute_result",
          "data": {
            "text/plain": [
              "16238"
            ]
          },
          "metadata": {},
          "execution_count": 29
        }
      ]
    },
    {
      "cell_type": "code",
      "source": [
        "XPrimary.head(5)"
      ],
      "metadata": {
        "colab": {
          "base_uri": "https://localhost:8080/",
          "height": 704
        },
        "id": "3iup2Y5JzZZN",
        "outputId": "e4b48424-5a0b-4e33-c87e-fab5cc7ae01e"
      },
      "execution_count": null,
      "outputs": [
        {
          "output_type": "execute_result",
          "data": {
            "text/plain": [
              "                      ReportingEntityName        ReportingEntityType  \\\n",
              "7675674  Harvard Pilgrim Health Care Inc.  THIRD PARTY ADMINISTRATOR   \n",
              "7675675  Harvard Pilgrim Health Care Inc.  THIRD PARTY ADMINISTRATOR   \n",
              "7675676  Harvard Pilgrim Health Care Inc.  THIRD PARTY ADMINISTRATOR   \n",
              "7675677  Harvard Pilgrim Health Care Inc.  THIRD PARTY ADMINISTRATOR   \n",
              "7675678  Harvard Pilgrim Health Care Inc.  THIRD PARTY ADMINISTRATOR   \n",
              "\n",
              "        LastUpdated Version Negotiation_Arrangement  \\\n",
              "7675674  2023-02-03   1.3.1                     ffs   \n",
              "7675675  2023-02-03   1.3.1                     ffs   \n",
              "7675676  2023-02-03   1.3.1                     ffs   \n",
              "7675677  2023-02-03   1.3.1                     ffs   \n",
              "7675678  2023-02-03   1.3.1                     ffs   \n",
              "\n",
              "                                Name BillingCodeType BillingCodeTypeVersion  \\\n",
              "7675674  OFFICE/OUTPATIENT VISIT NEW             CPT                   2023   \n",
              "7675675  OFFICE/OUTPATIENT VISIT NEW             CPT                   2023   \n",
              "7675676  OFFICE/OUTPATIENT VISIT NEW             CPT                   2023   \n",
              "7675677  OFFICE/OUTPATIENT VISIT NEW             CPT                   2023   \n",
              "7675678  OFFICE/OUTPATIENT VISIT NEW             CPT                   2023   \n",
              "\n",
              "        BillingCode                                        Description  \\\n",
              "7675674       99202  OFFICE OR OTHER OUTPATIENT VISIT FOR THE EVALU...   \n",
              "7675675       99202  OFFICE OR OTHER OUTPATIENT VISIT FOR THE EVALU...   \n",
              "7675676       99202  OFFICE OR OTHER OUTPATIENT VISIT FOR THE EVALU...   \n",
              "7675677       99202  OFFICE OR OTHER OUTPATIENT VISIT FOR THE EVALU...   \n",
              "7675678       99202  OFFICE OR OTHER OUTPATIENT VISIT FOR THE EVALU...   \n",
              "\n",
              "        NegotiatedType  NegotiatedRate ExpirationDate  BillingClass  \\\n",
              "7675674   fee schedule           20.55     2023-03-31  professional   \n",
              "7675675   fee schedule           22.60     2023-03-31  professional   \n",
              "7675676   fee schedule           25.98     2023-03-31  professional   \n",
              "7675677   fee schedule           30.75     2023-03-31  professional   \n",
              "7675678   fee schedule           31.09     2023-03-31  professional   \n",
              "\n",
              "        AdditionalInformation  ProviderGroupId  \n",
              "7675674                                   6397  \n",
              "7675675                                   8579  \n",
              "7675676                                   8677  \n",
              "7675677                                   6397  \n",
              "7675678                                   8413  "
            ],
            "text/html": [
              "\n",
              "  <div id=\"df-81ce95f1-8b79-4391-9c94-4a3978e97af2\">\n",
              "    <div class=\"colab-df-container\">\n",
              "      <div>\n",
              "<style scoped>\n",
              "    .dataframe tbody tr th:only-of-type {\n",
              "        vertical-align: middle;\n",
              "    }\n",
              "\n",
              "    .dataframe tbody tr th {\n",
              "        vertical-align: top;\n",
              "    }\n",
              "\n",
              "    .dataframe thead th {\n",
              "        text-align: right;\n",
              "    }\n",
              "</style>\n",
              "<table border=\"1\" class=\"dataframe\">\n",
              "  <thead>\n",
              "    <tr style=\"text-align: right;\">\n",
              "      <th></th>\n",
              "      <th>ReportingEntityName</th>\n",
              "      <th>ReportingEntityType</th>\n",
              "      <th>LastUpdated</th>\n",
              "      <th>Version</th>\n",
              "      <th>Negotiation_Arrangement</th>\n",
              "      <th>Name</th>\n",
              "      <th>BillingCodeType</th>\n",
              "      <th>BillingCodeTypeVersion</th>\n",
              "      <th>BillingCode</th>\n",
              "      <th>Description</th>\n",
              "      <th>NegotiatedType</th>\n",
              "      <th>NegotiatedRate</th>\n",
              "      <th>ExpirationDate</th>\n",
              "      <th>BillingClass</th>\n",
              "      <th>AdditionalInformation</th>\n",
              "      <th>ProviderGroupId</th>\n",
              "    </tr>\n",
              "  </thead>\n",
              "  <tbody>\n",
              "    <tr>\n",
              "      <th>7675674</th>\n",
              "      <td>Harvard Pilgrim Health Care Inc.</td>\n",
              "      <td>THIRD PARTY ADMINISTRATOR</td>\n",
              "      <td>2023-02-03</td>\n",
              "      <td>1.3.1</td>\n",
              "      <td>ffs</td>\n",
              "      <td>OFFICE/OUTPATIENT VISIT NEW</td>\n",
              "      <td>CPT</td>\n",
              "      <td>2023</td>\n",
              "      <td>99202</td>\n",
              "      <td>OFFICE OR OTHER OUTPATIENT VISIT FOR THE EVALU...</td>\n",
              "      <td>fee schedule</td>\n",
              "      <td>20.55</td>\n",
              "      <td>2023-03-31</td>\n",
              "      <td>professional</td>\n",
              "      <td></td>\n",
              "      <td>6397</td>\n",
              "    </tr>\n",
              "    <tr>\n",
              "      <th>7675675</th>\n",
              "      <td>Harvard Pilgrim Health Care Inc.</td>\n",
              "      <td>THIRD PARTY ADMINISTRATOR</td>\n",
              "      <td>2023-02-03</td>\n",
              "      <td>1.3.1</td>\n",
              "      <td>ffs</td>\n",
              "      <td>OFFICE/OUTPATIENT VISIT NEW</td>\n",
              "      <td>CPT</td>\n",
              "      <td>2023</td>\n",
              "      <td>99202</td>\n",
              "      <td>OFFICE OR OTHER OUTPATIENT VISIT FOR THE EVALU...</td>\n",
              "      <td>fee schedule</td>\n",
              "      <td>22.60</td>\n",
              "      <td>2023-03-31</td>\n",
              "      <td>professional</td>\n",
              "      <td></td>\n",
              "      <td>8579</td>\n",
              "    </tr>\n",
              "    <tr>\n",
              "      <th>7675676</th>\n",
              "      <td>Harvard Pilgrim Health Care Inc.</td>\n",
              "      <td>THIRD PARTY ADMINISTRATOR</td>\n",
              "      <td>2023-02-03</td>\n",
              "      <td>1.3.1</td>\n",
              "      <td>ffs</td>\n",
              "      <td>OFFICE/OUTPATIENT VISIT NEW</td>\n",
              "      <td>CPT</td>\n",
              "      <td>2023</td>\n",
              "      <td>99202</td>\n",
              "      <td>OFFICE OR OTHER OUTPATIENT VISIT FOR THE EVALU...</td>\n",
              "      <td>fee schedule</td>\n",
              "      <td>25.98</td>\n",
              "      <td>2023-03-31</td>\n",
              "      <td>professional</td>\n",
              "      <td></td>\n",
              "      <td>8677</td>\n",
              "    </tr>\n",
              "    <tr>\n",
              "      <th>7675677</th>\n",
              "      <td>Harvard Pilgrim Health Care Inc.</td>\n",
              "      <td>THIRD PARTY ADMINISTRATOR</td>\n",
              "      <td>2023-02-03</td>\n",
              "      <td>1.3.1</td>\n",
              "      <td>ffs</td>\n",
              "      <td>OFFICE/OUTPATIENT VISIT NEW</td>\n",
              "      <td>CPT</td>\n",
              "      <td>2023</td>\n",
              "      <td>99202</td>\n",
              "      <td>OFFICE OR OTHER OUTPATIENT VISIT FOR THE EVALU...</td>\n",
              "      <td>fee schedule</td>\n",
              "      <td>30.75</td>\n",
              "      <td>2023-03-31</td>\n",
              "      <td>professional</td>\n",
              "      <td></td>\n",
              "      <td>6397</td>\n",
              "    </tr>\n",
              "    <tr>\n",
              "      <th>7675678</th>\n",
              "      <td>Harvard Pilgrim Health Care Inc.</td>\n",
              "      <td>THIRD PARTY ADMINISTRATOR</td>\n",
              "      <td>2023-02-03</td>\n",
              "      <td>1.3.1</td>\n",
              "      <td>ffs</td>\n",
              "      <td>OFFICE/OUTPATIENT VISIT NEW</td>\n",
              "      <td>CPT</td>\n",
              "      <td>2023</td>\n",
              "      <td>99202</td>\n",
              "      <td>OFFICE OR OTHER OUTPATIENT VISIT FOR THE EVALU...</td>\n",
              "      <td>fee schedule</td>\n",
              "      <td>31.09</td>\n",
              "      <td>2023-03-31</td>\n",
              "      <td>professional</td>\n",
              "      <td></td>\n",
              "      <td>8413</td>\n",
              "    </tr>\n",
              "  </tbody>\n",
              "</table>\n",
              "</div>\n",
              "      <button class=\"colab-df-convert\" onclick=\"convertToInteractive('df-81ce95f1-8b79-4391-9c94-4a3978e97af2')\"\n",
              "              title=\"Convert this dataframe to an interactive table.\"\n",
              "              style=\"display:none;\">\n",
              "        \n",
              "  <svg xmlns=\"http://www.w3.org/2000/svg\" height=\"24px\"viewBox=\"0 0 24 24\"\n",
              "       width=\"24px\">\n",
              "    <path d=\"M0 0h24v24H0V0z\" fill=\"none\"/>\n",
              "    <path d=\"M18.56 5.44l.94 2.06.94-2.06 2.06-.94-2.06-.94-.94-2.06-.94 2.06-2.06.94zm-11 1L8.5 8.5l.94-2.06 2.06-.94-2.06-.94L8.5 2.5l-.94 2.06-2.06.94zm10 10l.94 2.06.94-2.06 2.06-.94-2.06-.94-.94-2.06-.94 2.06-2.06.94z\"/><path d=\"M17.41 7.96l-1.37-1.37c-.4-.4-.92-.59-1.43-.59-.52 0-1.04.2-1.43.59L10.3 9.45l-7.72 7.72c-.78.78-.78 2.05 0 2.83L4 21.41c.39.39.9.59 1.41.59.51 0 1.02-.2 1.41-.59l7.78-7.78 2.81-2.81c.8-.78.8-2.07 0-2.86zM5.41 20L4 18.59l7.72-7.72 1.47 1.35L5.41 20z\"/>\n",
              "  </svg>\n",
              "      </button>\n",
              "      \n",
              "  <style>\n",
              "    .colab-df-container {\n",
              "      display:flex;\n",
              "      flex-wrap:wrap;\n",
              "      gap: 12px;\n",
              "    }\n",
              "\n",
              "    .colab-df-convert {\n",
              "      background-color: #E8F0FE;\n",
              "      border: none;\n",
              "      border-radius: 50%;\n",
              "      cursor: pointer;\n",
              "      display: none;\n",
              "      fill: #1967D2;\n",
              "      height: 32px;\n",
              "      padding: 0 0 0 0;\n",
              "      width: 32px;\n",
              "    }\n",
              "\n",
              "    .colab-df-convert:hover {\n",
              "      background-color: #E2EBFA;\n",
              "      box-shadow: 0px 1px 2px rgba(60, 64, 67, 0.3), 0px 1px 3px 1px rgba(60, 64, 67, 0.15);\n",
              "      fill: #174EA6;\n",
              "    }\n",
              "\n",
              "    [theme=dark] .colab-df-convert {\n",
              "      background-color: #3B4455;\n",
              "      fill: #D2E3FC;\n",
              "    }\n",
              "\n",
              "    [theme=dark] .colab-df-convert:hover {\n",
              "      background-color: #434B5C;\n",
              "      box-shadow: 0px 1px 3px 1px rgba(0, 0, 0, 0.15);\n",
              "      filter: drop-shadow(0px 1px 2px rgba(0, 0, 0, 0.3));\n",
              "      fill: #FFFFFF;\n",
              "    }\n",
              "  </style>\n",
              "\n",
              "      <script>\n",
              "        const buttonEl =\n",
              "          document.querySelector('#df-81ce95f1-8b79-4391-9c94-4a3978e97af2 button.colab-df-convert');\n",
              "        buttonEl.style.display =\n",
              "          google.colab.kernel.accessAllowed ? 'block' : 'none';\n",
              "\n",
              "        async function convertToInteractive(key) {\n",
              "          const element = document.querySelector('#df-81ce95f1-8b79-4391-9c94-4a3978e97af2');\n",
              "          const dataTable =\n",
              "            await google.colab.kernel.invokeFunction('convertToInteractive',\n",
              "                                                     [key], {});\n",
              "          if (!dataTable) return;\n",
              "\n",
              "          const docLinkHtml = 'Like what you see? Visit the ' +\n",
              "            '<a target=\"_blank\" href=https://colab.research.google.com/notebooks/data_table.ipynb>data table notebook</a>'\n",
              "            + ' to learn more about interactive tables.';\n",
              "          element.innerHTML = '';\n",
              "          dataTable['output_type'] = 'display_data';\n",
              "          await google.colab.output.renderOutput(dataTable, element);\n",
              "          const docLink = document.createElement('div');\n",
              "          docLink.innerHTML = docLinkHtml;\n",
              "          element.appendChild(docLink);\n",
              "        }\n",
              "      </script>\n",
              "    </div>\n",
              "  </div>\n",
              "  "
            ]
          },
          "metadata": {},
          "execution_count": 30
        }
      ]
    },
    {
      "cell_type": "markdown",
      "source": [
        "### get the average amount by billingcode\n"
      ],
      "metadata": {
        "id": "y4FyjUh2gJ7w"
      }
    },
    {
      "cell_type": "code",
      "source": [
        "XPrimary.groupby(['BillingCode', 'Name'])['NegotiatedRate'].mean()"
      ],
      "metadata": {
        "colab": {
          "base_uri": "https://localhost:8080/"
        },
        "id": "eTX4-hFZgTIu",
        "outputId": "0ab39e79-621d-411e-80ef-d45810326150"
      },
      "execution_count": null,
      "outputs": [
        {
          "output_type": "execute_result",
          "data": {
            "text/plain": [
              "BillingCode  Name                        \n",
              "99202        OFFICE/OUTPATIENT VISIT NEW      97.996928\n",
              "99203        OFFICE/OUTPATIENT VISIT NEW     155.614849\n",
              "99204        OFFICE/OUTPATIENT VISIT NEW     241.022862\n",
              "99205        OFFICE/OUTPATIENT VISIT NEW     320.295595\n",
              "99212        OFFICE/OUTPATIENT VISIT EST      71.546894\n",
              "99213        OFFICE/OUTPATIENT VISIT EST     121.793632\n",
              "99214        OFFICE/OUTPATIENT VISIT EST     175.375884\n",
              "99215        OFFICE/OUTPATIENT VISIT EST     251.512034\n",
              "99391        PER PM REEVAL EST PAT INFANT    132.876196\n",
              "99392        PREV VISIT EST AGE 1-4          142.708864\n",
              "99393        PREV VISIT EST AGE 5-11         142.434819\n",
              "99394        PREV VISIT EST AGE 12-17        158.361717\n",
              "99395        PREV VISIT EST AGE 18-39        162.212468\n",
              "99396        PREV VISIT EST AGE 40-64        175.789258\n",
              "Name: NegotiatedRate, dtype: float64"
            ]
          },
          "metadata": {},
          "execution_count": 31
        }
      ]
    },
    {
      "cell_type": "code",
      "source": [
        "XPrimary.groupby(['ProviderGroupId'])['NegotiatedRate'].mean()"
      ],
      "metadata": {
        "colab": {
          "base_uri": "https://localhost:8080/"
        },
        "id": "Y0l7myXphbGp",
        "outputId": "bd55c206-f06d-41e3-d691-991b905149ca"
      },
      "execution_count": null,
      "outputs": [
        {
          "output_type": "execute_result",
          "data": {
            "text/plain": [
              "ProviderGroupId\n",
              "6306    155.370000\n",
              "6307    142.211071\n",
              "6308    129.556429\n",
              "6309    155.755714\n",
              "6310    153.111071\n",
              "           ...    \n",
              "9335    314.005357\n",
              "9386    141.158214\n",
              "9425    314.005357\n",
              "9433    226.727143\n",
              "9435    192.732143\n",
              "Name: NegotiatedRate, Length: 584, dtype: float64"
            ]
          },
          "metadata": {},
          "execution_count": 32
        }
      ]
    },
    {
      "cell_type": "code",
      "source": [
        "import seaborn as sns\n",
        "\n",
        "sns.set_style(\"whitegrid\")\n",
        "\n",
        "box_plot = sns.boxplot(x=\"BillingCode\",y=\"NegotiatedRate\",data=XPrimary)\n",
        "\n",
        "medians = XPrimary.groupby(['BillingCode'])['NegotiatedRate'].median()\n",
        "vertical_offset = XPrimary['NegotiatedRate'].median() * 0.05 # offset from median for display\n",
        "\n",
        "for xtick in box_plot.get_xticks():\n",
        "    box_plot.text(xtick,medians[xtick] + vertical_offset,medians[xtick],\n",
        "            horizontalalignment='center',size='x-small',color='w',weight='semibold')\n",
        "\n",
        "box_plot.tick_params(axis='x', rotation=90)"
      ],
      "metadata": {
        "colab": {
          "base_uri": "https://localhost:8080/",
          "height": 480
        },
        "id": "qLR_MTzShwOr",
        "outputId": "33768950-f74d-4e8b-f463-912fac5429a6"
      },
      "execution_count": null,
      "outputs": [
        {
          "output_type": "display_data",
          "data": {
            "text/plain": [
              "<Figure size 640x480 with 1 Axes>"
            ],
            "image/png": "[encoded data removed]"
          },
          "metadata": {}
        }
      ]
    },
    {
      "cell_type": "markdown",
      "source": [
        "https://www.includehelp.com/python/normalize-dataframe-by-group.aspx\n",
        "\n",
        "https://stackoverflow.com/questions/74073396/pandas-how-to-normalize-a-column-after-groupby\n"
      ],
      "metadata": {
        "id": "Z_p21TkvpkiR"
      }
    },
    {
      "cell_type": "code",
      "source": [
        "groupedBillingCode = XPrimary.groupby('BillingCode')"
      ],
      "metadata": {
        "id": "8h7-41m7kUSg"
      },
      "execution_count": null,
      "outputs": []
    },
    {
      "cell_type": "code",
      "source": [
        "XPrimary['NegotiatedRateScaled'] = groupedBillingCode['NegotiatedRate'].transform(lambda x: (x-x.mean()) / x.std())"
      ],
      "metadata": {
        "colab": {
          "base_uri": "https://localhost:8080/"
        },
        "id": "m1gkEMe6qn9Y",
        "outputId": "0f028169-3cb4-4ffd-9ab5-1b7918b5bf42"
      },
      "execution_count": null,
      "outputs": [
        {
          "output_type": "stream",
          "name": "stderr",
          "text": [
            "<ipython-input-35-30218e181ed4>:1: SettingWithCopyWarning: \n",
            "A value is trying to be set on a copy of a slice from a DataFrame.\n",
            "Try using .loc[row_indexer,col_indexer] = value instead\n",
            "\n",
            "See the caveats in the documentation: https://pandas.pydata.org/pandas-docs/stable/user_guide/indexing.html#returning-a-view-versus-a-copy\n",
            "  XPrimary['NegotiatedRateScaled'] = groupedBillingCode['NegotiatedRate'].transform(lambda x: (x-x.mean()) / x.std())\n"
          ]
        }
      ]
    },
    {
      "cell_type": "code",
      "source": [
        "XPrimary"
      ],
      "metadata": {
        "colab": {
          "base_uri": "https://localhost:8080/",
          "height": 1000
        },
        "id": "ahr7ZpRtq5Vt",
        "outputId": "682d7e67-4e02-44a0-eeb9-8e66a60aa712"
      },
      "execution_count": null,
      "outputs": [
        {
          "output_type": "execute_result",
          "data": {
            "text/plain": [
              "                      ReportingEntityName        ReportingEntityType  \\\n",
              "7675674  Harvard Pilgrim Health Care Inc.  THIRD PARTY ADMINISTRATOR   \n",
              "7675675  Harvard Pilgrim Health Care Inc.  THIRD PARTY ADMINISTRATOR   \n",
              "7675676  Harvard Pilgrim Health Care Inc.  THIRD PARTY ADMINISTRATOR   \n",
              "7675677  Harvard Pilgrim Health Care Inc.  THIRD PARTY ADMINISTRATOR   \n",
              "7675678  Harvard Pilgrim Health Care Inc.  THIRD PARTY ADMINISTRATOR   \n",
              "...                                   ...                        ...   \n",
              "7741967  Harvard Pilgrim Health Care Inc.  THIRD PARTY ADMINISTRATOR   \n",
              "7741968  Harvard Pilgrim Health Care Inc.  THIRD PARTY ADMINISTRATOR   \n",
              "7741969  Harvard Pilgrim Health Care Inc.  THIRD PARTY ADMINISTRATOR   \n",
              "7741970  Harvard Pilgrim Health Care Inc.  THIRD PARTY ADMINISTRATOR   \n",
              "7741971  Harvard Pilgrim Health Care Inc.  THIRD PARTY ADMINISTRATOR   \n",
              "\n",
              "        LastUpdated Version Negotiation_Arrangement  \\\n",
              "7675674  2023-02-03   1.3.1                     ffs   \n",
              "7675675  2023-02-03   1.3.1                     ffs   \n",
              "7675676  2023-02-03   1.3.1                     ffs   \n",
              "7675677  2023-02-03   1.3.1                     ffs   \n",
              "7675678  2023-02-03   1.3.1                     ffs   \n",
              "...             ...     ...                     ...   \n",
              "7741967  2023-02-03   1.3.1                     ffs   \n",
              "7741968  2023-02-03   1.3.1                     ffs   \n",
              "7741969  2023-02-03   1.3.1                     ffs   \n",
              "7741970  2023-02-03   1.3.1                     ffs   \n",
              "7741971  2023-02-03   1.3.1                     ffs   \n",
              "\n",
              "                                Name BillingCodeType BillingCodeTypeVersion  \\\n",
              "7675674  OFFICE/OUTPATIENT VISIT NEW             CPT                   2023   \n",
              "7675675  OFFICE/OUTPATIENT VISIT NEW             CPT                   2023   \n",
              "7675676  OFFICE/OUTPATIENT VISIT NEW             CPT                   2023   \n",
              "7675677  OFFICE/OUTPATIENT VISIT NEW             CPT                   2023   \n",
              "7675678  OFFICE/OUTPATIENT VISIT NEW             CPT                   2023   \n",
              "...                              ...             ...                    ...   \n",
              "7741967     PREV VISIT EST AGE 40-64             CPT                   2023   \n",
              "7741968     PREV VISIT EST AGE 40-64             CPT                   2023   \n",
              "7741969     PREV VISIT EST AGE 40-64             CPT                   2023   \n",
              "7741970     PREV VISIT EST AGE 40-64             CPT                   2023   \n",
              "7741971     PREV VISIT EST AGE 40-64             CPT                   2023   \n",
              "\n",
              "        BillingCode                                        Description  \\\n",
              "7675674       99202  OFFICE OR OTHER OUTPATIENT VISIT FOR THE EVALU...   \n",
              "7675675       99202  OFFICE OR OTHER OUTPATIENT VISIT FOR THE EVALU...   \n",
              "7675676       99202  OFFICE OR OTHER OUTPATIENT VISIT FOR THE EVALU...   \n",
              "7675677       99202  OFFICE OR OTHER OUTPATIENT VISIT FOR THE EVALU...   \n",
              "7675678       99202  OFFICE OR OTHER OUTPATIENT VISIT FOR THE EVALU...   \n",
              "...             ...                                                ...   \n",
              "7741967       99396  PERIODIC COMPREHENSIVE PREVENTIVE MEDICINE REE...   \n",
              "7741968       99396  PERIODIC COMPREHENSIVE PREVENTIVE MEDICINE REE...   \n",
              "7741969       99396  PERIODIC COMPREHENSIVE PREVENTIVE MEDICINE REE...   \n",
              "7741970       99396  PERIODIC COMPREHENSIVE PREVENTIVE MEDICINE REE...   \n",
              "7741971       99396  PERIODIC COMPREHENSIVE PREVENTIVE MEDICINE REE...   \n",
              "\n",
              "        NegotiatedType  NegotiatedRate ExpirationDate  BillingClass  \\\n",
              "7675674   fee schedule           20.55     2023-03-31  professional   \n",
              "7675675   fee schedule           22.60     2023-03-31  professional   \n",
              "7675676   fee schedule           25.98     2023-03-31  professional   \n",
              "7675677   fee schedule           30.75     2023-03-31  professional   \n",
              "7675678   fee schedule           31.09     2023-03-31  professional   \n",
              "...                ...             ...            ...           ...   \n",
              "7741967   fee schedule          438.00     2023-03-31  professional   \n",
              "7741968   fee schedule          447.86     2023-03-31  professional   \n",
              "7741969   fee schedule          447.86     2023-03-31  professional   \n",
              "7741970   fee schedule          458.17     9999-12-31  professional   \n",
              "7741971   fee schedule          490.95     2023-03-31  professional   \n",
              "\n",
              "        AdditionalInformation  ProviderGroupId  NegotiatedRateScaled  \n",
              "7675674                                   6397             -1.881772  \n",
              "7675675                                   8579             -1.831962  \n",
              "7675676                                   8677             -1.749836  \n",
              "7675677                                   6397             -1.633937  \n",
              "7675678                                   8413             -1.625676  \n",
              "...                       ...              ...                   ...  \n",
              "7741967                                   8928              3.909534  \n",
              "7741968                                   8587              4.056546  \n",
              "7741969                                   9267              4.056546  \n",
              "7741970                                   6370              4.210267  \n",
              "7741971                                   8680              4.699013  \n",
              "\n",
              "[16238 rows x 17 columns]"
            ],
            "text/html": [
              "\n",
              "  <div id=\"df-c2d261d9-8447-4cb7-9b7f-18465c8d0610\">\n",
              "    <div class=\"colab-df-container\">\n",
              "      <div>\n",
              "<style scoped>\n",
              "    .dataframe tbody tr th:only-of-type {\n",
              "        vertical-align: middle;\n",
              "    }\n",
              "\n",
              "    .dataframe tbody tr th {\n",
              "        vertical-align: top;\n",
              "    }\n",
              "\n",
              "    .dataframe thead th {\n",
              "        text-align: right;\n",
              "    }\n",
              "</style>\n",
              "<table border=\"1\" class=\"dataframe\">\n",
              "  <thead>\n",
              "    <tr style=\"text-align: right;\">\n",
              "      <th></th>\n",
              "      <th>ReportingEntityName</th>\n",
              "      <th>ReportingEntityType</th>\n",
              "      <th>LastUpdated</th>\n",
              "      <th>Version</th>\n",
              "      <th>Negotiation_Arrangement</th>\n",
              "      <th>Name</th>\n",
              "      <th>BillingCodeType</th>\n",
              "      <th>BillingCodeTypeVersion</th>\n",
              "      <th>BillingCode</th>\n",
              "      <th>Description</th>\n",
              "      <th>NegotiatedType</th>\n",
              "      <th>NegotiatedRate</th>\n",
              "      <th>ExpirationDate</th>\n",
              "      <th>BillingClass</th>\n",
              "      <th>AdditionalInformation</th>\n",
              "      <th>ProviderGroupId</th>\n",
              "      <th>NegotiatedRateScaled</th>\n",
              "    </tr>\n",
              "  </thead>\n",
              "  <tbody>\n",
              "    <tr>\n",
              "      <th>7675674</th>\n",
              "      <td>Harvard Pilgrim Health Care Inc.</td>\n",
              "      <td>THIRD PARTY ADMINISTRATOR</td>\n",
              "      <td>2023-02-03</td>\n",
              "      <td>1.3.1</td>\n",
              "      <td>ffs</td>\n",
              "      <td>OFFICE/OUTPATIENT VISIT NEW</td>\n",
              "      <td>CPT</td>\n",
              "      <td>2023</td>\n",
              "      <td>99202</td>\n",
              "      <td>OFFICE OR OTHER OUTPATIENT VISIT FOR THE EVALU...</td>\n",
              "      <td>fee schedule</td>\n",
              "      <td>20.55</td>\n",
              "      <td>2023-03-31</td>\n",
              "      <td>professional</td>\n",
              "      <td></td>\n",
              "      <td>6397</td>\n",
              "      <td>-1.881772</td>\n",
              "    </tr>\n",
              "    <tr>\n",
              "      <th>7675675</th>\n",
              "      <td>Harvard Pilgrim Health Care Inc.</td>\n",
              "      <td>THIRD PARTY ADMINISTRATOR</td>\n",
              "      <td>2023-02-03</td>\n",
              "      <td>1.3.1</td>\n",
              "      <td>ffs</td>\n",
              "      <td>OFFICE/OUTPATIENT VISIT NEW</td>\n",
              "      <td>CPT</td>\n",
              "      <td>2023</td>\n",
              "      <td>99202</td>\n",
              "      <td>OFFICE OR OTHER OUTPATIENT VISIT FOR THE EVALU...</td>\n",
              "      <td>fee schedule</td>\n",
              "      <td>22.60</td>\n",
              "      <td>2023-03-31</td>\n",
              "      <td>professional</td>\n",
              "      <td></td>\n",
              "      <td>8579</td>\n",
              "      <td>-1.831962</td>\n",
              "    </tr>\n",
              "    <tr>\n",
              "      <th>7675676</th>\n",
              "      <td>Harvard Pilgrim Health Care Inc.</td>\n",
              "      <td>THIRD PARTY ADMINISTRATOR</td>\n",
              "      <td>2023-02-03</td>\n",
              "      <td>1.3.1</td>\n",
              "      <td>ffs</td>\n",
              "      <td>OFFICE/OUTPATIENT VISIT NEW</td>\n",
              "      <td>CPT</td>\n",
              "      <td>2023</td>\n",
              "      <td>99202</td>\n",
              "      <td>OFFICE OR OTHER OUTPATIENT VISIT FOR THE EVALU...</td>\n",
              "      <td>fee schedule</td>\n",
              "      <td>25.98</td>\n",
              "      <td>2023-03-31</td>\n",
              "      <td>professional</td>\n",
              "      <td></td>\n",
              "      <td>8677</td>\n",
              "      <td>-1.749836</td>\n",
              "    </tr>\n",
              "    <tr>\n",
              "      <th>7675677</th>\n",
              "      <td>Harvard Pilgrim Health Care Inc.</td>\n",
              "      <td>THIRD PARTY ADMINISTRATOR</td>\n",
              "      <td>2023-02-03</td>\n",
              "      <td>1.3.1</td>\n",
              "      <td>ffs</td>\n",
              "      <td>OFFICE/OUTPATIENT VISIT NEW</td>\n",
              "      <td>CPT</td>\n",
              "      <td>2023</td>\n",
              "      <td>99202</td>\n",
              "      <td>OFFICE OR OTHER OUTPATIENT VISIT FOR THE EVALU...</td>\n",
              "      <td>fee schedule</td>\n",
              "      <td>30.75</td>\n",
              "      <td>2023-03-31</td>\n",
              "      <td>professional</td>\n",
              "      <td></td>\n",
              "      <td>6397</td>\n",
              "      <td>-1.633937</td>\n",
              "    </tr>\n",
              "    <tr>\n",
              "      <th>7675678</th>\n",
              "      <td>Harvard Pilgrim Health Care Inc.</td>\n",
              "      <td>THIRD PARTY ADMINISTRATOR</td>\n",
              "      <td>2023-02-03</td>\n",
              "      <td>1.3.1</td>\n",
              "      <td>ffs</td>\n",
              "      <td>OFFICE/OUTPATIENT VISIT NEW</td>\n",
              "      <td>CPT</td>\n",
              "      <td>2023</td>\n",
              "      <td>99202</td>\n",
              "      <td>OFFICE OR OTHER OUTPATIENT VISIT FOR THE EVALU...</td>\n",
              "      <td>fee schedule</td>\n",
              "      <td>31.09</td>\n",
              "      <td>2023-03-31</td>\n",
              "      <td>professional</td>\n",
              "      <td></td>\n",
              "      <td>8413</td>\n",
              "      <td>-1.625676</td>\n",
              "    </tr>\n",
              "    <tr>\n",
              "      <th>...</th>\n",
              "      <td>...</td>\n",
              "      <td>...</td>\n",
              "      <td>...</td>\n",
              "      <td>...</td>\n",
              "      <td>...</td>\n",
              "      <td>...</td>\n",
              "      <td>...</td>\n",
              "      <td>...</td>\n",
              "      <td>...</td>\n",
              "      <td>...</td>\n",
              "      <td>...</td>\n",
              "      <td>...</td>\n",
              "      <td>...</td>\n",
              "      <td>...</td>\n",
              "      <td>...</td>\n",
              "      <td>...</td>\n",
              "      <td>...</td>\n",
              "    </tr>\n",
              "    <tr>\n",
              "      <th>7741967</th>\n",
              "      <td>Harvard Pilgrim Health Care Inc.</td>\n",
              "      <td>THIRD PARTY ADMINISTRATOR</td>\n",
              "      <td>2023-02-03</td>\n",
              "      <td>1.3.1</td>\n",
              "      <td>ffs</td>\n",
              "      <td>PREV VISIT EST AGE 40-64</td>\n",
              "      <td>CPT</td>\n",
              "      <td>2023</td>\n",
              "      <td>99396</td>\n",
              "      <td>PERIODIC COMPREHENSIVE PREVENTIVE MEDICINE REE...</td>\n",
              "      <td>fee schedule</td>\n",
              "      <td>438.00</td>\n",
              "      <td>2023-03-31</td>\n",
              "      <td>professional</td>\n",
              "      <td></td>\n",
              "      <td>8928</td>\n",
              "      <td>3.909534</td>\n",
              "    </tr>\n",
              "    <tr>\n",
              "      <th>7741968</th>\n",
              "      <td>Harvard Pilgrim Health Care Inc.</td>\n",
              "      <td>THIRD PARTY ADMINISTRATOR</td>\n",
              "      <td>2023-02-03</td>\n",
              "      <td>1.3.1</td>\n",
              "      <td>ffs</td>\n",
              "      <td>PREV VISIT EST AGE 40-64</td>\n",
              "      <td>CPT</td>\n",
              "      <td>2023</td>\n",
              "      <td>99396</td>\n",
              "      <td>PERIODIC COMPREHENSIVE PREVENTIVE MEDICINE REE...</td>\n",
              "      <td>fee schedule</td>\n",
              "      <td>447.86</td>\n",
              "      <td>2023-03-31</td>\n",
              "      <td>professional</td>\n",
              "      <td></td>\n",
              "      <td>8587</td>\n",
              "      <td>4.056546</td>\n",
              "    </tr>\n",
              "    <tr>\n",
              "      <th>7741969</th>\n",
              "      <td>Harvard Pilgrim Health Care Inc.</td>\n",
              "      <td>THIRD PARTY ADMINISTRATOR</td>\n",
              "      <td>2023-02-03</td>\n",
              "      <td>1.3.1</td>\n",
              "      <td>ffs</td>\n",
              "      <td>PREV VISIT EST AGE 40-64</td>\n",
              "      <td>CPT</td>\n",
              "      <td>2023</td>\n",
              "      <td>99396</td>\n",
              "      <td>PERIODIC COMPREHENSIVE PREVENTIVE MEDICINE REE...</td>\n",
              "      <td>fee schedule</td>\n",
              "      <td>447.86</td>\n",
              "      <td>2023-03-31</td>\n",
              "      <td>professional</td>\n",
              "      <td></td>\n",
              "      <td>9267</td>\n",
              "      <td>4.056546</td>\n",
              "    </tr>\n",
              "    <tr>\n",
              "      <th>7741970</th>\n",
              "      <td>Harvard Pilgrim Health Care Inc.</td>\n",
              "      <td>THIRD PARTY ADMINISTRATOR</td>\n",
              "      <td>2023-02-03</td>\n",
              "      <td>1.3.1</td>\n",
              "      <td>ffs</td>\n",
              "      <td>PREV VISIT EST AGE 40-64</td>\n",
              "      <td>CPT</td>\n",
              "      <td>2023</td>\n",
              "      <td>99396</td>\n",
              "      <td>PERIODIC COMPREHENSIVE PREVENTIVE MEDICINE REE...</td>\n",
              "      <td>fee schedule</td>\n",
              "      <td>458.17</td>\n",
              "      <td>9999-12-31</td>\n",
              "      <td>professional</td>\n",
              "      <td></td>\n",
              "      <td>6370</td>\n",
              "      <td>4.210267</td>\n",
              "    </tr>\n",
              "    <tr>\n",
              "      <th>7741971</th>\n",
              "      <td>Harvard Pilgrim Health Care Inc.</td>\n",
              "      <td>THIRD PARTY ADMINISTRATOR</td>\n",
              "      <td>2023-02-03</td>\n",
              "      <td>1.3.1</td>\n",
              "      <td>ffs</td>\n",
              "      <td>PREV VISIT EST AGE 40-64</td>\n",
              "      <td>CPT</td>\n",
              "      <td>2023</td>\n",
              "      <td>99396</td>\n",
              "      <td>PERIODIC COMPREHENSIVE PREVENTIVE MEDICINE REE...</td>\n",
              "      <td>fee schedule</td>\n",
              "      <td>490.95</td>\n",
              "      <td>2023-03-31</td>\n",
              "      <td>professional</td>\n",
              "      <td></td>\n",
              "      <td>8680</td>\n",
              "      <td>4.699013</td>\n",
              "    </tr>\n",
              "  </tbody>\n",
              "</table>\n",
              "<p>16238 rows × 17 columns</p>\n",
              "</div>\n",
              "      <button class=\"colab-df-convert\" onclick=\"convertToInteractive('df-c2d261d9-8447-4cb7-9b7f-18465c8d0610')\"\n",
              "              title=\"Convert this dataframe to an interactive table.\"\n",
              "              style=\"display:none;\">\n",
              "        \n",
              "  <svg xmlns=\"http://www.w3.org/2000/svg\" height=\"24px\"viewBox=\"0 0 24 24\"\n",
              "       width=\"24px\">\n",
              "    <path d=\"M0 0h24v24H0V0z\" fill=\"none\"/>\n",
              "    <path d=\"M18.56 5.44l.94 2.06.94-2.06 2.06-.94-2.06-.94-.94-2.06-.94 2.06-2.06.94zm-11 1L8.5 8.5l.94-2.06 2.06-.94-2.06-.94L8.5 2.5l-.94 2.06-2.06.94zm10 10l.94 2.06.94-2.06 2.06-.94-2.06-.94-.94-2.06-.94 2.06-2.06.94z\"/><path d=\"M17.41 7.96l-1.37-1.37c-.4-.4-.92-.59-1.43-.59-.52 0-1.04.2-1.43.59L10.3 9.45l-7.72 7.72c-.78.78-.78 2.05 0 2.83L4 21.41c.39.39.9.59 1.41.59.51 0 1.02-.2 1.41-.59l7.78-7.78 2.81-2.81c.8-.78.8-2.07 0-2.86zM5.41 20L4 18.59l7.72-7.72 1.47 1.35L5.41 20z\"/>\n",
              "  </svg>\n",
              "      </button>\n",
              "      \n",
              "  <style>\n",
              "    .colab-df-container {\n",
              "      display:flex;\n",
              "      flex-wrap:wrap;\n",
              "      gap: 12px;\n",
              "    }\n",
              "\n",
              "    .colab-df-convert {\n",
              "      background-color: #E8F0FE;\n",
              "      border: none;\n",
              "      border-radius: 50%;\n",
              "      cursor: pointer;\n",
              "      display: none;\n",
              "      fill: #1967D2;\n",
              "      height: 32px;\n",
              "      padding: 0 0 0 0;\n",
              "      width: 32px;\n",
              "    }\n",
              "\n",
              "    .colab-df-convert:hover {\n",
              "      background-color: #E2EBFA;\n",
              "      box-shadow: 0px 1px 2px rgba(60, 64, 67, 0.3), 0px 1px 3px 1px rgba(60, 64, 67, 0.15);\n",
              "      fill: #174EA6;\n",
              "    }\n",
              "\n",
              "    [theme=dark] .colab-df-convert {\n",
              "      background-color: #3B4455;\n",
              "      fill: #D2E3FC;\n",
              "    }\n",
              "\n",
              "    [theme=dark] .colab-df-convert:hover {\n",
              "      background-color: #434B5C;\n",
              "      box-shadow: 0px 1px 3px 1px rgba(0, 0, 0, 0.15);\n",
              "      filter: drop-shadow(0px 1px 2px rgba(0, 0, 0, 0.3));\n",
              "      fill: #FFFFFF;\n",
              "    }\n",
              "  </style>\n",
              "\n",
              "      <script>\n",
              "        const buttonEl =\n",
              "          document.querySelector('#df-c2d261d9-8447-4cb7-9b7f-18465c8d0610 button.colab-df-convert');\n",
              "        buttonEl.style.display =\n",
              "          google.colab.kernel.accessAllowed ? 'block' : 'none';\n",
              "\n",
              "        async function convertToInteractive(key) {\n",
              "          const element = document.querySelector('#df-c2d261d9-8447-4cb7-9b7f-18465c8d0610');\n",
              "          const dataTable =\n",
              "            await google.colab.kernel.invokeFunction('convertToInteractive',\n",
              "                                                     [key], {});\n",
              "          if (!dataTable) return;\n",
              "\n",
              "          const docLinkHtml = 'Like what you see? Visit the ' +\n",
              "            '<a target=\"_blank\" href=https://colab.research.google.com/notebooks/data_table.ipynb>data table notebook</a>'\n",
              "            + ' to learn more about interactive tables.';\n",
              "          element.innerHTML = '';\n",
              "          dataTable['output_type'] = 'display_data';\n",
              "          await google.colab.output.renderOutput(dataTable, element);\n",
              "          const docLink = document.createElement('div');\n",
              "          docLink.innerHTML = docLinkHtml;\n",
              "          element.appendChild(docLink);\n",
              "        }\n",
              "      </script>\n",
              "    </div>\n",
              "  </div>\n",
              "  "
            ]
          },
          "metadata": {},
          "execution_count": 36
        }
      ]
    },
    {
      "cell_type": "markdown",
      "source": [
        "### standardize the rates"
      ],
      "metadata": {
        "id": "mT3QvzsXj4wM"
      }
    },
    {
      "cell_type": "code",
      "source": [
        "from sklearn.preprocessing import StandardScaler\n",
        "from sklearn.compose import ColumnTransformer\n",
        "\n",
        "#XPrimary[['NegotiatedRateScaled']] = StandardScaler().fit_transform(XPrimary[['NegotiatedRate']])\n",
        "XPrimary.groupby('BillingCode').transform(lambda x: (x - x.mean()) / x.std())\n"
      ],
      "metadata": {
        "colab": {
          "base_uri": "https://localhost:8080/",
          "height": 516
        },
        "id": "PhvREQVNkY1P",
        "outputId": "8b0cc523-24af-44f6-b195-807f200da831"
      },
      "execution_count": null,
      "outputs": [
        {
          "output_type": "stream",
          "name": "stderr",
          "text": [
            "<ipython-input-37-1e4fd4dbfbd1>:5: FutureWarning: Dropping invalid columns in DataFrameGroupBy.transform is deprecated. In a future version, a TypeError will be raised. Before calling .transform, select only columns which should be valid for the function.\n",
            "  XPrimary.groupby('BillingCode').transform(lambda x: (x - x.mean()) / x.std())\n",
            "<ipython-input-37-1e4fd4dbfbd1>:5: FutureWarning: Dropping invalid columns in DataFrameGroupBy.transform is deprecated. In a future version, a TypeError will be raised. Before calling .transform, select only columns which should be valid for the function.\n",
            "  XPrimary.groupby('BillingCode').transform(lambda x: (x - x.mean()) / x.std())\n"
          ]
        },
        {
          "output_type": "execute_result",
          "data": {
            "text/plain": [
              "         NegotiatedRate  ProviderGroupId  NegotiatedRateScaled\n",
              "7675674       -1.881772        -1.808510             -1.881772\n",
              "7675675       -1.831962         0.310323             -1.831962\n",
              "7675676       -1.749836         0.405486             -1.749836\n",
              "7675677       -1.633937        -1.808510             -1.633937\n",
              "7675678       -1.625676         0.149129             -1.625676\n",
              "...                 ...              ...                   ...\n",
              "7741967        3.909534         0.650767              3.909534\n",
              "7741968        4.056546         0.320020              4.056546\n",
              "7741969        4.056546         0.979574              4.056546\n",
              "7741970        4.210267        -1.830318              4.210267\n",
              "7741971        4.699013         0.410224              4.699013\n",
              "\n",
              "[16238 rows x 3 columns]"
            ],
            "text/html": [
              "\n",
              "  <div id=\"df-b8972f32-cebf-4d63-8ab9-341b0123df9c\">\n",
              "    <div class=\"colab-df-container\">\n",
              "      <div>\n",
              "<style scoped>\n",
              "    .dataframe tbody tr th:only-of-type {\n",
              "        vertical-align: middle;\n",
              "    }\n",
              "\n",
              "    .dataframe tbody tr th {\n",
              "        vertical-align: top;\n",
              "    }\n",
              "\n",
              "    .dataframe thead th {\n",
              "        text-align: right;\n",
              "    }\n",
              "</style>\n",
              "<table border=\"1\" class=\"dataframe\">\n",
              "  <thead>\n",
              "    <tr style=\"text-align: right;\">\n",
              "      <th></th>\n",
              "      <th>NegotiatedRate</th>\n",
              "      <th>ProviderGroupId</th>\n",
              "      <th>NegotiatedRateScaled</th>\n",
              "    </tr>\n",
              "  </thead>\n",
              "  <tbody>\n",
              "    <tr>\n",
              "      <th>7675674</th>\n",
              "      <td>-1.881772</td>\n",
              "      <td>-1.808510</td>\n",
              "      <td>-1.881772</td>\n",
              "    </tr>\n",
              "    <tr>\n",
              "      <th>7675675</th>\n",
              "      <td>-1.831962</td>\n",
              "      <td>0.310323</td>\n",
              "      <td>-1.831962</td>\n",
              "    </tr>\n",
              "    <tr>\n",
              "      <th>7675676</th>\n",
              "      <td>-1.749836</td>\n",
              "      <td>0.405486</td>\n",
              "      <td>-1.749836</td>\n",
              "    </tr>\n",
              "    <tr>\n",
              "      <th>7675677</th>\n",
              "      <td>-1.633937</td>\n",
              "      <td>-1.808510</td>\n",
              "      <td>-1.633937</td>\n",
              "    </tr>\n",
              "    <tr>\n",
              "      <th>7675678</th>\n",
              "      <td>-1.625676</td>\n",
              "      <td>0.149129</td>\n",
              "      <td>-1.625676</td>\n",
              "    </tr>\n",
              "    <tr>\n",
              "      <th>...</th>\n",
              "      <td>...</td>\n",
              "      <td>...</td>\n",
              "      <td>...</td>\n",
              "    </tr>\n",
              "    <tr>\n",
              "      <th>7741967</th>\n",
              "      <td>3.909534</td>\n",
              "      <td>0.650767</td>\n",
              "      <td>3.909534</td>\n",
              "    </tr>\n",
              "    <tr>\n",
              "      <th>7741968</th>\n",
              "      <td>4.056546</td>\n",
              "      <td>0.320020</td>\n",
              "      <td>4.056546</td>\n",
              "    </tr>\n",
              "    <tr>\n",
              "      <th>7741969</th>\n",
              "      <td>4.056546</td>\n",
              "      <td>0.979574</td>\n",
              "      <td>4.056546</td>\n",
              "    </tr>\n",
              "    <tr>\n",
              "      <th>7741970</th>\n",
              "      <td>4.210267</td>\n",
              "      <td>-1.830318</td>\n",
              "      <td>4.210267</td>\n",
              "    </tr>\n",
              "    <tr>\n",
              "      <th>7741971</th>\n",
              "      <td>4.699013</td>\n",
              "      <td>0.410224</td>\n",
              "      <td>4.699013</td>\n",
              "    </tr>\n",
              "  </tbody>\n",
              "</table>\n",
              "<p>16238 rows × 3 columns</p>\n",
              "</div>\n",
              "      <button class=\"colab-df-convert\" onclick=\"convertToInteractive('df-b8972f32-cebf-4d63-8ab9-341b0123df9c')\"\n",
              "              title=\"Convert this dataframe to an interactive table.\"\n",
              "              style=\"display:none;\">\n",
              "        \n",
              "  <svg xmlns=\"http://www.w3.org/2000/svg\" height=\"24px\"viewBox=\"0 0 24 24\"\n",
              "       width=\"24px\">\n",
              "    <path d=\"M0 0h24v24H0V0z\" fill=\"none\"/>\n",
              "    <path d=\"M18.56 5.44l.94 2.06.94-2.06 2.06-.94-2.06-.94-.94-2.06-.94 2.06-2.06.94zm-11 1L8.5 8.5l.94-2.06 2.06-.94-2.06-.94L8.5 2.5l-.94 2.06-2.06.94zm10 10l.94 2.06.94-2.06 2.06-.94-2.06-.94-.94-2.06-.94 2.06-2.06.94z\"/><path d=\"M17.41 7.96l-1.37-1.37c-.4-.4-.92-.59-1.43-.59-.52 0-1.04.2-1.43.59L10.3 9.45l-7.72 7.72c-.78.78-.78 2.05 0 2.83L4 21.41c.39.39.9.59 1.41.59.51 0 1.02-.2 1.41-.59l7.78-7.78 2.81-2.81c.8-.78.8-2.07 0-2.86zM5.41 20L4 18.59l7.72-7.72 1.47 1.35L5.41 20z\"/>\n",
              "  </svg>\n",
              "      </button>\n",
              "      \n",
              "  <style>\n",
              "    .colab-df-container {\n",
              "      display:flex;\n",
              "      flex-wrap:wrap;\n",
              "      gap: 12px;\n",
              "    }\n",
              "\n",
              "    .colab-df-convert {\n",
              "      background-color: #E8F0FE;\n",
              "      border: none;\n",
              "      border-radius: 50%;\n",
              "      cursor: pointer;\n",
              "      display: none;\n",
              "      fill: #1967D2;\n",
              "      height: 32px;\n",
              "      padding: 0 0 0 0;\n",
              "      width: 32px;\n",
              "    }\n",
              "\n",
              "    .colab-df-convert:hover {\n",
              "      background-color: #E2EBFA;\n",
              "      box-shadow: 0px 1px 2px rgba(60, 64, 67, 0.3), 0px 1px 3px 1px rgba(60, 64, 67, 0.15);\n",
              "      fill: #174EA6;\n",
              "    }\n",
              "\n",
              "    [theme=dark] .colab-df-convert {\n",
              "      background-color: #3B4455;\n",
              "      fill: #D2E3FC;\n",
              "    }\n",
              "\n",
              "    [theme=dark] .colab-df-convert:hover {\n",
              "      background-color: #434B5C;\n",
              "      box-shadow: 0px 1px 3px 1px rgba(0, 0, 0, 0.15);\n",
              "      filter: drop-shadow(0px 1px 2px rgba(0, 0, 0, 0.3));\n",
              "      fill: #FFFFFF;\n",
              "    }\n",
              "  </style>\n",
              "\n",
              "      <script>\n",
              "        const buttonEl =\n",
              "          document.querySelector('#df-b8972f32-cebf-4d63-8ab9-341b0123df9c button.colab-df-convert');\n",
              "        buttonEl.style.display =\n",
              "          google.colab.kernel.accessAllowed ? 'block' : 'none';\n",
              "\n",
              "        async function convertToInteractive(key) {\n",
              "          const element = document.querySelector('#df-b8972f32-cebf-4d63-8ab9-341b0123df9c');\n",
              "          const dataTable =\n",
              "            await google.colab.kernel.invokeFunction('convertToInteractive',\n",
              "                                                     [key], {});\n",
              "          if (!dataTable) return;\n",
              "\n",
              "          const docLinkHtml = 'Like what you see? Visit the ' +\n",
              "            '<a target=\"_blank\" href=https://colab.research.google.com/notebooks/data_table.ipynb>data table notebook</a>'\n",
              "            + ' to learn more about interactive tables.';\n",
              "          element.innerHTML = '';\n",
              "          dataTable['output_type'] = 'display_data';\n",
              "          await google.colab.output.renderOutput(dataTable, element);\n",
              "          const docLink = document.createElement('div');\n",
              "          docLink.innerHTML = docLinkHtml;\n",
              "          element.appendChild(docLink);\n",
              "        }\n",
              "      </script>\n",
              "    </div>\n",
              "  </div>\n",
              "  "
            ]
          },
          "metadata": {},
          "execution_count": 37
        }
      ]
    },
    {
      "cell_type": "code",
      "source": [
        "XPrimary.head(5)"
      ],
      "metadata": {
        "colab": {
          "base_uri": "https://localhost:8080/",
          "height": 704
        },
        "id": "og_WtrhOnH0X",
        "outputId": "91155902-7664-40b2-c5dd-d1b9324241ae"
      },
      "execution_count": null,
      "outputs": [
        {
          "output_type": "execute_result",
          "data": {
            "text/plain": [
              "                      ReportingEntityName        ReportingEntityType  \\\n",
              "7675674  Harvard Pilgrim Health Care Inc.  THIRD PARTY ADMINISTRATOR   \n",
              "7675675  Harvard Pilgrim Health Care Inc.  THIRD PARTY ADMINISTRATOR   \n",
              "7675676  Harvard Pilgrim Health Care Inc.  THIRD PARTY ADMINISTRATOR   \n",
              "7675677  Harvard Pilgrim Health Care Inc.  THIRD PARTY ADMINISTRATOR   \n",
              "7675678  Harvard Pilgrim Health Care Inc.  THIRD PARTY ADMINISTRATOR   \n",
              "\n",
              "        LastUpdated Version Negotiation_Arrangement  \\\n",
              "7675674  2023-02-03   1.3.1                     ffs   \n",
              "7675675  2023-02-03   1.3.1                     ffs   \n",
              "7675676  2023-02-03   1.3.1                     ffs   \n",
              "7675677  2023-02-03   1.3.1                     ffs   \n",
              "7675678  2023-02-03   1.3.1                     ffs   \n",
              "\n",
              "                                Name BillingCodeType BillingCodeTypeVersion  \\\n",
              "7675674  OFFICE/OUTPATIENT VISIT NEW             CPT                   2023   \n",
              "7675675  OFFICE/OUTPATIENT VISIT NEW             CPT                   2023   \n",
              "7675676  OFFICE/OUTPATIENT VISIT NEW             CPT                   2023   \n",
              "7675677  OFFICE/OUTPATIENT VISIT NEW             CPT                   2023   \n",
              "7675678  OFFICE/OUTPATIENT VISIT NEW             CPT                   2023   \n",
              "\n",
              "        BillingCode                                        Description  \\\n",
              "7675674       99202  OFFICE OR OTHER OUTPATIENT VISIT FOR THE EVALU...   \n",
              "7675675       99202  OFFICE OR OTHER OUTPATIENT VISIT FOR THE EVALU...   \n",
              "7675676       99202  OFFICE OR OTHER OUTPATIENT VISIT FOR THE EVALU...   \n",
              "7675677       99202  OFFICE OR OTHER OUTPATIENT VISIT FOR THE EVALU...   \n",
              "7675678       99202  OFFICE OR OTHER OUTPATIENT VISIT FOR THE EVALU...   \n",
              "\n",
              "        NegotiatedType  NegotiatedRate ExpirationDate  BillingClass  \\\n",
              "7675674   fee schedule           20.55     2023-03-31  professional   \n",
              "7675675   fee schedule           22.60     2023-03-31  professional   \n",
              "7675676   fee schedule           25.98     2023-03-31  professional   \n",
              "7675677   fee schedule           30.75     2023-03-31  professional   \n",
              "7675678   fee schedule           31.09     2023-03-31  professional   \n",
              "\n",
              "        AdditionalInformation  ProviderGroupId  NegotiatedRateScaled  \n",
              "7675674                                   6397             -1.881772  \n",
              "7675675                                   8579             -1.831962  \n",
              "7675676                                   8677             -1.749836  \n",
              "7675677                                   6397             -1.633937  \n",
              "7675678                                   8413             -1.625676  "
            ],
            "text/html": [
              "\n",
              "  <div id=\"df-570e8b9d-2438-4dc5-992c-2fcb51a41ddb\">\n",
              "    <div class=\"colab-df-container\">\n",
              "      <div>\n",
              "<style scoped>\n",
              "    .dataframe tbody tr th:only-of-type {\n",
              "        vertical-align: middle;\n",
              "    }\n",
              "\n",
              "    .dataframe tbody tr th {\n",
              "        vertical-align: top;\n",
              "    }\n",
              "\n",
              "    .dataframe thead th {\n",
              "        text-align: right;\n",
              "    }\n",
              "</style>\n",
              "<table border=\"1\" class=\"dataframe\">\n",
              "  <thead>\n",
              "    <tr style=\"text-align: right;\">\n",
              "      <th></th>\n",
              "      <th>ReportingEntityName</th>\n",
              "      <th>ReportingEntityType</th>\n",
              "      <th>LastUpdated</th>\n",
              "      <th>Version</th>\n",
              "      <th>Negotiation_Arrangement</th>\n",
              "      <th>Name</th>\n",
              "      <th>BillingCodeType</th>\n",
              "      <th>BillingCodeTypeVersion</th>\n",
              "      <th>BillingCode</th>\n",
              "      <th>Description</th>\n",
              "      <th>NegotiatedType</th>\n",
              "      <th>NegotiatedRate</th>\n",
              "      <th>ExpirationDate</th>\n",
              "      <th>BillingClass</th>\n",
              "      <th>AdditionalInformation</th>\n",
              "      <th>ProviderGroupId</th>\n",
              "      <th>NegotiatedRateScaled</th>\n",
              "    </tr>\n",
              "  </thead>\n",
              "  <tbody>\n",
              "    <tr>\n",
              "      <th>7675674</th>\n",
              "      <td>Harvard Pilgrim Health Care Inc.</td>\n",
              "      <td>THIRD PARTY ADMINISTRATOR</td>\n",
              "      <td>2023-02-03</td>\n",
              "      <td>1.3.1</td>\n",
              "      <td>ffs</td>\n",
              "      <td>OFFICE/OUTPATIENT VISIT NEW</td>\n",
              "      <td>CPT</td>\n",
              "      <td>2023</td>\n",
              "      <td>99202</td>\n",
              "      <td>OFFICE OR OTHER OUTPATIENT VISIT FOR THE EVALU...</td>\n",
              "      <td>fee schedule</td>\n",
              "      <td>20.55</td>\n",
              "      <td>2023-03-31</td>\n",
              "      <td>professional</td>\n",
              "      <td></td>\n",
              "      <td>6397</td>\n",
              "      <td>-1.881772</td>\n",
              "    </tr>\n",
              "    <tr>\n",
              "      <th>7675675</th>\n",
              "      <td>Harvard Pilgrim Health Care Inc.</td>\n",
              "      <td>THIRD PARTY ADMINISTRATOR</td>\n",
              "      <td>2023-02-03</td>\n",
              "      <td>1.3.1</td>\n",
              "      <td>ffs</td>\n",
              "      <td>OFFICE/OUTPATIENT VISIT NEW</td>\n",
              "      <td>CPT</td>\n",
              "      <td>2023</td>\n",
              "      <td>99202</td>\n",
              "      <td>OFFICE OR OTHER OUTPATIENT VISIT FOR THE EVALU...</td>\n",
              "      <td>fee schedule</td>\n",
              "      <td>22.60</td>\n",
              "      <td>2023-03-31</td>\n",
              "      <td>professional</td>\n",
              "      <td></td>\n",
              "      <td>8579</td>\n",
              "      <td>-1.831962</td>\n",
              "    </tr>\n",
              "    <tr>\n",
              "      <th>7675676</th>\n",
              "      <td>Harvard Pilgrim Health Care Inc.</td>\n",
              "      <td>THIRD PARTY ADMINISTRATOR</td>\n",
              "      <td>2023-02-03</td>\n",
              "      <td>1.3.1</td>\n",
              "      <td>ffs</td>\n",
              "      <td>OFFICE/OUTPATIENT VISIT NEW</td>\n",
              "      <td>CPT</td>\n",
              "      <td>2023</td>\n",
              "      <td>99202</td>\n",
              "      <td>OFFICE OR OTHER OUTPATIENT VISIT FOR THE EVALU...</td>\n",
              "      <td>fee schedule</td>\n",
              "      <td>25.98</td>\n",
              "      <td>2023-03-31</td>\n",
              "      <td>professional</td>\n",
              "      <td></td>\n",
              "      <td>8677</td>\n",
              "      <td>-1.749836</td>\n",
              "    </tr>\n",
              "    <tr>\n",
              "      <th>7675677</th>\n",
              "      <td>Harvard Pilgrim Health Care Inc.</td>\n",
              "      <td>THIRD PARTY ADMINISTRATOR</td>\n",
              "      <td>2023-02-03</td>\n",
              "      <td>1.3.1</td>\n",
              "      <td>ffs</td>\n",
              "      <td>OFFICE/OUTPATIENT VISIT NEW</td>\n",
              "      <td>CPT</td>\n",
              "      <td>2023</td>\n",
              "      <td>99202</td>\n",
              "      <td>OFFICE OR OTHER OUTPATIENT VISIT FOR THE EVALU...</td>\n",
              "      <td>fee schedule</td>\n",
              "      <td>30.75</td>\n",
              "      <td>2023-03-31</td>\n",
              "      <td>professional</td>\n",
              "      <td></td>\n",
              "      <td>6397</td>\n",
              "      <td>-1.633937</td>\n",
              "    </tr>\n",
              "    <tr>\n",
              "      <th>7675678</th>\n",
              "      <td>Harvard Pilgrim Health Care Inc.</td>\n",
              "      <td>THIRD PARTY ADMINISTRATOR</td>\n",
              "      <td>2023-02-03</td>\n",
              "      <td>1.3.1</td>\n",
              "      <td>ffs</td>\n",
              "      <td>OFFICE/OUTPATIENT VISIT NEW</td>\n",
              "      <td>CPT</td>\n",
              "      <td>2023</td>\n",
              "      <td>99202</td>\n",
              "      <td>OFFICE OR OTHER OUTPATIENT VISIT FOR THE EVALU...</td>\n",
              "      <td>fee schedule</td>\n",
              "      <td>31.09</td>\n",
              "      <td>2023-03-31</td>\n",
              "      <td>professional</td>\n",
              "      <td></td>\n",
              "      <td>8413</td>\n",
              "      <td>-1.625676</td>\n",
              "    </tr>\n",
              "  </tbody>\n",
              "</table>\n",
              "</div>\n",
              "      <button class=\"colab-df-convert\" onclick=\"convertToInteractive('df-570e8b9d-2438-4dc5-992c-2fcb51a41ddb')\"\n",
              "              title=\"Convert this dataframe to an interactive table.\"\n",
              "              style=\"display:none;\">\n",
              "        \n",
              "  <svg xmlns=\"http://www.w3.org/2000/svg\" height=\"24px\"viewBox=\"0 0 24 24\"\n",
              "       width=\"24px\">\n",
              "    <path d=\"M0 0h24v24H0V0z\" fill=\"none\"/>\n",
              "    <path d=\"M18.56 5.44l.94 2.06.94-2.06 2.06-.94-2.06-.94-.94-2.06-.94 2.06-2.06.94zm-11 1L8.5 8.5l.94-2.06 2.06-.94-2.06-.94L8.5 2.5l-.94 2.06-2.06.94zm10 10l.94 2.06.94-2.06 2.06-.94-2.06-.94-.94-2.06-.94 2.06-2.06.94z\"/><path d=\"M17.41 7.96l-1.37-1.37c-.4-.4-.92-.59-1.43-.59-.52 0-1.04.2-1.43.59L10.3 9.45l-7.72 7.72c-.78.78-.78 2.05 0 2.83L4 21.41c.39.39.9.59 1.41.59.51 0 1.02-.2 1.41-.59l7.78-7.78 2.81-2.81c.8-.78.8-2.07 0-2.86zM5.41 20L4 18.59l7.72-7.72 1.47 1.35L5.41 20z\"/>\n",
              "  </svg>\n",
              "      </button>\n",
              "      \n",
              "  <style>\n",
              "    .colab-df-container {\n",
              "      display:flex;\n",
              "      flex-wrap:wrap;\n",
              "      gap: 12px;\n",
              "    }\n",
              "\n",
              "    .colab-df-convert {\n",
              "      background-color: #E8F0FE;\n",
              "      border: none;\n",
              "      border-radius: 50%;\n",
              "      cursor: pointer;\n",
              "      display: none;\n",
              "      fill: #1967D2;\n",
              "      height: 32px;\n",
              "      padding: 0 0 0 0;\n",
              "      width: 32px;\n",
              "    }\n",
              "\n",
              "    .colab-df-convert:hover {\n",
              "      background-color: #E2EBFA;\n",
              "      box-shadow: 0px 1px 2px rgba(60, 64, 67, 0.3), 0px 1px 3px 1px rgba(60, 64, 67, 0.15);\n",
              "      fill: #174EA6;\n",
              "    }\n",
              "\n",
              "    [theme=dark] .colab-df-convert {\n",
              "      background-color: #3B4455;\n",
              "      fill: #D2E3FC;\n",
              "    }\n",
              "\n",
              "    [theme=dark] .colab-df-convert:hover {\n",
              "      background-color: #434B5C;\n",
              "      box-shadow: 0px 1px 3px 1px rgba(0, 0, 0, 0.15);\n",
              "      filter: drop-shadow(0px 1px 2px rgba(0, 0, 0, 0.3));\n",
              "      fill: #FFFFFF;\n",
              "    }\n",
              "  </style>\n",
              "\n",
              "      <script>\n",
              "        const buttonEl =\n",
              "          document.querySelector('#df-570e8b9d-2438-4dc5-992c-2fcb51a41ddb button.colab-df-convert');\n",
              "        buttonEl.style.display =\n",
              "          google.colab.kernel.accessAllowed ? 'block' : 'none';\n",
              "\n",
              "        async function convertToInteractive(key) {\n",
              "          const element = document.querySelector('#df-570e8b9d-2438-4dc5-992c-2fcb51a41ddb');\n",
              "          const dataTable =\n",
              "            await google.colab.kernel.invokeFunction('convertToInteractive',\n",
              "                                                     [key], {});\n",
              "          if (!dataTable) return;\n",
              "\n",
              "          const docLinkHtml = 'Like what you see? Visit the ' +\n",
              "            '<a target=\"_blank\" href=https://colab.research.google.com/notebooks/data_table.ipynb>data table notebook</a>'\n",
              "            + ' to learn more about interactive tables.';\n",
              "          element.innerHTML = '';\n",
              "          dataTable['output_type'] = 'display_data';\n",
              "          await google.colab.output.renderOutput(dataTable, element);\n",
              "          const docLink = document.createElement('div');\n",
              "          docLink.innerHTML = docLinkHtml;\n",
              "          element.appendChild(docLink);\n",
              "        }\n",
              "      </script>\n",
              "    </div>\n",
              "  </div>\n",
              "  "
            ]
          },
          "metadata": {},
          "execution_count": 38
        }
      ]
    },
    {
      "cell_type": "code",
      "source": [
        "import seaborn as sns\n",
        "\n",
        "sns.set_style(\"whitegrid\")\n",
        "\n",
        "box_plot = sns.boxplot(x=\"BillingCode\",y=\"NegotiatedRateScaled\",data=XPrimary)\n",
        "\n",
        "medians = XPrimary.groupby(['BillingCode'])['NegotiatedRateScaled'].median()\n",
        "vertical_offset = XPrimary['NegotiatedRate'].median() * 0.05 # offset from median for display\n",
        "\n",
        "for xtick in box_plot.get_xticks():\n",
        "    box_plot.text(xtick,medians[xtick] + vertical_offset,medians[xtick],\n",
        "            horizontalalignment='center',size='x-small',color='w',weight='semibold')\n",
        "\n",
        "box_plot.tick_params(axis='x', rotation=90)"
      ],
      "metadata": {
        "colab": {
          "base_uri": "https://localhost:8080/",
          "height": 572
        },
        "id": "eyZpV_MvrkLA",
        "outputId": "7133437d-5f9d-49c5-a7ee-96cc5164a0ad"
      },
      "execution_count": null,
      "outputs": [
        {
          "output_type": "display_data",
          "data": {
            "text/plain": [
              "<Figure size 640x480 with 1 Axes>"
            ],
            "image/png": "[encoded data removed]"
          },
          "metadata": {}
        }
      ]
    },
    {
      "cell_type": "markdown",
      "source": [
        "check the scaling results by group"
      ],
      "metadata": {
        "id": "uKBcS1Tor650"
      }
    },
    {
      "cell_type": "code",
      "source": [
        "averageStdPriceByProviderGroup = XPrimary.groupby(\"ProviderGroupId\")[\"NegotiatedRateScaled\"].mean()"
      ],
      "metadata": {
        "id": "5BixvFWqsoPd"
      },
      "execution_count": null,
      "outputs": []
    },
    {
      "cell_type": "code",
      "source": [
        "averageStdPriceByProviderGroup"
      ],
      "metadata": {
        "colab": {
          "base_uri": "https://localhost:8080/"
        },
        "id": "uUxioxYatScB",
        "outputId": "c237ccf4-5e23-4a40-9c5e-168eff3733aa"
      },
      "execution_count": null,
      "outputs": [
        {
          "output_type": "execute_result",
          "data": {
            "text/plain": [
              "ProviderGroupId\n",
              "6306   -0.163540\n",
              "6307   -0.386053\n",
              "6308   -0.577118\n",
              "6309   -0.181543\n",
              "6310   -0.221488\n",
              "          ...   \n",
              "9335    2.207801\n",
              "9386   -0.398325\n",
              "9425    2.207801\n",
              "9433    0.890018\n",
              "9435    0.376749\n",
              "Name: NegotiatedRateScaled, Length: 584, dtype: float64"
            ]
          },
          "metadata": {},
          "execution_count": 41
        }
      ]
    },
    {
      "cell_type": "code",
      "source": [
        "type(averageStdPriceByProviderGroup)"
      ],
      "metadata": {
        "colab": {
          "base_uri": "https://localhost:8080/"
        },
        "id": "OQrSqL_nuGXx",
        "outputId": "52528186-1594-4806-ae01-cf5446bcc504"
      },
      "execution_count": null,
      "outputs": [
        {
          "output_type": "execute_result",
          "data": {
            "text/plain": [
              "pandas.core.series.Series"
            ]
          },
          "metadata": {},
          "execution_count": 42
        }
      ]
    },
    {
      "cell_type": "code",
      "source": [
        "sns.histplot(data=averageStdPriceByProviderGroup, x=averageStdPriceByProviderGroup.iloc[:1])"
      ],
      "metadata": {
        "colab": {
          "base_uri": "https://localhost:8080/",
          "height": 467
        },
        "id": "LyUJ-crHtIQc",
        "outputId": "e034a9d0-8b2f-41fd-d6a3-afc02c6faa69"
      },
      "execution_count": null,
      "outputs": [
        {
          "output_type": "execute_result",
          "data": {
            "text/plain": [
              "<Axes: xlabel='NegotiatedRateScaled', ylabel='Count'>"
            ]
          },
          "metadata": {},
          "execution_count": 43
        },
        {
          "output_type": "display_data",
          "data": {
            "text/plain": [
              "<Figure size 640x480 with 1 Axes>"
            ],
            "image/png": "[encoded data removed]"
          },
          "metadata": {}
        }
      ]
    },
    {
      "cell_type": "code",
      "source": [
        "import matplotlib.pyplot as plt\n",
        "\n",
        "plt.scatter(averageStdPriceByProviderGroup.index, averageStdPriceByProviderGroup)\n",
        "plt.show()\n"
      ],
      "metadata": {
        "colab": {
          "base_uri": "https://localhost:8080/",
          "height": 435
        },
        "id": "PpURA3ZVodkM",
        "outputId": "92b9aeae-b7de-477f-d296-ecf4b6607070"
      },
      "execution_count": null,
      "outputs": [
        {
          "output_type": "display_data",
          "data": {
            "text/plain": [
              "<Figure size 640x480 with 1 Axes>"
            ],
            "image/png": "[encoded data removed]"
          },
          "metadata": {}
        }
      ]
    },
    {
      "cell_type": "markdown",
      "source": [
        "# Look at the provider group for more info"
      ],
      "metadata": {
        "id": "-XvIPmZY9kax"
      }
    },
    {
      "cell_type": "code",
      "source": [
        "dict_in_network_providers"
      ],
      "metadata": {
        "id": "vQRGE1W59jqH",
        "colab": {
          "base_uri": "https://localhost:8080/"
        },
        "outputId": "2b97a78f-2426-428e-d2c3-b4315a66d48c"
      },
      "execution_count": null,
      "outputs": [
        {
          "output_type": "execute_result",
          "data": {
            "text/plain": [
              "{6306: 'https://eusprdtransparencymrfp32.blob.core.windows.net/hphc/2023-02-01_A077_FS_2_provider-references.zip',\n",
              " 6307: 'https://eusprdtransparencymrfp32.blob.core.windows.net/hphc/2023-02-01_A077_FS_3_provider-references.zip',\n",
              " 6308: 'https://eusprdtransparencymrfp32.blob.core.windows.net/hphc/2023-02-01_A077_FS_6_provider-references.zip',\n",
              " 6309: 'https://eusprdtransparencymrfp32.blob.core.windows.net/hphc/2023-02-01_A077_FS_7_provider-references.zip',\n",
              " 6310: 'https://eusprdtransparencymrfp32.blob.core.windows.net/hphc/2023-02-01_A077_FS_14_provider-references.zip',\n",
              " 6311: 'https://eusprdtransparencymrfp32.blob.core.windows.net/hphc/2023-02-01_A077_FS_15_provider-references.zip',\n",
              " 6312: 'https://eusprdtransparencymrfp32.blob.core.windows.net/hphc/2023-02-01_A077_FS_39_provider-references.zip',\n",
              " 6313: 'https://eusprdtransparencymrfp32.blob.core.windows.net/hphc/2023-02-01_A077_FS_60_provider-references.zip',\n",
              " 6314: 'https://eusprdtransparencymrfp32.blob.core.windows.net/hphc/2023-02-01_A077_FS_62_provider-references.zip',\n",
              " 6315: 'https://eusprdtransparencymrfp32.blob.core.windows.net/hphc/2023-02-01_A077_FS_85_provider-references.zip',\n",
              " 6316: 'https://eusprdtransparencymrfp32.blob.core.windows.net/hphc/2023-02-01_A077_FS_86_provider-references.zip',\n",
              " 6317: 'https://eusprdtransparencymrfp32.blob.core.windows.net/hphc/2023-02-01_A077_FS_96_provider-references.zip',\n",
              " 6318: 'https://eusprdtransparencymrfp32.blob.core.windows.net/hphc/2023-02-01_A077_FS_110_provider-references.zip',\n",
              " 6319: 'https://eusprdtransparencymrfp32.blob.core.windows.net/hphc/2023-02-01_A077_FS_112_provider-references.zip',\n",
              " 6320: 'https://eusprdtransparencymrfp32.blob.core.windows.net/hphc/2023-02-01_A077_FS_155_provider-references.zip',\n",
              " 6321: 'https://eusprdtransparencymrfp32.blob.core.windows.net/hphc/2023-02-01_A077_FS_171_provider-references.zip',\n",
              " 6322: 'https://eusprdtransparencymrfp32.blob.core.windows.net/hphc/2023-02-01_A077_FS_174_provider-references.zip',\n",
              " 6323: 'https://eusprdtransparencymrfp32.blob.core.windows.net/hphc/2023-02-01_A077_FS_175_provider-references.zip',\n",
              " 6324: 'https://eusprdtransparencymrfp32.blob.core.windows.net/hphc/2023-02-01_A077_FS_180_provider-references.zip',\n",
              " 6325: 'https://eusprdtransparencymrfp32.blob.core.windows.net/hphc/2023-02-01_A077_FS_182_provider-references.zip',\n",
              " 6326: 'https://eusprdtransparencymrfp32.blob.core.windows.net/hphc/2023-02-01_A077_FS_198_provider-references.zip',\n",
              " 6327: 'https://eusprdtransparencymrfp32.blob.core.windows.net/hphc/2023-02-01_A077_FS_209_provider-references.zip',\n",
              " 6328: 'https://eusprdtransparencymrfp32.blob.core.windows.net/hphc/2023-02-01_A077_FS_210_provider-references.zip',\n",
              " 6329: 'https://eusprdtransparencymrfp32.blob.core.windows.net/hphc/2023-02-01_A077_FS_218_provider-references.zip',\n",
              " 6330: 'https://eusprdtransparencymrfp32.blob.core.windows.net/hphc/2023-02-01_A077_FS_219_provider-references.zip',\n",
              " 6331: 'https://eusprdtransparencymrfp32.blob.core.windows.net/hphc/2023-02-01_A077_FS_222_provider-references.zip',\n",
              " 6332: 'https://eusprdtransparencymrfp32.blob.core.windows.net/hphc/2023-02-01_A077_FS_223_provider-references.zip',\n",
              " 6333: 'https://eusprdtransparencymrfp32.blob.core.windows.net/hphc/2023-02-01_A077_FS_225_provider-references.zip',\n",
              " 6334: 'https://eusprdtransparencymrfp32.blob.core.windows.net/hphc/2023-02-01_A077_FS_226_provider-references.zip',\n",
              " 6335: 'https://eusprdtransparencymrfp32.blob.core.windows.net/hphc/2023-02-01_A077_FS_227_provider-references.zip',\n",
              " 6336: 'https://eusprdtransparencymrfp32.blob.core.windows.net/hphc/2023-02-01_A077_FS_229_provider-references.zip',\n",
              " 6337: 'https://eusprdtransparencymrfp32.blob.core.windows.net/hphc/2023-02-01_A077_FS_230_provider-references.zip',\n",
              " 6338: 'https://eusprdtransparencymrfp32.blob.core.windows.net/hphc/2023-02-01_A077_FS_244_provider-references.zip',\n",
              " 6339: 'https://eusprdtransparencymrfp32.blob.core.windows.net/hphc/2023-02-01_A077_FS_245_provider-references.zip',\n",
              " 6340: 'https://eusprdtransparencymrfp32.blob.core.windows.net/hphc/2023-02-01_A077_FS_253_provider-references.zip',\n",
              " 6341: 'https://eusprdtransparencymrfp32.blob.core.windows.net/hphc/2023-02-01_A077_FS_258_provider-references.zip',\n",
              " 6342: 'https://eusprdtransparencymrfp32.blob.core.windows.net/hphc/2023-02-01_A077_FS_259_provider-references.zip',\n",
              " 6343: 'https://eusprdtransparencymrfp32.blob.core.windows.net/hphc/2023-02-01_A077_FS_268_provider-references.zip',\n",
              " 6344: 'https://eusprdtransparencymrfp32.blob.core.windows.net/hphc/2023-02-01_A077_FS_269_provider-references.zip',\n",
              " 6345: 'https://eusprdtransparencymrfp32.blob.core.windows.net/hphc/2023-02-01_A077_FS_365_provider-references.zip',\n",
              " 6346: 'https://eusprdtransparencymrfp32.blob.core.windows.net/hphc/2023-02-01_A077_FS_374_provider-references.zip',\n",
              " 6347: 'https://eusprdtransparencymrfp32.blob.core.windows.net/hphc/2023-02-01_A077_FS_384_provider-references.zip',\n",
              " 6348: 'https://eusprdtransparencymrfp32.blob.core.windows.net/hphc/2023-02-01_A077_FS_385_provider-references.zip',\n",
              " 6349: 'https://eusprdtransparencymrfp32.blob.core.windows.net/hphc/2023-02-01_A077_FS_387_provider-references.zip',\n",
              " 6350: 'https://eusprdtransparencymrfp32.blob.core.windows.net/hphc/2023-02-01_A077_FS_400_provider-references.zip',\n",
              " 6351: 'https://eusprdtransparencymrfp32.blob.core.windows.net/hphc/2023-02-01_A077_FS_401_provider-references.zip',\n",
              " 6352: 'https://eusprdtransparencymrfp32.blob.core.windows.net/hphc/2023-02-01_A077_FS_402_provider-references.zip',\n",
              " 6353: 'https://eusprdtransparencymrfp32.blob.core.windows.net/hphc/2023-02-01_A077_FS_437_provider-references.zip',\n",
              " 6354: 'https://eusprdtransparencymrfp32.blob.core.windows.net/hphc/2023-02-01_A077_FS_439_provider-references.zip',\n",
              " 6355: 'https://eusprdtransparencymrfp32.blob.core.windows.net/hphc/2023-02-01_A077_FS_444_provider-references.zip',\n",
              " 6356: 'https://eusprdtransparencymrfp32.blob.core.windows.net/hphc/2023-02-01_A077_FS_446_provider-references.zip',\n",
              " 6357: 'https://eusprdtransparencymrfp32.blob.core.windows.net/hphc/2023-02-01_A077_FS_449_provider-references.zip',\n",
              " 6358: 'https://eusprdtransparencymrfp32.blob.core.windows.net/hphc/2023-02-01_A077_FS_468_provider-references.zip',\n",
              " 6359: 'https://eusprdtransparencymrfp32.blob.core.windows.net/hphc/2023-02-01_A077_FS_472_provider-references.zip',\n",
              " 6360: 'https://eusprdtransparencymrfp32.blob.core.windows.net/hphc/2023-02-01_A077_FS_474_provider-references.zip',\n",
              " 6361: 'https://eusprdtransparencymrfp32.blob.core.windows.net/hphc/2023-02-01_A077_FS_480_provider-references.zip',\n",
              " 6362: 'https://eusprdtransparencymrfp32.blob.core.windows.net/hphc/2023-02-01_A077_FS_481_provider-references.zip',\n",
              " 6363: 'https://eusprdtransparencymrfp32.blob.core.windows.net/hphc/2023-02-01_A077_FS_482_provider-references.zip',\n",
              " 6364: 'https://eusprdtransparencymrfp32.blob.core.windows.net/hphc/2023-02-01_A077_FS_486_provider-references.zip',\n",
              " 6365: 'https://eusprdtransparencymrfp32.blob.core.windows.net/hphc/2023-02-01_A077_FS_487_provider-references.zip',\n",
              " 6366: 'https://eusprdtransparencymrfp32.blob.core.windows.net/hphc/2023-02-01_A077_FS_488_provider-references.zip',\n",
              " 6367: 'https://eusprdtransparencymrfp32.blob.core.windows.net/hphc/2023-02-01_A077_FS_489_provider-references.zip',\n",
              " 6368: 'https://eusprdtransparencymrfp32.blob.core.windows.net/hphc/2023-02-01_A077_FS_501_provider-references.zip',\n",
              " 6369: 'https://eusprdtransparencymrfp32.blob.core.windows.net/hphc/2023-02-01_A077_FS_502_provider-references.zip',\n",
              " 6370: 'https://eusprdtransparencymrfp32.blob.core.windows.net/hphc/2023-02-01_A077_FS_504_provider-references.zip',\n",
              " 6371: 'https://eusprdtransparencymrfp32.blob.core.windows.net/hphc/2023-02-01_A077_FS_505_provider-references.zip',\n",
              " 6372: 'https://eusprdtransparencymrfp32.blob.core.windows.net/hphc/2023-02-01_A077_FS_506_provider-references.zip',\n",
              " 6373: 'https://eusprdtransparencymrfp32.blob.core.windows.net/hphc/2023-02-01_A077_FS_507_provider-references.zip',\n",
              " 6374: 'https://eusprdtransparencymrfp32.blob.core.windows.net/hphc/2023-02-01_A077_FS_515_provider-references.zip',\n",
              " 6375: 'https://eusprdtransparencymrfp32.blob.core.windows.net/hphc/2023-02-01_A077_FS_516_provider-references.zip',\n",
              " 6376: 'https://eusprdtransparencymrfp32.blob.core.windows.net/hphc/2023-02-01_A077_FS_520_provider-references.zip',\n",
              " 6377: 'https://eusprdtransparencymrfp32.blob.core.windows.net/hphc/2023-02-01_A077_FS_522_provider-references.zip',\n",
              " 6378: 'https://eusprdtransparencymrfp32.blob.core.windows.net/hphc/2023-02-01_A077_FS_524_provider-references.zip',\n",
              " 6379: 'https://eusprdtransparencymrfp32.blob.core.windows.net/hphc/2023-02-01_A077_FS_527_provider-references.zip',\n",
              " 6380: 'https://eusprdtransparencymrfp32.blob.core.windows.net/hphc/2023-02-01_A077_FS_528_provider-references.zip',\n",
              " 6381: 'https://eusprdtransparencymrfp32.blob.core.windows.net/hphc/2023-02-01_A077_FS_534_provider-references.zip',\n",
              " 6382: 'https://eusprdtransparencymrfp32.blob.core.windows.net/hphc/2023-02-01_A077_FS_538_provider-references.zip',\n",
              " 6383: 'https://eusprdtransparencymrfp32.blob.core.windows.net/hphc/2023-02-01_A077_FS_539_provider-references.zip',\n",
              " 6384: 'https://eusprdtransparencymrfp32.blob.core.windows.net/hphc/2023-02-01_A077_FS_562_provider-references.zip',\n",
              " 6385: 'https://eusprdtransparencymrfp32.blob.core.windows.net/hphc/2023-02-01_A077_FS_568_provider-references.zip',\n",
              " 6386: 'https://eusprdtransparencymrfp32.blob.core.windows.net/hphc/2023-02-01_A077_FS_569_provider-references.zip',\n",
              " 6387: 'https://eusprdtransparencymrfp32.blob.core.windows.net/hphc/2023-02-01_A077_FS_574_provider-references.zip',\n",
              " 6388: 'https://eusprdtransparencymrfp32.blob.core.windows.net/hphc/2023-02-01_A077_FS_575_provider-references.zip',\n",
              " 6389: 'https://eusprdtransparencymrfp32.blob.core.windows.net/hphc/2023-02-01_A077_FS_580_provider-references.zip',\n",
              " 6390: 'https://eusprdtransparencymrfp32.blob.core.windows.net/hphc/2023-02-01_A077_FS_601_provider-references.zip',\n",
              " 6391: 'https://eusprdtransparencymrfp32.blob.core.windows.net/hphc/2023-02-01_A077_FS_612_provider-references.zip',\n",
              " 6392: 'https://eusprdtransparencymrfp32.blob.core.windows.net/hphc/2023-02-01_A077_FS_613_provider-references.zip',\n",
              " 6393: 'https://eusprdtransparencymrfp32.blob.core.windows.net/hphc/2023-02-01_A077_FS_660_provider-references.zip',\n",
              " 6394: 'https://eusprdtransparencymrfp32.blob.core.windows.net/hphc/2023-02-01_A077_FS_669_provider-references.zip',\n",
              " 6395: 'https://eusprdtransparencymrfp32.blob.core.windows.net/hphc/2023-02-01_A077_FS_674_provider-references.zip',\n",
              " 6396: 'https://eusprdtransparencymrfp32.blob.core.windows.net/hphc/2023-02-01_A077_FS_676_provider-references.zip',\n",
              " 6397: 'https://eusprdtransparencymrfp32.blob.core.windows.net/hphc/2023-02-01_A077_FS_684_provider-references.zip',\n",
              " 6398: 'https://eusprdtransparencymrfp32.blob.core.windows.net/hphc/2023-02-01_A077_FS_685_provider-references.zip',\n",
              " 6399: 'https://eusprdtransparencymrfp32.blob.core.windows.net/hphc/2023-02-01_A077_FS_686_provider-references.zip',\n",
              " 6400: 'https://eusprdtransparencymrfp32.blob.core.windows.net/hphc/2023-02-01_A077_FS_698_provider-references.zip',\n",
              " 6401: 'https://eusprdtransparencymrfp32.blob.core.windows.net/hphc/2023-02-01_A077_FS_731_provider-references.zip',\n",
              " 6402: 'https://eusprdtransparencymrfp32.blob.core.windows.net/hphc/2023-02-01_A077_FS_732_provider-references.zip',\n",
              " 6403: 'https://eusprdtransparencymrfp32.blob.core.windows.net/hphc/2023-02-01_A077_FS_737_provider-references.zip',\n",
              " 6404: 'https://eusprdtransparencymrfp32.blob.core.windows.net/hphc/2023-02-01_A077_FS_746_provider-references.zip',\n",
              " 6405: 'https://eusprdtransparencymrfp32.blob.core.windows.net/hphc/2023-02-01_A077_FS_753_provider-references.zip',\n",
              " 6406: 'https://eusprdtransparencymrfp32.blob.core.windows.net/hphc/2023-02-01_A077_FS_770_provider-references.zip',\n",
              " 6407: 'https://eusprdtransparencymrfp32.blob.core.windows.net/hphc/2023-02-01_A077_FS_771_provider-references.zip',\n",
              " 6408: 'https://eusprdtransparencymrfp32.blob.core.windows.net/hphc/2023-02-01_A077_FS_772_provider-references.zip',\n",
              " 6409: 'https://eusprdtransparencymrfp32.blob.core.windows.net/hphc/2023-02-01_A077_FS_825_provider-references.zip',\n",
              " 6410: 'https://eusprdtransparencymrfp32.blob.core.windows.net/hphc/2023-02-01_A077_FS_826_provider-references.zip',\n",
              " 6411: 'https://eusprdtransparencymrfp32.blob.core.windows.net/hphc/2023-02-01_A077_FS_833_provider-references.zip',\n",
              " 6412: 'https://eusprdtransparencymrfp32.blob.core.windows.net/hphc/2023-02-01_A077_FS_835_provider-references.zip',\n",
              " 6413: 'https://eusprdtransparencymrfp32.blob.core.windows.net/hphc/2023-02-01_A077_FS_839_provider-references.zip',\n",
              " 6414: 'https://eusprdtransparencymrfp32.blob.core.windows.net/hphc/2023-02-01_A077_FS_844_provider-references.zip',\n",
              " 6415: 'https://eusprdtransparencymrfp32.blob.core.windows.net/hphc/2023-02-01_A077_FS_847_provider-references.zip',\n",
              " 6416: 'https://eusprdtransparencymrfp32.blob.core.windows.net/hphc/2023-02-01_A077_FS_849_provider-references.zip',\n",
              " 6417: 'https://eusprdtransparencymrfp32.blob.core.windows.net/hphc/2023-02-01_A077_FS_892_provider-references.zip',\n",
              " 6418: 'https://eusprdtransparencymrfp32.blob.core.windows.net/hphc/2023-02-01_A077_FS_914_provider-references.zip',\n",
              " 6419: 'https://eusprdtransparencymrfp32.blob.core.windows.net/hphc/2023-02-01_A077_FS_926_provider-references.zip',\n",
              " 6420: 'https://eusprdtransparencymrfp32.blob.core.windows.net/hphc/2023-02-01_A077_FS_927_provider-references.zip',\n",
              " 6421: 'https://eusprdtransparencymrfp32.blob.core.windows.net/hphc/2023-02-01_A077_FS_944_provider-references.zip',\n",
              " 6422: 'https://eusprdtransparencymrfp32.blob.core.windows.net/hphc/2023-02-01_A077_FS_945_provider-references.zip',\n",
              " 6423: 'https://eusprdtransparencymrfp32.blob.core.windows.net/hphc/2023-02-01_A077_FS_950_provider-references.zip',\n",
              " 6424: 'https://eusprdtransparencymrfp32.blob.core.windows.net/hphc/2023-02-01_A077_FS_952_provider-references.zip',\n",
              " 6425: 'https://eusprdtransparencymrfp32.blob.core.windows.net/hphc/2023-02-01_A077_FS_963_provider-references.zip',\n",
              " 6426: 'https://eusprdtransparencymrfp32.blob.core.windows.net/hphc/2023-02-01_A077_FS_989_provider-references.zip',\n",
              " 6427: 'https://eusprdtransparencymrfp32.blob.core.windows.net/hphc/2023-02-01_A077_FS_990_provider-references.zip',\n",
              " 6428: 'https://eusprdtransparencymrfp32.blob.core.windows.net/hphc/2023-02-01_A077_FS_991_provider-references.zip',\n",
              " 6429: 'https://eusprdtransparencymrfp32.blob.core.windows.net/hphc/2023-02-01_A077_FS_997_provider-references.zip',\n",
              " 6430: 'https://eusprdtransparencymrfp32.blob.core.windows.net/hphc/2023-02-01_A077_FS_998_provider-references.zip',\n",
              " 6431: 'https://eusprdtransparencymrfp32.blob.core.windows.net/hphc/2023-02-01_A077_FS_1009_provider-references.zip',\n",
              " 6432: 'https://eusprdtransparencymrfp32.blob.core.windows.net/hphc/2023-02-01_A077_FS_1010_provider-references.zip',\n",
              " 6433: 'https://eusprdtransparencymrfp32.blob.core.windows.net/hphc/2023-02-01_A077_FS_1011_provider-references.zip',\n",
              " 6434: 'https://eusprdtransparencymrfp32.blob.core.windows.net/hphc/2023-02-01_A077_FS_1013_provider-references.zip',\n",
              " 6435: 'https://eusprdtransparencymrfp32.blob.core.windows.net/hphc/2023-02-01_A077_FS_1025_provider-references.zip',\n",
              " 6436: 'https://eusprdtransparencymrfp32.blob.core.windows.net/hphc/2023-02-01_A077_FS_1026_provider-references.zip',\n",
              " 6437: 'https://eusprdtransparencymrfp32.blob.core.windows.net/hphc/2023-02-01_A077_FS_1044_provider-references.zip',\n",
              " 8401: 'https://eusprdtransparencymrfp32.blob.core.windows.net/hphc/2023-02-01_1_provider-references.zip',\n",
              " 8403: 'https://eusprdtransparencymrfp32.blob.core.windows.net/hphc/2023-02-01_5_provider-references.zip',\n",
              " 8404: 'https://eusprdtransparencymrfp32.blob.core.windows.net/hphc/2023-02-01_8_provider-references.zip',\n",
              " 8405: 'https://eusprdtransparencymrfp32.blob.core.windows.net/hphc/2023-02-01_9_provider-references.zip',\n",
              " 8406: 'https://eusprdtransparencymrfp32.blob.core.windows.net/hphc/2023-02-01_10_provider-references.zip',\n",
              " 8407: 'https://eusprdtransparencymrfp32.blob.core.windows.net/hphc/2023-02-01_11_provider-references.zip',\n",
              " 8408: 'https://eusprdtransparencymrfp32.blob.core.windows.net/hphc/2023-02-01_12_provider-references.zip',\n",
              " 8409: 'https://eusprdtransparencymrfp32.blob.core.windows.net/hphc/2023-02-01_13_provider-references.zip',\n",
              " 8410: 'https://eusprdtransparencymrfp32.blob.core.windows.net/hphc/2023-02-01_16_provider-references.zip',\n",
              " 8411: 'https://eusprdtransparencymrfp32.blob.core.windows.net/hphc/2023-02-01_17_provider-references.zip',\n",
              " 8413: 'https://eusprdtransparencymrfp32.blob.core.windows.net/hphc/2023-02-01_19_provider-references.zip',\n",
              " 8414: 'https://eusprdtransparencymrfp32.blob.core.windows.net/hphc/2023-02-01_20_provider-references.zip',\n",
              " 8415: 'https://eusprdtransparencymrfp32.blob.core.windows.net/hphc/2023-02-01_21_provider-references.zip',\n",
              " 8426: 'https://eusprdtransparencymrfp32.blob.core.windows.net/hphc/2023-02-01_36_provider-references.zip',\n",
              " 8427: 'https://eusprdtransparencymrfp32.blob.core.windows.net/hphc/2023-02-01_37_provider-references.zip',\n",
              " 8428: 'https://eusprdtransparencymrfp32.blob.core.windows.net/hphc/2023-02-01_38_provider-references.zip',\n",
              " 8429: 'https://eusprdtransparencymrfp32.blob.core.windows.net/hphc/2023-02-01_40_provider-references.zip',\n",
              " 8432: 'https://eusprdtransparencymrfp32.blob.core.windows.net/hphc/2023-02-01_44_provider-references.zip',\n",
              " 8433: 'https://eusprdtransparencymrfp32.blob.core.windows.net/hphc/2023-02-01_45_provider-references.zip',\n",
              " 8436: 'https://eusprdtransparencymrfp32.blob.core.windows.net/hphc/2023-02-01_49_provider-references.zip',\n",
              " 8437: 'https://eusprdtransparencymrfp32.blob.core.windows.net/hphc/2023-02-01_51_provider-references.zip',\n",
              " 8441: 'https://eusprdtransparencymrfp32.blob.core.windows.net/hphc/2023-02-01_61_provider-references.zip',\n",
              " 8446: 'https://eusprdtransparencymrfp32.blob.core.windows.net/hphc/2023-02-01_76_provider-references.zip',\n",
              " 8447: 'https://eusprdtransparencymrfp32.blob.core.windows.net/hphc/2023-02-01_77_provider-references.zip',\n",
              " 8448: 'https://eusprdtransparencymrfp32.blob.core.windows.net/hphc/2023-02-01_78_provider-references.zip',\n",
              " 8449: 'https://eusprdtransparencymrfp32.blob.core.windows.net/hphc/2023-02-01_79_provider-references.zip',\n",
              " 8450: 'https://eusprdtransparencymrfp32.blob.core.windows.net/hphc/2023-02-01_80_provider-references.zip',\n",
              " 8451: 'https://eusprdtransparencymrfp32.blob.core.windows.net/hphc/2023-02-01_81_provider-references.zip',\n",
              " 8453: 'https://eusprdtransparencymrfp32.blob.core.windows.net/hphc/2023-02-01_83_provider-references.zip',\n",
              " 8454: 'https://eusprdtransparencymrfp32.blob.core.windows.net/hphc/2023-02-01_84_provider-references.zip',\n",
              " 8455: 'https://eusprdtransparencymrfp32.blob.core.windows.net/hphc/2023-02-01_87_provider-references.zip',\n",
              " 8456: 'https://eusprdtransparencymrfp32.blob.core.windows.net/hphc/2023-02-01_88_provider-references.zip',\n",
              " 8457: 'https://eusprdtransparencymrfp32.blob.core.windows.net/hphc/2023-02-01_89_provider-references.zip',\n",
              " 8459: 'https://eusprdtransparencymrfp32.blob.core.windows.net/hphc/2023-02-01_91_provider-references.zip',\n",
              " 8461: 'https://eusprdtransparencymrfp32.blob.core.windows.net/hphc/2023-02-01_93_provider-references.zip',\n",
              " 8462: 'https://eusprdtransparencymrfp32.blob.core.windows.net/hphc/2023-02-01_94_provider-references.zip',\n",
              " 8463: 'https://eusprdtransparencymrfp32.blob.core.windows.net/hphc/2023-02-01_95_provider-references.zip',\n",
              " 8464: 'https://eusprdtransparencymrfp32.blob.core.windows.net/hphc/2023-02-01_97_provider-references.zip',\n",
              " 8465: 'https://eusprdtransparencymrfp32.blob.core.windows.net/hphc/2023-02-01_98_provider-references.zip',\n",
              " 8468: 'https://eusprdtransparencymrfp32.blob.core.windows.net/hphc/2023-02-01_101_provider-references.zip',\n",
              " 8469: 'https://eusprdtransparencymrfp32.blob.core.windows.net/hphc/2023-02-01_102_provider-references.zip',\n",
              " 8470: 'https://eusprdtransparencymrfp32.blob.core.windows.net/hphc/2023-02-01_103_provider-references.zip',\n",
              " 8473: 'https://eusprdtransparencymrfp32.blob.core.windows.net/hphc/2023-02-01_106_provider-references.zip',\n",
              " 8474: 'https://eusprdtransparencymrfp32.blob.core.windows.net/hphc/2023-02-01_107_provider-references.zip',\n",
              " 8475: 'https://eusprdtransparencymrfp32.blob.core.windows.net/hphc/2023-02-01_108_provider-references.zip',\n",
              " 8476: 'https://eusprdtransparencymrfp32.blob.core.windows.net/hphc/2023-02-01_109_provider-references.zip',\n",
              " 8477: 'https://eusprdtransparencymrfp32.blob.core.windows.net/hphc/2023-02-01_111_provider-references.zip',\n",
              " 8478: 'https://eusprdtransparencymrfp32.blob.core.windows.net/hphc/2023-02-01_113_provider-references.zip',\n",
              " 8479: 'https://eusprdtransparencymrfp32.blob.core.windows.net/hphc/2023-02-01_114_provider-references.zip',\n",
              " 8480: 'https://eusprdtransparencymrfp32.blob.core.windows.net/hphc/2023-02-01_115_provider-references.zip',\n",
              " 8481: 'https://eusprdtransparencymrfp32.blob.core.windows.net/hphc/2023-02-01_116_provider-references.zip',\n",
              " 8482: 'https://eusprdtransparencymrfp32.blob.core.windows.net/hphc/2023-02-01_117_provider-references.zip',\n",
              " 8483: 'https://eusprdtransparencymrfp32.blob.core.windows.net/hphc/2023-02-01_118_provider-references.zip',\n",
              " 8491: 'https://eusprdtransparencymrfp32.blob.core.windows.net/hphc/2023-02-01_126_provider-references.zip',\n",
              " 8493: 'https://eusprdtransparencymrfp32.blob.core.windows.net/hphc/2023-02-01_129_provider-references.zip',\n",
              " 8495: 'https://eusprdtransparencymrfp32.blob.core.windows.net/hphc/2023-02-01_131_provider-references.zip',\n",
              " 8496: 'https://eusprdtransparencymrfp32.blob.core.windows.net/hphc/2023-02-01_132_provider-references.zip',\n",
              " 8497: 'https://eusprdtransparencymrfp32.blob.core.windows.net/hphc/2023-02-01_133_provider-references.zip',\n",
              " 8498: 'https://eusprdtransparencymrfp32.blob.core.windows.net/hphc/2023-02-01_134_provider-references.zip',\n",
              " 8499: 'https://eusprdtransparencymrfp32.blob.core.windows.net/hphc/2023-02-01_135_provider-references.zip',\n",
              " 8500: 'https://eusprdtransparencymrfp32.blob.core.windows.net/hphc/2023-02-01_136_provider-references.zip',\n",
              " 8502: 'https://eusprdtransparencymrfp32.blob.core.windows.net/hphc/2023-02-01_138_provider-references.zip',\n",
              " 8504: 'https://eusprdtransparencymrfp32.blob.core.windows.net/hphc/2023-02-01_140_provider-references.zip',\n",
              " 8507: 'https://eusprdtransparencymrfp32.blob.core.windows.net/hphc/2023-02-01_144_provider-references.zip',\n",
              " 8508: 'https://eusprdtransparencymrfp32.blob.core.windows.net/hphc/2023-02-01_145_provider-references.zip',\n",
              " 8509: 'https://eusprdtransparencymrfp32.blob.core.windows.net/hphc/2023-02-01_146_provider-references.zip',\n",
              " 8510: 'https://eusprdtransparencymrfp32.blob.core.windows.net/hphc/2023-02-01_147_provider-references.zip',\n",
              " 8511: 'https://eusprdtransparencymrfp32.blob.core.windows.net/hphc/2023-02-01_148_provider-references.zip',\n",
              " 8512: 'https://eusprdtransparencymrfp32.blob.core.windows.net/hphc/2023-02-01_149_provider-references.zip',\n",
              " 8513: 'https://eusprdtransparencymrfp32.blob.core.windows.net/hphc/2023-02-01_152_provider-references.zip',\n",
              " 8514: 'https://eusprdtransparencymrfp32.blob.core.windows.net/hphc/2023-02-01_153_provider-references.zip',\n",
              " 8515: 'https://eusprdtransparencymrfp32.blob.core.windows.net/hphc/2023-02-01_154_provider-references.zip',\n",
              " 8516: 'https://eusprdtransparencymrfp32.blob.core.windows.net/hphc/2023-02-01_156_provider-references.zip',\n",
              " 8517: 'https://eusprdtransparencymrfp32.blob.core.windows.net/hphc/2023-02-01_157_provider-references.zip',\n",
              " 8519: 'https://eusprdtransparencymrfp32.blob.core.windows.net/hphc/2023-02-01_159_provider-references.zip',\n",
              " 8521: 'https://eusprdtransparencymrfp32.blob.core.windows.net/hphc/2023-02-01_161_provider-references.zip',\n",
              " 8522: 'https://eusprdtransparencymrfp32.blob.core.windows.net/hphc/2023-02-01_162_provider-references.zip',\n",
              " 8523: 'https://eusprdtransparencymrfp32.blob.core.windows.net/hphc/2023-02-01_163_provider-references.zip',\n",
              " 8524: 'https://eusprdtransparencymrfp32.blob.core.windows.net/hphc/2023-02-01_164_provider-references.zip',\n",
              " 8525: 'https://eusprdtransparencymrfp32.blob.core.windows.net/hphc/2023-02-01_165_provider-references.zip',\n",
              " 8526: 'https://eusprdtransparencymrfp32.blob.core.windows.net/hphc/2023-02-01_166_provider-references.zip',\n",
              " 8527: 'https://eusprdtransparencymrfp32.blob.core.windows.net/hphc/2023-02-01_167_provider-references.zip',\n",
              " 8528: 'https://eusprdtransparencymrfp32.blob.core.windows.net/hphc/2023-02-01_168_provider-references.zip',\n",
              " 8529: 'https://eusprdtransparencymrfp32.blob.core.windows.net/hphc/2023-02-01_169_provider-references.zip',\n",
              " 8530: 'https://eusprdtransparencymrfp32.blob.core.windows.net/hphc/2023-02-01_170_provider-references.zip',\n",
              " 8531: 'https://eusprdtransparencymrfp32.blob.core.windows.net/hphc/2023-02-01_172_provider-references.zip',\n",
              " 8532: 'https://eusprdtransparencymrfp32.blob.core.windows.net/hphc/2023-02-01_173_provider-references.zip',\n",
              " 8533: 'https://eusprdtransparencymrfp32.blob.core.windows.net/hphc/2023-02-01_179_provider-references.zip',\n",
              " 8534: 'https://eusprdtransparencymrfp32.blob.core.windows.net/hphc/2023-02-01_181_provider-references.zip',\n",
              " 8535: 'https://eusprdtransparencymrfp32.blob.core.windows.net/hphc/2023-02-01_183_provider-references.zip',\n",
              " 8536: 'https://eusprdtransparencymrfp32.blob.core.windows.net/hphc/2023-02-01_185_provider-references.zip',\n",
              " 8538: 'https://eusprdtransparencymrfp32.blob.core.windows.net/hphc/2023-02-01_193_provider-references.zip',\n",
              " 8539: 'https://eusprdtransparencymrfp32.blob.core.windows.net/hphc/2023-02-01_194_provider-references.zip',\n",
              " 8540: 'https://eusprdtransparencymrfp32.blob.core.windows.net/hphc/2023-02-01_195_provider-references.zip',\n",
              " 8541: 'https://eusprdtransparencymrfp32.blob.core.windows.net/hphc/2023-02-01_199_provider-references.zip',\n",
              " 8542: 'https://eusprdtransparencymrfp32.blob.core.windows.net/hphc/2023-02-01_201_provider-references.zip',\n",
              " 8543: 'https://eusprdtransparencymrfp32.blob.core.windows.net/hphc/2023-02-01_202_provider-references.zip',\n",
              " 8544: 'https://eusprdtransparencymrfp32.blob.core.windows.net/hphc/2023-02-01_203_provider-references.zip',\n",
              " 8545: 'https://eusprdtransparencymrfp32.blob.core.windows.net/hphc/2023-02-01_204_provider-references.zip',\n",
              " 8546: 'https://eusprdtransparencymrfp32.blob.core.windows.net/hphc/2023-02-01_205_provider-references.zip',\n",
              " 8547: 'https://eusprdtransparencymrfp32.blob.core.windows.net/hphc/2023-02-01_206_provider-references.zip',\n",
              " 8550: 'https://eusprdtransparencymrfp32.blob.core.windows.net/hphc/2023-02-01_211_provider-references.zip',\n",
              " 8551: 'https://eusprdtransparencymrfp32.blob.core.windows.net/hphc/2023-02-01_212_provider-references.zip',\n",
              " 8552: 'https://eusprdtransparencymrfp32.blob.core.windows.net/hphc/2023-02-01_213_provider-references.zip',\n",
              " 8556: 'https://eusprdtransparencymrfp32.blob.core.windows.net/hphc/2023-02-01_217_provider-references.zip',\n",
              " 8557: 'https://eusprdtransparencymrfp32.blob.core.windows.net/hphc/2023-02-01_220_provider-references.zip',\n",
              " 8558: 'https://eusprdtransparencymrfp32.blob.core.windows.net/hphc/2023-02-01_221_provider-references.zip',\n",
              " 8559: 'https://eusprdtransparencymrfp32.blob.core.windows.net/hphc/2023-02-01_224_provider-references.zip',\n",
              " 8560: 'https://eusprdtransparencymrfp32.blob.core.windows.net/hphc/2023-02-01_228_provider-references.zip',\n",
              " 8561: 'https://eusprdtransparencymrfp32.blob.core.windows.net/hphc/2023-02-01_231_provider-references.zip',\n",
              " 8562: 'https://eusprdtransparencymrfp32.blob.core.windows.net/hphc/2023-02-01_232_provider-references.zip',\n",
              " 8563: 'https://eusprdtransparencymrfp32.blob.core.windows.net/hphc/2023-02-01_233_provider-references.zip',\n",
              " 8568: 'https://eusprdtransparencymrfp32.blob.core.windows.net/hphc/2023-02-01_238_provider-references.zip',\n",
              " 8569: 'https://eusprdtransparencymrfp32.blob.core.windows.net/hphc/2023-02-01_239_provider-references.zip',\n",
              " 8572: 'https://eusprdtransparencymrfp32.blob.core.windows.net/hphc/2023-02-01_243_provider-references.zip',\n",
              " 8573: 'https://eusprdtransparencymrfp32.blob.core.windows.net/hphc/2023-02-01_246_provider-references.zip',\n",
              " 8574: 'https://eusprdtransparencymrfp32.blob.core.windows.net/hphc/2023-02-01_247_provider-references.zip',\n",
              " 8575: 'https://eusprdtransparencymrfp32.blob.core.windows.net/hphc/2023-02-01_248_provider-references.zip',\n",
              " 8576: 'https://eusprdtransparencymrfp32.blob.core.windows.net/hphc/2023-02-01_249_provider-references.zip',\n",
              " 8579: 'https://eusprdtransparencymrfp32.blob.core.windows.net/hphc/2023-02-01_252_provider-references.zip',\n",
              " 8584: 'https://eusprdtransparencymrfp32.blob.core.windows.net/hphc/2023-02-01_260_provider-references.zip',\n",
              " 8585: 'https://eusprdtransparencymrfp32.blob.core.windows.net/hphc/2023-02-01_261_provider-references.zip',\n",
              " 8586: 'https://eusprdtransparencymrfp32.blob.core.windows.net/hphc/2023-02-01_262_provider-references.zip',\n",
              " 8587: 'https://eusprdtransparencymrfp32.blob.core.windows.net/hphc/2023-02-01_263_provider-references.zip',\n",
              " 8588: 'https://eusprdtransparencymrfp32.blob.core.windows.net/hphc/2023-02-01_264_provider-references.zip',\n",
              " 8589: 'https://eusprdtransparencymrfp32.blob.core.windows.net/hphc/2023-02-01_265_provider-references.zip',\n",
              " 8590: 'https://eusprdtransparencymrfp32.blob.core.windows.net/hphc/2023-02-01_266_provider-references.zip',\n",
              " 8621: 'https://eusprdtransparencymrfp32.blob.core.windows.net/hphc/2023-02-01_313_provider-references.zip',\n",
              " 8622: 'https://eusprdtransparencymrfp32.blob.core.windows.net/hphc/2023-02-01_314_provider-references.zip',\n",
              " 8647: 'https://eusprdtransparencymrfp32.blob.core.windows.net/hphc/2023-02-01_348_provider-references.zip',\n",
              " 8648: 'https://eusprdtransparencymrfp32.blob.core.windows.net/hphc/2023-02-01_349_provider-references.zip',\n",
              " 8650: 'https://eusprdtransparencymrfp32.blob.core.windows.net/hphc/2023-02-01_351_provider-references.zip',\n",
              " 8651: 'https://eusprdtransparencymrfp32.blob.core.windows.net/hphc/2023-02-01_352_provider-references.zip',\n",
              " 8652: 'https://eusprdtransparencymrfp32.blob.core.windows.net/hphc/2023-02-01_353_provider-references.zip',\n",
              " 8653: 'https://eusprdtransparencymrfp32.blob.core.windows.net/hphc/2023-02-01_359_provider-references.zip',\n",
              " 8654: 'https://eusprdtransparencymrfp32.blob.core.windows.net/hphc/2023-02-01_362_provider-references.zip',\n",
              " 8655: 'https://eusprdtransparencymrfp32.blob.core.windows.net/hphc/2023-02-01_363_provider-references.zip',\n",
              " 8656: 'https://eusprdtransparencymrfp32.blob.core.windows.net/hphc/2023-02-01_364_provider-references.zip',\n",
              " 8657: 'https://eusprdtransparencymrfp32.blob.core.windows.net/hphc/2023-02-01_366_provider-references.zip',\n",
              " 8658: 'https://eusprdtransparencymrfp32.blob.core.windows.net/hphc/2023-02-01_367_provider-references.zip',\n",
              " 8659: 'https://eusprdtransparencymrfp32.blob.core.windows.net/hphc/2023-02-01_368_provider-references.zip',\n",
              " 8660: 'https://eusprdtransparencymrfp32.blob.core.windows.net/hphc/2023-02-01_370_provider-references.zip',\n",
              " 8661: 'https://eusprdtransparencymrfp32.blob.core.windows.net/hphc/2023-02-01_371_provider-references.zip',\n",
              " 8662: 'https://eusprdtransparencymrfp32.blob.core.windows.net/hphc/2023-02-01_372_provider-references.zip',\n",
              " 8666: 'https://eusprdtransparencymrfp32.blob.core.windows.net/hphc/2023-02-01_380_provider-references.zip',\n",
              " 8667: 'https://eusprdtransparencymrfp32.blob.core.windows.net/hphc/2023-02-01_382_provider-references.zip',\n",
              " 8668: 'https://eusprdtransparencymrfp32.blob.core.windows.net/hphc/2023-02-01_383_provider-references.zip',\n",
              " 8669: 'https://eusprdtransparencymrfp32.blob.core.windows.net/hphc/2023-02-01_386_provider-references.zip',\n",
              " 8670: 'https://eusprdtransparencymrfp32.blob.core.windows.net/hphc/2023-02-01_388_provider-references.zip',\n",
              " 8671: 'https://eusprdtransparencymrfp32.blob.core.windows.net/hphc/2023-02-01_389_provider-references.zip',\n",
              " 8672: 'https://eusprdtransparencymrfp32.blob.core.windows.net/hphc/2023-02-01_390_provider-references.zip',\n",
              " 8677: 'https://eusprdtransparencymrfp32.blob.core.windows.net/hphc/2023-02-01_398_provider-references.zip',\n",
              " 8679: 'https://eusprdtransparencymrfp32.blob.core.windows.net/hphc/2023-02-01_403_provider-references.zip',\n",
              " 8680: 'https://eusprdtransparencymrfp32.blob.core.windows.net/hphc/2023-02-01_404_provider-references.zip',\n",
              " 8682: 'https://eusprdtransparencymrfp32.blob.core.windows.net/hphc/2023-02-01_406_provider-references.zip',\n",
              " 8683: 'https://eusprdtransparencymrfp32.blob.core.windows.net/hphc/2023-02-01_407_provider-references.zip',\n",
              " 8684: 'https://eusprdtransparencymrfp32.blob.core.windows.net/hphc/2023-02-01_408_provider-references.zip',\n",
              " 8685: 'https://eusprdtransparencymrfp32.blob.core.windows.net/hphc/2023-02-01_409_provider-references.zip',\n",
              " 8689: 'https://eusprdtransparencymrfp32.blob.core.windows.net/hphc/2023-02-01_413_provider-references.zip',\n",
              " 8695: 'https://eusprdtransparencymrfp32.blob.core.windows.net/hphc/2023-02-01_422_provider-references.zip',\n",
              " 8696: 'https://eusprdtransparencymrfp32.blob.core.windows.net/hphc/2023-02-01_423_provider-references.zip',\n",
              " 8699: 'https://eusprdtransparencymrfp32.blob.core.windows.net/hphc/2023-02-01_426_provider-references.zip',\n",
              " 8700: 'https://eusprdtransparencymrfp32.blob.core.windows.net/hphc/2023-02-01_427_provider-references.zip',\n",
              " 8701: 'https://eusprdtransparencymrfp32.blob.core.windows.net/hphc/2023-02-01_428_provider-references.zip',\n",
              " 8702: 'https://eusprdtransparencymrfp32.blob.core.windows.net/hphc/2023-02-01_429_provider-references.zip',\n",
              " 8703: 'https://eusprdtransparencymrfp32.blob.core.windows.net/hphc/2023-02-01_430_provider-references.zip',\n",
              " 8704: 'https://eusprdtransparencymrfp32.blob.core.windows.net/hphc/2023-02-01_431_provider-references.zip',\n",
              " 8705: 'https://eusprdtransparencymrfp32.blob.core.windows.net/hphc/2023-02-01_432_provider-references.zip',\n",
              " 8706: 'https://eusprdtransparencymrfp32.blob.core.windows.net/hphc/2023-02-01_433_provider-references.zip',\n",
              " 8707: 'https://eusprdtransparencymrfp32.blob.core.windows.net/hphc/2023-02-01_434_provider-references.zip',\n",
              " 8708: 'https://eusprdtransparencymrfp32.blob.core.windows.net/hphc/2023-02-01_435_provider-references.zip',\n",
              " 8709: 'https://eusprdtransparencymrfp32.blob.core.windows.net/hphc/2023-02-01_436_provider-references.zip',\n",
              " 8710: 'https://eusprdtransparencymrfp32.blob.core.windows.net/hphc/2023-02-01_438_provider-references.zip',\n",
              " 8711: 'https://eusprdtransparencymrfp32.blob.core.windows.net/hphc/2023-02-01_440_provider-references.zip',\n",
              " 8712: 'https://eusprdtransparencymrfp32.blob.core.windows.net/hphc/2023-02-01_441_provider-references.zip',\n",
              " 8713: 'https://eusprdtransparencymrfp32.blob.core.windows.net/hphc/2023-02-01_442_provider-references.zip',\n",
              " 8714: 'https://eusprdtransparencymrfp32.blob.core.windows.net/hphc/2023-02-01_443_provider-references.zip',\n",
              " 8715: 'https://eusprdtransparencymrfp32.blob.core.windows.net/hphc/2023-02-01_445_provider-references.zip',\n",
              " 8716: 'https://eusprdtransparencymrfp32.blob.core.windows.net/hphc/2023-02-01_447_provider-references.zip',\n",
              " 8717: 'https://eusprdtransparencymrfp32.blob.core.windows.net/hphc/2023-02-01_448_provider-references.zip',\n",
              " 8718: 'https://eusprdtransparencymrfp32.blob.core.windows.net/hphc/2023-02-01_450_provider-references.zip',\n",
              " 8719: 'https://eusprdtransparencymrfp32.blob.core.windows.net/hphc/2023-02-01_451_provider-references.zip',\n",
              " 8720: 'https://eusprdtransparencymrfp32.blob.core.windows.net/hphc/2023-02-01_452_provider-references.zip',\n",
              " 8721: 'https://eusprdtransparencymrfp32.blob.core.windows.net/hphc/2023-02-01_453_provider-references.zip',\n",
              " 8722: 'https://eusprdtransparencymrfp32.blob.core.windows.net/hphc/2023-02-01_454_provider-references.zip',\n",
              " 8723: 'https://eusprdtransparencymrfp32.blob.core.windows.net/hphc/2023-02-01_455_provider-references.zip',\n",
              " 8729: 'https://eusprdtransparencymrfp32.blob.core.windows.net/hphc/2023-02-01_461_provider-references.zip',\n",
              " 8730: 'https://eusprdtransparencymrfp32.blob.core.windows.net/hphc/2023-02-01_462_provider-references.zip',\n",
              " 8731: 'https://eusprdtransparencymrfp32.blob.core.windows.net/hphc/2023-02-01_463_provider-references.zip',\n",
              " 8732: 'https://eusprdtransparencymrfp32.blob.core.windows.net/hphc/2023-02-01_464_provider-references.zip',\n",
              " 8735: 'https://eusprdtransparencymrfp32.blob.core.windows.net/hphc/2023-02-01_467_provider-references.zip',\n",
              " 8736: 'https://eusprdtransparencymrfp32.blob.core.windows.net/hphc/2023-02-01_469_provider-references.zip',\n",
              " 8737: 'https://eusprdtransparencymrfp32.blob.core.windows.net/hphc/2023-02-01_470_provider-references.zip',\n",
              " 8739: 'https://eusprdtransparencymrfp32.blob.core.windows.net/hphc/2023-02-01_473_provider-references.zip',\n",
              " 8741: 'https://eusprdtransparencymrfp32.blob.core.windows.net/hphc/2023-02-01_476_provider-references.zip',\n",
              " 8742: 'https://eusprdtransparencymrfp32.blob.core.windows.net/hphc/2023-02-01_477_provider-references.zip',\n",
              " 8743: 'https://eusprdtransparencymrfp32.blob.core.windows.net/hphc/2023-02-01_478_provider-references.zip',\n",
              " 8744: 'https://eusprdtransparencymrfp32.blob.core.windows.net/hphc/2023-02-01_479_provider-references.zip',\n",
              " 8745: 'https://eusprdtransparencymrfp32.blob.core.windows.net/hphc/2023-02-01_483_provider-references.zip',\n",
              " 8748: 'https://eusprdtransparencymrfp32.blob.core.windows.net/hphc/2023-02-01_496_provider-references.zip',\n",
              " 8749: 'https://eusprdtransparencymrfp32.blob.core.windows.net/hphc/2023-02-01_497_provider-references.zip',\n",
              " 8750: 'https://eusprdtransparencymrfp32.blob.core.windows.net/hphc/2023-02-01_498_provider-references.zip',\n",
              " 8751: 'https://eusprdtransparencymrfp32.blob.core.windows.net/hphc/2023-02-01_499_provider-references.zip',\n",
              " 8752: 'https://eusprdtransparencymrfp32.blob.core.windows.net/hphc/2023-02-01_500_provider-references.zip',\n",
              " 8753: 'https://eusprdtransparencymrfp32.blob.core.windows.net/hphc/2023-02-01_503_provider-references.zip',\n",
              " 8754: 'https://eusprdtransparencymrfp32.blob.core.windows.net/hphc/2023-02-01_508_provider-references.zip',\n",
              " 8759: 'https://eusprdtransparencymrfp32.blob.core.windows.net/hphc/2023-02-01_514_provider-references.zip',\n",
              " 8760: 'https://eusprdtransparencymrfp32.blob.core.windows.net/hphc/2023-02-01_517_provider-references.zip',\n",
              " 8763: 'https://eusprdtransparencymrfp32.blob.core.windows.net/hphc/2023-02-01_523_provider-references.zip',\n",
              " 8764: 'https://eusprdtransparencymrfp32.blob.core.windows.net/hphc/2023-02-01_525_provider-references.zip',\n",
              " 8765: 'https://eusprdtransparencymrfp32.blob.core.windows.net/hphc/2023-02-01_526_provider-references.zip',\n",
              " 8769: 'https://eusprdtransparencymrfp32.blob.core.windows.net/hphc/2023-02-01_532_provider-references.zip',\n",
              " 8771: 'https://eusprdtransparencymrfp32.blob.core.windows.net/hphc/2023-02-01_535_provider-references.zip',\n",
              " 8772: 'https://eusprdtransparencymrfp32.blob.core.windows.net/hphc/2023-02-01_536_provider-references.zip',\n",
              " 8773: 'https://eusprdtransparencymrfp32.blob.core.windows.net/hphc/2023-02-01_537_provider-references.zip',\n",
              " 8775: 'https://eusprdtransparencymrfp32.blob.core.windows.net/hphc/2023-02-01_542_provider-references.zip',\n",
              " 8776: 'https://eusprdtransparencymrfp32.blob.core.windows.net/hphc/2023-02-01_543_provider-references.zip',\n",
              " 8778: 'https://eusprdtransparencymrfp32.blob.core.windows.net/hphc/2023-02-01_545_provider-references.zip',\n",
              " 8779: 'https://eusprdtransparencymrfp32.blob.core.windows.net/hphc/2023-02-01_546_provider-references.zip',\n",
              " 8782: 'https://eusprdtransparencymrfp32.blob.core.windows.net/hphc/2023-02-01_549_provider-references.zip',\n",
              " 8783: 'https://eusprdtransparencymrfp32.blob.core.windows.net/hphc/2023-02-01_550_provider-references.zip',\n",
              " 8784: 'https://eusprdtransparencymrfp32.blob.core.windows.net/hphc/2023-02-01_551_provider-references.zip',\n",
              " 8785: 'https://eusprdtransparencymrfp32.blob.core.windows.net/hphc/2023-02-01_552_provider-references.zip',\n",
              " 8786: 'https://eusprdtransparencymrfp32.blob.core.windows.net/hphc/2023-02-01_553_provider-references.zip',\n",
              " 8787: 'https://eusprdtransparencymrfp32.blob.core.windows.net/hphc/2023-02-01_554_provider-references.zip',\n",
              " 8788: 'https://eusprdtransparencymrfp32.blob.core.windows.net/hphc/2023-02-01_555_provider-references.zip',\n",
              " 8789: 'https://eusprdtransparencymrfp32.blob.core.windows.net/hphc/2023-02-01_556_provider-references.zip',\n",
              " 8790: 'https://eusprdtransparencymrfp32.blob.core.windows.net/hphc/2023-02-01_557_provider-references.zip',\n",
              " 8791: 'https://eusprdtransparencymrfp32.blob.core.windows.net/hphc/2023-02-01_558_provider-references.zip',\n",
              " 8792: 'https://eusprdtransparencymrfp32.blob.core.windows.net/hphc/2023-02-01_559_provider-references.zip',\n",
              " 8793: 'https://eusprdtransparencymrfp32.blob.core.windows.net/hphc/2023-02-01_560_provider-references.zip',\n",
              " 8794: 'https://eusprdtransparencymrfp32.blob.core.windows.net/hphc/2023-02-01_561_provider-references.zip',\n",
              " 8795: 'https://eusprdtransparencymrfp32.blob.core.windows.net/hphc/2023-02-01_563_provider-references.zip',\n",
              " 8796: 'https://eusprdtransparencymrfp32.blob.core.windows.net/hphc/2023-02-01_564_provider-references.zip',\n",
              " 8797: 'https://eusprdtransparencymrfp32.blob.core.windows.net/hphc/2023-02-01_565_provider-references.zip',\n",
              " 8799: 'https://eusprdtransparencymrfp32.blob.core.windows.net/hphc/2023-02-01_567_provider-references.zip',\n",
              " 8800: 'https://eusprdtransparencymrfp32.blob.core.windows.net/hphc/2023-02-01_570_provider-references.zip',\n",
              " 8801: 'https://eusprdtransparencymrfp32.blob.core.windows.net/hphc/2023-02-01_571_provider-references.zip',\n",
              " 8805: 'https://eusprdtransparencymrfp32.blob.core.windows.net/hphc/2023-02-01_578_provider-references.zip',\n",
              " 8806: 'https://eusprdtransparencymrfp32.blob.core.windows.net/hphc/2023-02-01_579_provider-references.zip',\n",
              " 8809: 'https://eusprdtransparencymrfp32.blob.core.windows.net/hphc/2023-02-01_583_provider-references.zip',\n",
              " 8810: 'https://eusprdtransparencymrfp32.blob.core.windows.net/hphc/2023-02-01_584_provider-references.zip',\n",
              " 8813: 'https://eusprdtransparencymrfp32.blob.core.windows.net/hphc/2023-02-01_588_provider-references.zip',\n",
              " 8814: 'https://eusprdtransparencymrfp32.blob.core.windows.net/hphc/2023-02-01_589_provider-references.zip',\n",
              " 8815: 'https://eusprdtransparencymrfp32.blob.core.windows.net/hphc/2023-02-01_590_provider-references.zip',\n",
              " 8816: 'https://eusprdtransparencymrfp32.blob.core.windows.net/hphc/2023-02-01_591_provider-references.zip',\n",
              " 8817: 'https://eusprdtransparencymrfp32.blob.core.windows.net/hphc/2023-02-01_592_provider-references.zip',\n",
              " 8818: 'https://eusprdtransparencymrfp32.blob.core.windows.net/hphc/2023-02-01_593_provider-references.zip',\n",
              " 8819: 'https://eusprdtransparencymrfp32.blob.core.windows.net/hphc/2023-02-01_594_provider-references.zip',\n",
              " 8824: 'https://eusprdtransparencymrfp32.blob.core.windows.net/hphc/2023-02-01_599_provider-references.zip',\n",
              " 8827: 'https://eusprdtransparencymrfp32.blob.core.windows.net/hphc/2023-02-01_603_provider-references.zip',\n",
              " 8830: 'https://eusprdtransparencymrfp32.blob.core.windows.net/hphc/2023-02-01_606_provider-references.zip',\n",
              " 8832: 'https://eusprdtransparencymrfp32.blob.core.windows.net/hphc/2023-02-01_608_provider-references.zip',\n",
              " 8834: 'https://eusprdtransparencymrfp32.blob.core.windows.net/hphc/2023-02-01_610_provider-references.zip',\n",
              " 8836: 'https://eusprdtransparencymrfp32.blob.core.windows.net/hphc/2023-02-01_614_provider-references.zip',\n",
              " 8837: 'https://eusprdtransparencymrfp32.blob.core.windows.net/hphc/2023-02-01_615_provider-references.zip',\n",
              " 8838: 'https://eusprdtransparencymrfp32.blob.core.windows.net/hphc/2023-02-01_616_provider-references.zip',\n",
              " 8839: 'https://eusprdtransparencymrfp32.blob.core.windows.net/hphc/2023-02-01_617_provider-references.zip',\n",
              " 8840: 'https://eusprdtransparencymrfp32.blob.core.windows.net/hphc/2023-02-01_618_provider-references.zip',\n",
              " 8842: 'https://eusprdtransparencymrfp32.blob.core.windows.net/hphc/2023-02-01_620_provider-references.zip',\n",
              " 8849: 'https://eusprdtransparencymrfp32.blob.core.windows.net/hphc/2023-02-01_632_provider-references.zip',\n",
              " 8858: 'https://eusprdtransparencymrfp32.blob.core.windows.net/hphc/2023-02-01_641_provider-references.zip',\n",
              " 8860: 'https://eusprdtransparencymrfp32.blob.core.windows.net/hphc/2023-02-01_646_provider-references.zip',\n",
              " 8869: 'https://eusprdtransparencymrfp32.blob.core.windows.net/hphc/2023-02-01_658_provider-references.zip',\n",
              " 8870: 'https://eusprdtransparencymrfp32.blob.core.windows.net/hphc/2023-02-01_659_provider-references.zip',\n",
              " 8871: 'https://eusprdtransparencymrfp32.blob.core.windows.net/hphc/2023-02-01_661_provider-references.zip',\n",
              " 8872: 'https://eusprdtransparencymrfp32.blob.core.windows.net/hphc/2023-02-01_662_provider-references.zip',\n",
              " 8873: 'https://eusprdtransparencymrfp32.blob.core.windows.net/hphc/2023-02-01_663_provider-references.zip',\n",
              " 8875: 'https://eusprdtransparencymrfp32.blob.core.windows.net/hphc/2023-02-01_668_provider-references.zip',\n",
              " 8876: 'https://eusprdtransparencymrfp32.blob.core.windows.net/hphc/2023-02-01_670_provider-references.zip',\n",
              " 8877: 'https://eusprdtransparencymrfp32.blob.core.windows.net/hphc/2023-02-01_671_provider-references.zip',\n",
              " 8878: 'https://eusprdtransparencymrfp32.blob.core.windows.net/hphc/2023-02-01_672_provider-references.zip',\n",
              " 8879: 'https://eusprdtransparencymrfp32.blob.core.windows.net/hphc/2023-02-01_673_provider-references.zip',\n",
              " 8880: 'https://eusprdtransparencymrfp32.blob.core.windows.net/hphc/2023-02-01_675_provider-references.zip',\n",
              " 8884: 'https://eusprdtransparencymrfp32.blob.core.windows.net/hphc/2023-02-01_680_provider-references.zip',\n",
              " 8885: 'https://eusprdtransparencymrfp32.blob.core.windows.net/hphc/2023-02-01_681_provider-references.zip',\n",
              " 8888: 'https://eusprdtransparencymrfp32.blob.core.windows.net/hphc/2023-02-01_689_provider-references.zip',\n",
              " 8889: 'https://eusprdtransparencymrfp32.blob.core.windows.net/hphc/2023-02-01_690_provider-references.zip',\n",
              " 8890: 'https://eusprdtransparencymrfp32.blob.core.windows.net/hphc/2023-02-01_691_provider-references.zip',\n",
              " 8891: 'https://eusprdtransparencymrfp32.blob.core.windows.net/hphc/2023-02-01_692_provider-references.zip',\n",
              " 8892: 'https://eusprdtransparencymrfp32.blob.core.windows.net/hphc/2023-02-01_693_provider-references.zip',\n",
              " 8893: 'https://eusprdtransparencymrfp32.blob.core.windows.net/hphc/2023-02-01_694_provider-references.zip',\n",
              " 8894: 'https://eusprdtransparencymrfp32.blob.core.windows.net/hphc/2023-02-01_695_provider-references.zip',\n",
              " 8896: 'https://eusprdtransparencymrfp32.blob.core.windows.net/hphc/2023-02-01_697_provider-references.zip',\n",
              " 8897: 'https://eusprdtransparencymrfp32.blob.core.windows.net/hphc/2023-02-01_699_provider-references.zip',\n",
              " 8899: 'https://eusprdtransparencymrfp32.blob.core.windows.net/hphc/2023-02-01_701_provider-references.zip',\n",
              " 8907: 'https://eusprdtransparencymrfp32.blob.core.windows.net/hphc/2023-02-01_709_provider-references.zip',\n",
              " 8908: 'https://eusprdtransparencymrfp32.blob.core.windows.net/hphc/2023-02-01_710_provider-references.zip',\n",
              " 8909: 'https://eusprdtransparencymrfp32.blob.core.windows.net/hphc/2023-02-01_711_provider-references.zip',\n",
              " 8910: 'https://eusprdtransparencymrfp32.blob.core.windows.net/hphc/2023-02-01_712_provider-references.zip',\n",
              " 8911: 'https://eusprdtransparencymrfp32.blob.core.windows.net/hphc/2023-02-01_713_provider-references.zip',\n",
              " 8912: 'https://eusprdtransparencymrfp32.blob.core.windows.net/hphc/2023-02-01_715_provider-references.zip',\n",
              " 8913: 'https://eusprdtransparencymrfp32.blob.core.windows.net/hphc/2023-02-01_716_provider-references.zip',\n",
              " 8915: 'https://eusprdtransparencymrfp32.blob.core.windows.net/hphc/2023-02-01_719_provider-references.zip',\n",
              " 8916: 'https://eusprdtransparencymrfp32.blob.core.windows.net/hphc/2023-02-01_720_provider-references.zip',\n",
              " 8917: 'https://eusprdtransparencymrfp32.blob.core.windows.net/hphc/2023-02-01_721_provider-references.zip',\n",
              " 8919: 'https://eusprdtransparencymrfp32.blob.core.windows.net/hphc/2023-02-01_724_provider-references.zip',\n",
              " 8926: 'https://eusprdtransparencymrfp32.blob.core.windows.net/hphc/2023-02-01_733_provider-references.zip',\n",
              " 8928: 'https://eusprdtransparencymrfp32.blob.core.windows.net/hphc/2023-02-01_738_provider-references.zip',\n",
              " 8929: 'https://eusprdtransparencymrfp32.blob.core.windows.net/hphc/2023-02-01_739_provider-references.zip',\n",
              " 8931: 'https://eusprdtransparencymrfp32.blob.core.windows.net/hphc/2023-02-01_741_provider-references.zip',\n",
              " 8933: 'https://eusprdtransparencymrfp32.blob.core.windows.net/hphc/2023-02-01_743_provider-references.zip',\n",
              " 8934: 'https://eusprdtransparencymrfp32.blob.core.windows.net/hphc/2023-02-01_744_provider-references.zip',\n",
              " 8935: 'https://eusprdtransparencymrfp32.blob.core.windows.net/hphc/2023-02-01_745_provider-references.zip',\n",
              " 8936: 'https://eusprdtransparencymrfp32.blob.core.windows.net/hphc/2023-02-01_747_provider-references.zip',\n",
              " 8937: 'https://eusprdtransparencymrfp32.blob.core.windows.net/hphc/2023-02-01_748_provider-references.zip',\n",
              " 8938: 'https://eusprdtransparencymrfp32.blob.core.windows.net/hphc/2023-02-01_749_provider-references.zip',\n",
              " 8939: 'https://eusprdtransparencymrfp32.blob.core.windows.net/hphc/2023-02-01_750_provider-references.zip',\n",
              " 8940: 'https://eusprdtransparencymrfp32.blob.core.windows.net/hphc/2023-02-01_751_provider-references.zip',\n",
              " 8941: 'https://eusprdtransparencymrfp32.blob.core.windows.net/hphc/2023-02-01_752_provider-references.zip',\n",
              " 8942: 'https://eusprdtransparencymrfp32.blob.core.windows.net/hphc/2023-02-01_754_provider-references.zip',\n",
              " 8946: 'https://eusprdtransparencymrfp32.blob.core.windows.net/hphc/2023-02-01_759_provider-references.zip',\n",
              " 8949: 'https://eusprdtransparencymrfp32.blob.core.windows.net/hphc/2023-02-01_762_provider-references.zip',\n",
              " 8950: 'https://eusprdtransparencymrfp32.blob.core.windows.net/hphc/2023-02-01_763_provider-references.zip',\n",
              " 8951: 'https://eusprdtransparencymrfp32.blob.core.windows.net/hphc/2023-02-01_764_provider-references.zip',\n",
              " 8952: 'https://eusprdtransparencymrfp32.blob.core.windows.net/hphc/2023-02-01_765_provider-references.zip',\n",
              " 8954: 'https://eusprdtransparencymrfp32.blob.core.windows.net/hphc/2023-02-01_768_provider-references.zip',\n",
              " 8955: 'https://eusprdtransparencymrfp32.blob.core.windows.net/hphc/2023-02-01_769_provider-references.zip',\n",
              " 8957: 'https://eusprdtransparencymrfp32.blob.core.windows.net/hphc/2023-02-01_774_provider-references.zip',\n",
              " 8958: 'https://eusprdtransparencymrfp32.blob.core.windows.net/hphc/2023-02-01_776_provider-references.zip',\n",
              " 8959: 'https://eusprdtransparencymrfp32.blob.core.windows.net/hphc/2023-02-01_777_provider-references.zip',\n",
              " 8961: 'https://eusprdtransparencymrfp32.blob.core.windows.net/hphc/2023-02-01_779_provider-references.zip',\n",
              " 8962: 'https://eusprdtransparencymrfp32.blob.core.windows.net/hphc/2023-02-01_780_provider-references.zip',\n",
              " 8963: 'https://eusprdtransparencymrfp32.blob.core.windows.net/hphc/2023-02-01_781_provider-references.zip',\n",
              " 8964: 'https://eusprdtransparencymrfp32.blob.core.windows.net/hphc/2023-02-01_782_provider-references.zip',\n",
              " 8966: 'https://eusprdtransparencymrfp32.blob.core.windows.net/hphc/2023-02-01_786_provider-references.zip',\n",
              " 8981: 'https://eusprdtransparencymrfp32.blob.core.windows.net/hphc/2023-02-01_807_provider-references.zip',\n",
              " 8982: 'https://eusprdtransparencymrfp32.blob.core.windows.net/hphc/2023-02-01_808_provider-references.zip',\n",
              " 8983: 'https://eusprdtransparencymrfp32.blob.core.windows.net/hphc/2023-02-01_809_provider-references.zip',\n",
              " 8984: 'https://eusprdtransparencymrfp32.blob.core.windows.net/hphc/2023-02-01_810_provider-references.zip',\n",
              " 8987: 'https://eusprdtransparencymrfp32.blob.core.windows.net/hphc/2023-02-01_818_provider-references.zip',\n",
              " 8988: 'https://eusprdtransparencymrfp32.blob.core.windows.net/hphc/2023-02-01_819_provider-references.zip',\n",
              " 8990: 'https://eusprdtransparencymrfp32.blob.core.windows.net/hphc/2023-02-01_821_provider-references.zip',\n",
              " 8991: 'https://eusprdtransparencymrfp32.blob.core.windows.net/hphc/2023-02-01_822_provider-references.zip',\n",
              " 8992: 'https://eusprdtransparencymrfp32.blob.core.windows.net/hphc/2023-02-01_823_provider-references.zip',\n",
              " 8993: 'https://eusprdtransparencymrfp32.blob.core.windows.net/hphc/2023-02-01_824_provider-references.zip',\n",
              " 8994: 'https://eusprdtransparencymrfp32.blob.core.windows.net/hphc/2023-02-01_827_provider-references.zip',\n",
              " 8995: 'https://eusprdtransparencymrfp32.blob.core.windows.net/hphc/2023-02-01_828_provider-references.zip',\n",
              " 8998: 'https://eusprdtransparencymrfp32.blob.core.windows.net/hphc/2023-02-01_831_provider-references.zip',\n",
              " 8999: 'https://eusprdtransparencymrfp32.blob.core.windows.net/hphc/2023-02-01_832_provider-references.zip',\n",
              " 9000: 'https://eusprdtransparencymrfp32.blob.core.windows.net/hphc/2023-02-01_834_provider-references.zip',\n",
              " 9002: 'https://eusprdtransparencymrfp32.blob.core.windows.net/hphc/2023-02-01_837_provider-references.zip',\n",
              " 9003: 'https://eusprdtransparencymrfp32.blob.core.windows.net/hphc/2023-02-01_838_provider-references.zip',\n",
              " 9004: 'https://eusprdtransparencymrfp32.blob.core.windows.net/hphc/2023-02-01_840_provider-references.zip',\n",
              " 9005: 'https://eusprdtransparencymrfp32.blob.core.windows.net/hphc/2023-02-01_841_provider-references.zip',\n",
              " 9006: 'https://eusprdtransparencymrfp32.blob.core.windows.net/hphc/2023-02-01_842_provider-references.zip',\n",
              " 9007: 'https://eusprdtransparencymrfp32.blob.core.windows.net/hphc/2023-02-01_843_provider-references.zip',\n",
              " 9008: 'https://eusprdtransparencymrfp32.blob.core.windows.net/hphc/2023-02-01_845_provider-references.zip',\n",
              " 9009: 'https://eusprdtransparencymrfp32.blob.core.windows.net/hphc/2023-02-01_846_provider-references.zip',\n",
              " 9010: 'https://eusprdtransparencymrfp32.blob.core.windows.net/hphc/2023-02-01_848_provider-references.zip',\n",
              " 9012: 'https://eusprdtransparencymrfp32.blob.core.windows.net/hphc/2023-02-01_851_provider-references.zip',\n",
              " 9016: 'https://eusprdtransparencymrfp32.blob.core.windows.net/hphc/2023-02-01_855_provider-references.zip',\n",
              " 9020: 'https://eusprdtransparencymrfp32.blob.core.windows.net/hphc/2023-02-01_859_provider-references.zip',\n",
              " 9021: 'https://eusprdtransparencymrfp32.blob.core.windows.net/hphc/2023-02-01_860_provider-references.zip',\n",
              " 9022: 'https://eusprdtransparencymrfp32.blob.core.windows.net/hphc/2023-02-01_861_provider-references.zip',\n",
              " 9023: 'https://eusprdtransparencymrfp32.blob.core.windows.net/hphc/2023-02-01_862_provider-references.zip',\n",
              " 9024: 'https://eusprdtransparencymrfp32.blob.core.windows.net/hphc/2023-02-01_863_provider-references.zip',\n",
              " 9025: 'https://eusprdtransparencymrfp32.blob.core.windows.net/hphc/2023-02-01_864_provider-references.zip',\n",
              " 9026: 'https://eusprdtransparencymrfp32.blob.core.windows.net/hphc/2023-02-01_866_provider-references.zip',\n",
              " 9027: 'https://eusprdtransparencymrfp32.blob.core.windows.net/hphc/2023-02-01_867_provider-references.zip',\n",
              " 9028: 'https://eusprdtransparencymrfp32.blob.core.windows.net/hphc/2023-02-01_868_provider-references.zip',\n",
              " 9029: 'https://eusprdtransparencymrfp32.blob.core.windows.net/hphc/2023-02-01_869_provider-references.zip',\n",
              " 9030: 'https://eusprdtransparencymrfp32.blob.core.windows.net/hphc/2023-02-01_870_provider-references.zip',\n",
              " 9031: 'https://eusprdtransparencymrfp32.blob.core.windows.net/hphc/2023-02-01_871_provider-references.zip',\n",
              " 9033: 'https://eusprdtransparencymrfp32.blob.core.windows.net/hphc/2023-02-01_874_provider-references.zip',\n",
              " 9034: 'https://eusprdtransparencymrfp32.blob.core.windows.net/hphc/2023-02-01_875_provider-references.zip',\n",
              " 9035: 'https://eusprdtransparencymrfp32.blob.core.windows.net/hphc/2023-02-01_876_provider-references.zip',\n",
              " 9037: 'https://eusprdtransparencymrfp32.blob.core.windows.net/hphc/2023-02-01_878_provider-references.zip',\n",
              " 9039: 'https://eusprdtransparencymrfp32.blob.core.windows.net/hphc/2023-02-01_880_provider-references.zip',\n",
              " 9040: 'https://eusprdtransparencymrfp32.blob.core.windows.net/hphc/2023-02-01_881_provider-references.zip',\n",
              " 9041: 'https://eusprdtransparencymrfp32.blob.core.windows.net/hphc/2023-02-01_882_provider-references.zip',\n",
              " 9042: 'https://eusprdtransparencymrfp32.blob.core.windows.net/hphc/2023-02-01_883_provider-references.zip',\n",
              " 9043: 'https://eusprdtransparencymrfp32.blob.core.windows.net/hphc/2023-02-01_884_provider-references.zip',\n",
              " 9044: 'https://eusprdtransparencymrfp32.blob.core.windows.net/hphc/2023-02-01_885_provider-references.zip',\n",
              " 9047: 'https://eusprdtransparencymrfp32.blob.core.windows.net/hphc/2023-02-01_888_provider-references.zip',\n",
              " 9048: 'https://eusprdtransparencymrfp32.blob.core.windows.net/hphc/2023-02-01_890_provider-references.zip',\n",
              " 9049: 'https://eusprdtransparencymrfp32.blob.core.windows.net/hphc/2023-02-01_891_provider-references.zip',\n",
              " 9052: 'https://eusprdtransparencymrfp32.blob.core.windows.net/hphc/2023-02-01_895_provider-references.zip',\n",
              " 9057: 'https://eusprdtransparencymrfp32.blob.core.windows.net/hphc/2023-02-01_900_provider-references.zip',\n",
              " 9058: 'https://eusprdtransparencymrfp32.blob.core.windows.net/hphc/2023-02-01_901_provider-references.zip',\n",
              " 9062: 'https://eusprdtransparencymrfp32.blob.core.windows.net/hphc/2023-02-01_905_provider-references.zip',\n",
              " 9063: 'https://eusprdtransparencymrfp32.blob.core.windows.net/hphc/2023-02-01_906_provider-references.zip',\n",
              " 9064: 'https://eusprdtransparencymrfp32.blob.core.windows.net/hphc/2023-02-01_907_provider-references.zip',\n",
              " 9065: 'https://eusprdtransparencymrfp32.blob.core.windows.net/hphc/2023-02-01_908_provider-references.zip',\n",
              " 9066: 'https://eusprdtransparencymrfp32.blob.core.windows.net/hphc/2023-02-01_909_provider-references.zip',\n",
              " 9067: 'https://eusprdtransparencymrfp32.blob.core.windows.net/hphc/2023-02-01_910_provider-references.zip',\n",
              " 9068: 'https://eusprdtransparencymrfp32.blob.core.windows.net/hphc/2023-02-01_911_provider-references.zip',\n",
              " 9069: 'https://eusprdtransparencymrfp32.blob.core.windows.net/hphc/2023-02-01_912_provider-references.zip',\n",
              " 9070: 'https://eusprdtransparencymrfp32.blob.core.windows.net/hphc/2023-02-01_913_provider-references.zip',\n",
              " 9073: 'https://eusprdtransparencymrfp32.blob.core.windows.net/hphc/2023-02-01_917_provider-references.zip',\n",
              " 9074: 'https://eusprdtransparencymrfp32.blob.core.windows.net/hphc/2023-02-01_918_provider-references.zip',\n",
              " 9076: 'https://eusprdtransparencymrfp32.blob.core.windows.net/hphc/2023-02-01_920_provider-references.zip',\n",
              " 9078: 'https://eusprdtransparencymrfp32.blob.core.windows.net/hphc/2023-02-01_923_provider-references.zip',\n",
              " 9082: 'https://eusprdtransparencymrfp32.blob.core.windows.net/hphc/2023-02-01_929_provider-references.zip',\n",
              " 9084: 'https://eusprdtransparencymrfp32.blob.core.windows.net/hphc/2023-02-01_931_provider-references.zip',\n",
              " 9085: 'https://eusprdtransparencymrfp32.blob.core.windows.net/hphc/2023-02-01_932_provider-references.zip',\n",
              " 9086: 'https://eusprdtransparencymrfp32.blob.core.windows.net/hphc/2023-02-01_933_provider-references.zip',\n",
              " 9087: 'https://eusprdtransparencymrfp32.blob.core.windows.net/hphc/2023-02-01_935_provider-references.zip',\n",
              " 9088: 'https://eusprdtransparencymrfp32.blob.core.windows.net/hphc/2023-02-01_936_provider-references.zip',\n",
              " 9089: 'https://eusprdtransparencymrfp32.blob.core.windows.net/hphc/2023-02-01_938_provider-references.zip',\n",
              " 9090: 'https://eusprdtransparencymrfp32.blob.core.windows.net/hphc/2023-02-01_939_provider-references.zip',\n",
              " 9091: 'https://eusprdtransparencymrfp32.blob.core.windows.net/hphc/2023-02-01_940_provider-references.zip',\n",
              " 9093: 'https://eusprdtransparencymrfp32.blob.core.windows.net/hphc/2023-02-01_942_provider-references.zip',\n",
              " 9094: 'https://eusprdtransparencymrfp32.blob.core.windows.net/hphc/2023-02-01_943_provider-references.zip',\n",
              " 9095: 'https://eusprdtransparencymrfp32.blob.core.windows.net/hphc/2023-02-01_946_provider-references.zip',\n",
              " 9098: 'https://eusprdtransparencymrfp32.blob.core.windows.net/hphc/2023-02-01_949_provider-references.zip',\n",
              " 9099: 'https://eusprdtransparencymrfp32.blob.core.windows.net/hphc/2023-02-01_951_provider-references.zip',\n",
              " 9100: 'https://eusprdtransparencymrfp32.blob.core.windows.net/hphc/2023-02-01_953_provider-references.zip',\n",
              " 9102: 'https://eusprdtransparencymrfp32.blob.core.windows.net/hphc/2023-02-01_955_provider-references.zip',\n",
              " 9104: 'https://eusprdtransparencymrfp32.blob.core.windows.net/hphc/2023-02-01_958_provider-references.zip',\n",
              " 9105: 'https://eusprdtransparencymrfp32.blob.core.windows.net/hphc/2023-02-01_959_provider-references.zip',\n",
              " 9106: 'https://eusprdtransparencymrfp32.blob.core.windows.net/hphc/2023-02-01_960_provider-references.zip',\n",
              " 9107: 'https://eusprdtransparencymrfp32.blob.core.windows.net/hphc/2023-02-01_961_provider-references.zip',\n",
              " 9108: 'https://eusprdtransparencymrfp32.blob.core.windows.net/hphc/2023-02-01_962_provider-references.zip',\n",
              " 9109: 'https://eusprdtransparencymrfp32.blob.core.windows.net/hphc/2023-02-01_964_provider-references.zip',\n",
              " 9110: 'https://eusprdtransparencymrfp32.blob.core.windows.net/hphc/2023-02-01_965_provider-references.zip',\n",
              " 9112: 'https://eusprdtransparencymrfp32.blob.core.windows.net/hphc/2023-02-01_974_provider-references.zip',\n",
              " 9113: 'https://eusprdtransparencymrfp32.blob.core.windows.net/hphc/2023-02-01_975_provider-references.zip',\n",
              " 9114: 'https://eusprdtransparencymrfp32.blob.core.windows.net/hphc/2023-02-01_976_provider-references.zip',\n",
              " 9115: 'https://eusprdtransparencymrfp32.blob.core.windows.net/hphc/2023-02-01_977_provider-references.zip',\n",
              " 9116: 'https://eusprdtransparencymrfp32.blob.core.windows.net/hphc/2023-02-01_978_provider-references.zip',\n",
              " 9117: 'https://eusprdtransparencymrfp32.blob.core.windows.net/hphc/2023-02-01_979_provider-references.zip',\n",
              " 9120: 'https://eusprdtransparencymrfp32.blob.core.windows.net/hphc/2023-02-01_983_provider-references.zip',\n",
              " 9121: 'https://eusprdtransparencymrfp32.blob.core.windows.net/hphc/2023-02-01_987_provider-references.zip',\n",
              " 9122: 'https://eusprdtransparencymrfp32.blob.core.windows.net/hphc/2023-02-01_988_provider-references.zip',\n",
              " 9127: 'https://eusprdtransparencymrfp32.blob.core.windows.net/hphc/2023-02-01_999_provider-references.zip',\n",
              " 9128: 'https://eusprdtransparencymrfp32.blob.core.windows.net/hphc/2023-02-01_1000_provider-references.zip',\n",
              " 9133: 'https://eusprdtransparencymrfp32.blob.core.windows.net/hphc/2023-02-01_1005_provider-references.zip',\n",
              " 9134: 'https://eusprdtransparencymrfp32.blob.core.windows.net/hphc/2023-02-01_1006_provider-references.zip',\n",
              " 9135: 'https://eusprdtransparencymrfp32.blob.core.windows.net/hphc/2023-02-01_1008_provider-references.zip',\n",
              " 9136: 'https://eusprdtransparencymrfp32.blob.core.windows.net/hphc/2023-02-01_1012_provider-references.zip',\n",
              " 9137: 'https://eusprdtransparencymrfp32.blob.core.windows.net/hphc/2023-02-01_1014_provider-references.zip',\n",
              " 9138: 'https://eusprdtransparencymrfp32.blob.core.windows.net/hphc/2023-02-01_1015_provider-references.zip',\n",
              " 9139: 'https://eusprdtransparencymrfp32.blob.core.windows.net/hphc/2023-02-01_1016_provider-references.zip',\n",
              " 9140: 'https://eusprdtransparencymrfp32.blob.core.windows.net/hphc/2023-02-01_1017_provider-references.zip',\n",
              " 9143: 'https://eusprdtransparencymrfp32.blob.core.windows.net/hphc/2023-02-01_1020_provider-references.zip',\n",
              " 9144: 'https://eusprdtransparencymrfp32.blob.core.windows.net/hphc/2023-02-01_1021_provider-references.zip',\n",
              " 9145: 'https://eusprdtransparencymrfp32.blob.core.windows.net/hphc/2023-02-01_1022_provider-references.zip',\n",
              " 9148: 'https://eusprdtransparencymrfp32.blob.core.windows.net/hphc/2023-02-01_1027_provider-references.zip',\n",
              " 9151: 'https://eusprdtransparencymrfp32.blob.core.windows.net/hphc/2023-02-01_1030_provider-references.zip',\n",
              " 9152: 'https://eusprdtransparencymrfp32.blob.core.windows.net/hphc/2023-02-01_1031_provider-references.zip',\n",
              " 9155: 'https://eusprdtransparencymrfp32.blob.core.windows.net/hphc/2023-02-01_1037_provider-references.zip',\n",
              " 9156: 'https://eusprdtransparencymrfp32.blob.core.windows.net/hphc/2023-02-01_1038_provider-references.zip',\n",
              " 9157: 'https://eusprdtransparencymrfp32.blob.core.windows.net/hphc/2023-02-01_1039_provider-references.zip',\n",
              " 9163: 'https://eusprdtransparencymrfp32.blob.core.windows.net/hphc/2023-02-01_1050_provider-references.zip',\n",
              " 9164: 'https://eusprdtransparencymrfp32.blob.core.windows.net/hphc/2023-02-01_1051_provider-references.zip',\n",
              " 9165: 'https://eusprdtransparencymrfp32.blob.core.windows.net/hphc/2023-02-01_1052_provider-references.zip',\n",
              " 9256: 'https://eusprdtransparencymrfp32.blob.core.windows.net/hphc/2023-02-01_1162_provider-references.zip',\n",
              " 9265: 'https://eusprdtransparencymrfp32.blob.core.windows.net/hphc/2023-02-01_1171_provider-references.zip',\n",
              " 9266: 'https://eusprdtransparencymrfp32.blob.core.windows.net/hphc/2023-02-01_1172_provider-references.zip',\n",
              " 9267: 'https://eusprdtransparencymrfp32.blob.core.windows.net/hphc/2023-02-01_1173_provider-references.zip',\n",
              " 9335: 'https://eusprdtransparencymrfp32.blob.core.windows.net/hphc/2023-02-01_1254_provider-references.zip',\n",
              " 9386: 'https://eusprdtransparencymrfp32.blob.core.windows.net/hphc/2023-02-01_1317_provider-references.zip',\n",
              " 9425: 'https://eusprdtransparencymrfp32.blob.core.windows.net/hphc/2023-02-01_1360_provider-references.zip',\n",
              " 9433: 'https://eusprdtransparencymrfp32.blob.core.windows.net/hphc/2023-02-01_1368_provider-references.zip',\n",
              " 9435: 'https://eusprdtransparencymrfp32.blob.core.windows.net/hphc/2023-02-01_1370_provider-references.zip'}"
            ]
          },
          "metadata": {},
          "execution_count": 48
        }
      ]
    },
    {
      "cell_type": "markdown",
      "source": [
        "can find these here:\n",
        "https://npiregistry.cms.hhs.gov/search\n",
        "https://npiregistry.cms.hhs.gov/provider-view/1760881627\n"
      ],
      "metadata": {
        "id": "EYEA3JrCztmG"
      }
    }
  ],
  "metadata": {
    "colab": {
      "machine_shape": "hm",
      "provenance": []
    },
    "gpuClass": "standard",
    "kernelspec": {
      "display_name": "Python 3",
      "name": "python3"
    },
    "language_info": {
      "name": "python"
    }
  },
  "nbformat": 4,
  "nbformat_minor": 0
}